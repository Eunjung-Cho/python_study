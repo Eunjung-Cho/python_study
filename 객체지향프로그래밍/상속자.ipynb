{
  "nbformat": 4,
  "nbformat_minor": 0,
  "metadata": {
    "colab": {
      "name": "상속자.ipynb",
      "provenance": [],
      "authorship_tag": "ABX9TyN/IMr6FLSMQaojj91QzjvZ",
      "include_colab_link": true
    },
    "kernelspec": {
      "name": "python3",
      "display_name": "Python 3"
    },
    "language_info": {
      "name": "python"
    }
  },
  "cells": [
    {
      "cell_type": "markdown",
      "metadata": {
        "id": "view-in-github",
        "colab_type": "text"
      },
      "source": [
        "<a href=\"https://colab.research.google.com/github/Eunjung-Cho/python_study/blob/master/%EC%83%81%EC%86%8D%EC%9E%90.ipynb\" target=\"_parent\"><img src=\"https://colab.research.google.com/assets/colab-badge.svg\" alt=\"Open In Colab\"/></a>"
      ]
    },
    {
      "cell_type": "code",
      "metadata": {
        "colab": {
          "base_uri": "https://localhost:8080/"
        },
        "id": "EjXHgTz6lgnC",
        "outputId": "3129340e-ac7b-49e2-c9e6-b44ea8f7e45d"
      },
      "source": [
        "class BaseClass:\n",
        "  def __init__(self):\n",
        "    print('Creating an inastance of Base Class')\n",
        "\n",
        "  def myMethod(self):\n",
        "    print('calling base method')\n",
        "\n",
        "class Child(BaseClass):\n",
        "  def __init__(self):\n",
        "    super().__init__()\n",
        "    print('Creating a child instance')\n",
        "\n",
        "# child 는 mymethod를 상속받게된다.\n",
        "\n",
        "if __name__ == '__main__':\n",
        "  instance = Child()\n",
        "  instance.myMethod()\n",
        "\n"
      ],
      "execution_count": 2,
      "outputs": [
        {
          "output_type": "stream",
          "text": [
            "Creating an inastance of Base Class\n",
            "Creating a child instance\n",
            "calling base method\n"
          ],
          "name": "stdout"
        }
      ]
    },
    {
      "cell_type": "code",
      "metadata": {
        "colab": {
          "base_uri": "https://localhost:8080/"
        },
        "id": "xKIk3pqsmXHq",
        "outputId": "cb7e8f05-c7c5-4c7a-a64b-b3d98ca96422"
      },
      "source": [
        "class BaseClass:\n",
        "  def __init__(self):\n",
        "    print('Creating an inastance of Base Class')\n",
        "\n",
        "  def myMethod(self):\n",
        "    print('calling base method')\n",
        "\n",
        "class Child(BaseClass):\n",
        "  def __init__(self):\n",
        "    super().__init__()\n",
        "    print('Creating a child instance')\n",
        "\n",
        "  def myMethod(self):\n",
        "    print('calling child method') #위의 myMethod가 아닌 상속받은 myMethod가 실행된다.\n",
        "\n",
        "\n",
        "# child 는 mymethod를 상속받게된다.\n",
        "\n",
        "if __name__ == '__main__':\n",
        "  instance = Child()\n",
        "  instance.myMethod()\n"
      ],
      "execution_count": 3,
      "outputs": [
        {
          "output_type": "stream",
          "text": [
            "Creating an inastance of Base Class\n",
            "Creating a child instance\n",
            "calling child method\n"
          ],
          "name": "stdout"
        }
      ]
    },
    {
      "cell_type": "markdown",
      "metadata": {
        "id": "ByX0naFymmk4"
      },
      "source": [
        "# 추상Method\n"
      ]
    }
  ]
}
