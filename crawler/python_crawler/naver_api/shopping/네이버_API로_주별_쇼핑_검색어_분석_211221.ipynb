{
  "nbformat": 4,
  "nbformat_minor": 0,
  "metadata": {
    "colab": {
      "name": "네이버 API로 주별 쇼핑 검색어 분석_211221.ipynb",
      "provenance": [],
      "collapsed_sections": [],
      "authorship_tag": "ABX9TyP516Y8vixJ/ThrdE1jfKfW",
      "include_colab_link": true
    },
    "kernelspec": {
      "name": "python3",
      "display_name": "Python 3"
    },
    "language_info": {
      "name": "python"
    }
  },
  "cells": [
    {
      "cell_type": "markdown",
      "metadata": {
        "id": "view-in-github",
        "colab_type": "text"
      },
      "source": [
        "<a href=\"https://colab.research.google.com/github/Eunjung-Cho/python_study/blob/master/crawler/python_crawler/naver_api/shopping/%EB%84%A4%EC%9D%B4%EB%B2%84_API%EB%A1%9C_%EC%A3%BC%EB%B3%84_%EC%87%BC%ED%95%91_%EA%B2%80%EC%83%89%EC%96%B4_%EB%B6%84%EC%84%9D_211221.ipynb\" target=\"_parent\"><img src=\"https://colab.research.google.com/assets/colab-badge.svg\" alt=\"Open In Colab\"/></a>"
      ]
    },
    {
      "cell_type": "markdown",
      "source": [
        "# 네이버 API로 주별 쇼핑 검색어 분석\n",
        "\n",
        "* [네이버 API 링크 참고](https://developers.naver.com/products/service-api/datalab/datalab.md)\n",
        "\n",
        "> API(Application Progamming Interface): 어플리케이션 소프트웨어 구축 및 통합을 위한 정의 및 프로토콜 세트\n",
        "사용이유: 제품 또는 서비스가 서로 커뮤니케이션 가능, 어플리케이션 개발 간소화 (시간/비용 절약) \n",
        "\n",
        "\n",
        "> 네이버 데이터랩\n",
        "쇼핑인사이트: 네이터 통합검색의 쇼핑영역, 네이버쇼핑의 검색결과에서 사용자가 클릭한 데이터를 조회할 수 있는 API\n",
        "\n",
        "- 분야별 통계 -> 재고관리, 마케팅 등에 활용 \n",
        "- 사업하고 있는 분야에 대한 검색어 클릭 추이 파악 -> 재고 관리 활용\n",
        "- 사업하고 있는 분야의 주요 구매층의 클릭 추이 파악(연령별,성별, 기기별 클릭 비중과 추이)\n",
        "※ 분야 조회는 네이버쇼핑 서비스의 URL에서 cat_id 파라미터의 값(cat_id=숫자에서 숫자)으로 조회할 수 있습니다. 예를 들어 https://search.shopping.naver.com/search/category.nhn?cat_id=50000805에서 cat_id 파라미터의 값인 50000805는 패션의류 > 여성의류 > 니트,스웨터 분야를 나타내는 값입니다.\n",
        "- 상품과 관련된 검색어의 검색 추이와 검색어별 통계를 제공합니다. 검색어 통계는 마케팅 타깃을 설정하는 데 활용할 수 있습니다. 특정 쇼핑 분야에서 클릭이 발생한 검색어의 연령별, 성별, 기기별 세부 통계를 확인할 수 있습니다.\n",
        "\n",
        "※ 쇼핑인사이트가 제공하는 값은 요청한 기간 중 클릭 횟수가 가장 높은 값을 100으로 두고 나머지 값을 100에 대한 상대적 값으로 표현한 값입니다."
      ],
      "metadata": {
        "id": "Ecc0Cvv7oJL1"
      }
    },
    {
      "cell_type": "markdown",
      "source": [
        "★ 참고레퍼런스\n",
        "\n",
        "[네이버 검색어 트렌드 및 시각화하기](https://wooiljeong.github.io/python/naver_datalab_open_api/)\n",
        "\n",
        "[마켓컬리 네이버 검색량 알아보기](https://yobro.tistory.com/175)\n",
        "\n",
        "[검색어 트렌드 크롤링 툴](https://brunch.co.kr/@sukhyun9673/13)\n",
        "\n",
        "[네이버 쇼핑 인사이트 API](https://betterinvesting.tistory.com/269)\n",
        "\n",
        "[코로나 관련 검색어 트랜드 데이터 수집](https://outyj.tistory.com/9)\n",
        "\n",
        "[쇼핑카테고리 별 트렌드 쉽게 가지고 오기](https://junglow9.tistory.com/33)"
      ],
      "metadata": {
        "id": "RJNEASGO43VK"
      }
    },
    {
      "cell_type": "markdown",
      "source": [
        "## 0. 코랩 세팅 준비"
      ],
      "metadata": {
        "id": "zVJ9AWKnp-W7"
      }
    },
    {
      "cell_type": "markdown",
      "source": [
        "## 필요한 라이브러리"
      ],
      "metadata": {
        "id": "spqAuBetZRqp"
      }
    },
    {
      "cell_type": "code",
      "execution_count": 2,
      "metadata": {
        "id": "TU06ji5WoIok"
      },
      "outputs": [],
      "source": [
        "import os\n",
        "import sys\n",
        "import urllib.request\n",
        "import json\n",
        "import pandas as pd\n",
        "from IPython.display import display\n",
        "import matplotlib.pyplot as plt\n",
        "import re"
      ]
    },
    {
      "cell_type": "markdown",
      "source": [
        "- 브래키츠_조은정 client_id 로\n",
        "https://developers.naver.com/apps/#/myapps/MPXfJyDQEVDRagoqt2hv/overview\n"
      ],
      "metadata": {
        "id": "KPIbFWFPfovB"
      }
    },
    {
      "cell_type": "code",
      "source": [
        "client_id = \"MPXfJyDQEVDRagoqt2hv\"\n",
        "client_secret = \"zaOlzPsw1j\"\n",
        "\n",
        "import requests \n",
        "import json \n",
        "import pprint \n",
        "\n",
        "url = \"https://openapi.naver.com/v1/datalab/shopping/categories\" \n",
        "payload = {\"startDate\": \"2017-08-01\", \n",
        "           \"endDate\": \"2017-09-30\", \n",
        "           \"timeUnit\": \"month\", \n",
        "           \"category\": [ {\"name\": \"패션의류\", \"param\": [\"50000000\"]}, \n",
        "                        {\"name\": \"화장품/미용\", \"param\": [\"50000002\"]}], \n",
        "           \"device\": \"pc\", \n",
        "           \"ages\": [\"20\", \"30\"], \n",
        "           \"gender\": \"f\"}\n",
        "\n",
        "headers = {\"X-Naver-Client-Id\": client_id, \"X-Naver-Client-Secret\": client_secret, \"Content-Type\": \"application/json\"} \n",
        "res = requests.post(url, data=json.dumps(payload), headers=headers) \n",
        "\n",
        "print(res.status_code) \n",
        "aaa = json.loads(res.text) \n",
        "pprint.pprint(aaa)\n"
      ],
      "metadata": {
        "colab": {
          "base_uri": "https://localhost:8080/"
        },
        "id": "C8AYtzeeZsF5",
        "outputId": "31f45c16-cf85-43b9-8410-279fbfad5009"
      },
      "execution_count": 12,
      "outputs": [
        {
          "output_type": "stream",
          "name": "stdout",
          "text": [
            "200\n",
            "{'endDate': '2017-09-30',\n",
            " 'results': [{'category': ['50000000'],\n",
            "              'data': [{'period': '2017-08-01', 'ratio': 84.01252},\n",
            "                       {'period': '2017-09-01', 'ratio': 100}],\n",
            "              'title': '패션의류'},\n",
            "             {'category': ['50000002'],\n",
            "              'data': [{'period': '2017-08-01', 'ratio': 22.21162},\n",
            "                       {'period': '2017-09-01', 'ratio': 21.54278}],\n",
            "              'title': '화장품/미용'}],\n",
            " 'startDate': '2017-08-01',\n",
            " 'timeUnit': 'month'}\n"
          ]
        }
      ]
    },
    {
      "cell_type": "markdown",
      "source": [
        "### 위에 코드 데이터프레임화 시키기"
      ],
      "metadata": {
        "id": "q6LClkiff0u7"
      }
    },
    {
      "cell_type": "markdown",
      "source": [
        "## 1. 데이터 수집_네이버 API로 데이터 크롤링\n",
        "\n",
        "[네이버 개발자 API 참고](https://developers.naver.com/docs/serviceapi/search/shopping/shopping.md#%EC%87%BC%ED%95%91)"
      ],
      "metadata": {
        "id": "vI77vCfIqDZb"
      }
    },
    {
      "cell_type": "code",
      "source": [
        "import os\n",
        "import sys\n",
        "import urllib.request\n",
        "import json\n",
        "import pandas as pd\n",
        "from IPython.display import display\n",
        "import matplotlib.pyplot as plt\n",
        "\n",
        "client_id = \"EtWtbcxrug5u7VvHRzMr\"\n",
        "client_secret = \"GVuA6qjhow\"\n",
        "url = \"https://openapi.naver.com/v1/datalab/search\";\n",
        "\n",
        "keyword_groups = [\n",
        "                  {\"groupName\": \"코로나\", \"keywords\": [\"코로나\", \"covid-19\"]},\n",
        "                  {\"groupName\": \"원피스\", \"keywords\": [\"원피스\"] }\n",
        "]\n",
        "\n",
        "body = json.dumps({\n",
        "    \"startDate\": \"2021-07-01\",\n",
        "    \"endDate\": \"2021-08-27\",\n",
        "    \"timeUnit\": \"week\",\n",
        "    \"keywordGroups\": keyword_groups,\n",
        "    \"device\":\"pc\",\n",
        "    \"ages\": [\"3\",\"4\",\"5\"],\n",
        "    \"gender\": \"f\"\n",
        "}, ensure_ascii=False)\n",
        "\n",
        "request = urllib.request.Request(url)\n",
        "request.add_header(\"X-Naver-Client-Id\",client_id)\n",
        "request.add_header(\"X-Naver-Client-Secret\",client_secret)\n",
        "request.add_header(\"Content-Type\",\"application/json\")\n",
        "response = urllib.request.urlopen(request, data=body.encode(\"utf-8\"))\n",
        "rescode = response.getcode()\n",
        "if(rescode==200):\n",
        "    response_body = response.read()\n",
        "    print(response_body.decode('utf-8'))\n",
        "    print(\"-\" * 50)\n",
        "    res = response_body.decode('utf-8')\n",
        "    res = json.loads(res)\n",
        "    print(res)\n",
        "    print(\"-\" * 50)\n",
        "    results = res[\"results\"]\n",
        "    print(results)\n",
        "    for result in results:\n",
        "      df = pd.DataFrame(data=result[\"data\"])\n",
        "      df.columns.name = result[\"title\"]\n",
        "      display(df)\n",
        "else:\n",
        "    print(\"Error Code:\" + rescode)"
      ],
      "metadata": {
        "colab": {
          "base_uri": "https://localhost:8080/",
          "height": 758
        },
        "id": "9V6ont60faWQ",
        "outputId": "2cb45724-a513-4305-c660-65c738e4089c"
      },
      "execution_count": 13,
      "outputs": [
        {
          "output_type": "stream",
          "name": "stdout",
          "text": [
            "{\"startDate\":\"2021-06-28\",\"endDate\":\"2021-08-29\",\"timeUnit\":\"week\",\"results\":[{\"title\":\"코로나\",\"keywords\":[\"코로나\",\"covid-19\"],\"data\":[{\"period\":\"2021-06-28\",\"ratio\":24.52658},{\"period\":\"2021-07-05\",\"ratio\":100},{\"period\":\"2021-07-12\",\"ratio\":72.66324},{\"period\":\"2021-07-19\",\"ratio\":68.68416},{\"period\":\"2021-07-26\",\"ratio\":43.57595},{\"period\":\"2021-08-02\",\"ratio\":34.56169},{\"period\":\"2021-08-09\",\"ratio\":46.04983},{\"period\":\"2021-08-16\",\"ratio\":32.92325},{\"period\":\"2021-08-23\",\"ratio\":26.84747}]},{\"title\":\"원피스\",\"keywords\":[\"원피스\"],\"data\":[{\"period\":\"2021-06-28\",\"ratio\":1.5912},{\"period\":\"2021-07-05\",\"ratio\":1.48263},{\"period\":\"2021-07-12\",\"ratio\":1.58133},{\"period\":\"2021-07-19\",\"ratio\":1.54608},{\"period\":\"2021-07-26\",\"ratio\":1.34022},{\"period\":\"2021-08-02\",\"ratio\":1.26901},{\"period\":\"2021-08-09\",\"ratio\":1.13506},{\"period\":\"2021-08-16\",\"ratio\":0.96797},{\"period\":\"2021-08-23\",\"ratio\":1.08148}]}]}\n",
            "--------------------------------------------------\n",
            "{'startDate': '2021-06-28', 'endDate': '2021-08-29', 'timeUnit': 'week', 'results': [{'title': '코로나', 'keywords': ['코로나', 'covid-19'], 'data': [{'period': '2021-06-28', 'ratio': 24.52658}, {'period': '2021-07-05', 'ratio': 100}, {'period': '2021-07-12', 'ratio': 72.66324}, {'period': '2021-07-19', 'ratio': 68.68416}, {'period': '2021-07-26', 'ratio': 43.57595}, {'period': '2021-08-02', 'ratio': 34.56169}, {'period': '2021-08-09', 'ratio': 46.04983}, {'period': '2021-08-16', 'ratio': 32.92325}, {'period': '2021-08-23', 'ratio': 26.84747}]}, {'title': '원피스', 'keywords': ['원피스'], 'data': [{'period': '2021-06-28', 'ratio': 1.5912}, {'period': '2021-07-05', 'ratio': 1.48263}, {'period': '2021-07-12', 'ratio': 1.58133}, {'period': '2021-07-19', 'ratio': 1.54608}, {'period': '2021-07-26', 'ratio': 1.34022}, {'period': '2021-08-02', 'ratio': 1.26901}, {'period': '2021-08-09', 'ratio': 1.13506}, {'period': '2021-08-16', 'ratio': 0.96797}, {'period': '2021-08-23', 'ratio': 1.08148}]}]}\n",
            "--------------------------------------------------\n",
            "[{'title': '코로나', 'keywords': ['코로나', 'covid-19'], 'data': [{'period': '2021-06-28', 'ratio': 24.52658}, {'period': '2021-07-05', 'ratio': 100}, {'period': '2021-07-12', 'ratio': 72.66324}, {'period': '2021-07-19', 'ratio': 68.68416}, {'period': '2021-07-26', 'ratio': 43.57595}, {'period': '2021-08-02', 'ratio': 34.56169}, {'period': '2021-08-09', 'ratio': 46.04983}, {'period': '2021-08-16', 'ratio': 32.92325}, {'period': '2021-08-23', 'ratio': 26.84747}]}, {'title': '원피스', 'keywords': ['원피스'], 'data': [{'period': '2021-06-28', 'ratio': 1.5912}, {'period': '2021-07-05', 'ratio': 1.48263}, {'period': '2021-07-12', 'ratio': 1.58133}, {'period': '2021-07-19', 'ratio': 1.54608}, {'period': '2021-07-26', 'ratio': 1.34022}, {'period': '2021-08-02', 'ratio': 1.26901}, {'period': '2021-08-09', 'ratio': 1.13506}, {'period': '2021-08-16', 'ratio': 0.96797}, {'period': '2021-08-23', 'ratio': 1.08148}]}]\n"
          ]
        },
        {
          "output_type": "display_data",
          "data": {
            "text/html": [
              "\n",
              "  <div id=\"df-3beafa51-5c38-4bda-a66b-8fd4333be879\">\n",
              "    <div class=\"colab-df-container\">\n",
              "      <div>\n",
              "<style scoped>\n",
              "    .dataframe tbody tr th:only-of-type {\n",
              "        vertical-align: middle;\n",
              "    }\n",
              "\n",
              "    .dataframe tbody tr th {\n",
              "        vertical-align: top;\n",
              "    }\n",
              "\n",
              "    .dataframe thead th {\n",
              "        text-align: right;\n",
              "    }\n",
              "</style>\n",
              "<table border=\"1\" class=\"dataframe\">\n",
              "  <thead>\n",
              "    <tr style=\"text-align: right;\">\n",
              "      <th>코로나</th>\n",
              "      <th>period</th>\n",
              "      <th>ratio</th>\n",
              "    </tr>\n",
              "  </thead>\n",
              "  <tbody>\n",
              "    <tr>\n",
              "      <th>0</th>\n",
              "      <td>2021-06-28</td>\n",
              "      <td>24.52658</td>\n",
              "    </tr>\n",
              "    <tr>\n",
              "      <th>1</th>\n",
              "      <td>2021-07-05</td>\n",
              "      <td>100.00000</td>\n",
              "    </tr>\n",
              "    <tr>\n",
              "      <th>2</th>\n",
              "      <td>2021-07-12</td>\n",
              "      <td>72.66324</td>\n",
              "    </tr>\n",
              "    <tr>\n",
              "      <th>3</th>\n",
              "      <td>2021-07-19</td>\n",
              "      <td>68.68416</td>\n",
              "    </tr>\n",
              "    <tr>\n",
              "      <th>4</th>\n",
              "      <td>2021-07-26</td>\n",
              "      <td>43.57595</td>\n",
              "    </tr>\n",
              "    <tr>\n",
              "      <th>5</th>\n",
              "      <td>2021-08-02</td>\n",
              "      <td>34.56169</td>\n",
              "    </tr>\n",
              "    <tr>\n",
              "      <th>6</th>\n",
              "      <td>2021-08-09</td>\n",
              "      <td>46.04983</td>\n",
              "    </tr>\n",
              "    <tr>\n",
              "      <th>7</th>\n",
              "      <td>2021-08-16</td>\n",
              "      <td>32.92325</td>\n",
              "    </tr>\n",
              "    <tr>\n",
              "      <th>8</th>\n",
              "      <td>2021-08-23</td>\n",
              "      <td>26.84747</td>\n",
              "    </tr>\n",
              "  </tbody>\n",
              "</table>\n",
              "</div>\n",
              "      <button class=\"colab-df-convert\" onclick=\"convertToInteractive('df-3beafa51-5c38-4bda-a66b-8fd4333be879')\"\n",
              "              title=\"Convert this dataframe to an interactive table.\"\n",
              "              style=\"display:none;\">\n",
              "        \n",
              "  <svg xmlns=\"http://www.w3.org/2000/svg\" height=\"24px\"viewBox=\"0 0 24 24\"\n",
              "       width=\"24px\">\n",
              "    <path d=\"M0 0h24v24H0V0z\" fill=\"none\"/>\n",
              "    <path d=\"M18.56 5.44l.94 2.06.94-2.06 2.06-.94-2.06-.94-.94-2.06-.94 2.06-2.06.94zm-11 1L8.5 8.5l.94-2.06 2.06-.94-2.06-.94L8.5 2.5l-.94 2.06-2.06.94zm10 10l.94 2.06.94-2.06 2.06-.94-2.06-.94-.94-2.06-.94 2.06-2.06.94z\"/><path d=\"M17.41 7.96l-1.37-1.37c-.4-.4-.92-.59-1.43-.59-.52 0-1.04.2-1.43.59L10.3 9.45l-7.72 7.72c-.78.78-.78 2.05 0 2.83L4 21.41c.39.39.9.59 1.41.59.51 0 1.02-.2 1.41-.59l7.78-7.78 2.81-2.81c.8-.78.8-2.07 0-2.86zM5.41 20L4 18.59l7.72-7.72 1.47 1.35L5.41 20z\"/>\n",
              "  </svg>\n",
              "      </button>\n",
              "      \n",
              "  <style>\n",
              "    .colab-df-container {\n",
              "      display:flex;\n",
              "      flex-wrap:wrap;\n",
              "      gap: 12px;\n",
              "    }\n",
              "\n",
              "    .colab-df-convert {\n",
              "      background-color: #E8F0FE;\n",
              "      border: none;\n",
              "      border-radius: 50%;\n",
              "      cursor: pointer;\n",
              "      display: none;\n",
              "      fill: #1967D2;\n",
              "      height: 32px;\n",
              "      padding: 0 0 0 0;\n",
              "      width: 32px;\n",
              "    }\n",
              "\n",
              "    .colab-df-convert:hover {\n",
              "      background-color: #E2EBFA;\n",
              "      box-shadow: 0px 1px 2px rgba(60, 64, 67, 0.3), 0px 1px 3px 1px rgba(60, 64, 67, 0.15);\n",
              "      fill: #174EA6;\n",
              "    }\n",
              "\n",
              "    [theme=dark] .colab-df-convert {\n",
              "      background-color: #3B4455;\n",
              "      fill: #D2E3FC;\n",
              "    }\n",
              "\n",
              "    [theme=dark] .colab-df-convert:hover {\n",
              "      background-color: #434B5C;\n",
              "      box-shadow: 0px 1px 3px 1px rgba(0, 0, 0, 0.15);\n",
              "      filter: drop-shadow(0px 1px 2px rgba(0, 0, 0, 0.3));\n",
              "      fill: #FFFFFF;\n",
              "    }\n",
              "  </style>\n",
              "\n",
              "      <script>\n",
              "        const buttonEl =\n",
              "          document.querySelector('#df-3beafa51-5c38-4bda-a66b-8fd4333be879 button.colab-df-convert');\n",
              "        buttonEl.style.display =\n",
              "          google.colab.kernel.accessAllowed ? 'block' : 'none';\n",
              "\n",
              "        async function convertToInteractive(key) {\n",
              "          const element = document.querySelector('#df-3beafa51-5c38-4bda-a66b-8fd4333be879');\n",
              "          const dataTable =\n",
              "            await google.colab.kernel.invokeFunction('convertToInteractive',\n",
              "                                                     [key], {});\n",
              "          if (!dataTable) return;\n",
              "\n",
              "          const docLinkHtml = 'Like what you see? Visit the ' +\n",
              "            '<a target=\"_blank\" href=https://colab.research.google.com/notebooks/data_table.ipynb>data table notebook</a>'\n",
              "            + ' to learn more about interactive tables.';\n",
              "          element.innerHTML = '';\n",
              "          dataTable['output_type'] = 'display_data';\n",
              "          await google.colab.output.renderOutput(dataTable, element);\n",
              "          const docLink = document.createElement('div');\n",
              "          docLink.innerHTML = docLinkHtml;\n",
              "          element.appendChild(docLink);\n",
              "        }\n",
              "      </script>\n",
              "    </div>\n",
              "  </div>\n",
              "  "
            ],
            "text/plain": [
              "코로나      period      ratio\n",
              "0    2021-06-28   24.52658\n",
              "1    2021-07-05  100.00000\n",
              "2    2021-07-12   72.66324\n",
              "3    2021-07-19   68.68416\n",
              "4    2021-07-26   43.57595\n",
              "5    2021-08-02   34.56169\n",
              "6    2021-08-09   46.04983\n",
              "7    2021-08-16   32.92325\n",
              "8    2021-08-23   26.84747"
            ]
          },
          "metadata": {}
        },
        {
          "output_type": "display_data",
          "data": {
            "text/html": [
              "\n",
              "  <div id=\"df-a87ba549-0c25-4086-97d4-4b420083b691\">\n",
              "    <div class=\"colab-df-container\">\n",
              "      <div>\n",
              "<style scoped>\n",
              "    .dataframe tbody tr th:only-of-type {\n",
              "        vertical-align: middle;\n",
              "    }\n",
              "\n",
              "    .dataframe tbody tr th {\n",
              "        vertical-align: top;\n",
              "    }\n",
              "\n",
              "    .dataframe thead th {\n",
              "        text-align: right;\n",
              "    }\n",
              "</style>\n",
              "<table border=\"1\" class=\"dataframe\">\n",
              "  <thead>\n",
              "    <tr style=\"text-align: right;\">\n",
              "      <th>원피스</th>\n",
              "      <th>period</th>\n",
              "      <th>ratio</th>\n",
              "    </tr>\n",
              "  </thead>\n",
              "  <tbody>\n",
              "    <tr>\n",
              "      <th>0</th>\n",
              "      <td>2021-06-28</td>\n",
              "      <td>1.59120</td>\n",
              "    </tr>\n",
              "    <tr>\n",
              "      <th>1</th>\n",
              "      <td>2021-07-05</td>\n",
              "      <td>1.48263</td>\n",
              "    </tr>\n",
              "    <tr>\n",
              "      <th>2</th>\n",
              "      <td>2021-07-12</td>\n",
              "      <td>1.58133</td>\n",
              "    </tr>\n",
              "    <tr>\n",
              "      <th>3</th>\n",
              "      <td>2021-07-19</td>\n",
              "      <td>1.54608</td>\n",
              "    </tr>\n",
              "    <tr>\n",
              "      <th>4</th>\n",
              "      <td>2021-07-26</td>\n",
              "      <td>1.34022</td>\n",
              "    </tr>\n",
              "    <tr>\n",
              "      <th>5</th>\n",
              "      <td>2021-08-02</td>\n",
              "      <td>1.26901</td>\n",
              "    </tr>\n",
              "    <tr>\n",
              "      <th>6</th>\n",
              "      <td>2021-08-09</td>\n",
              "      <td>1.13506</td>\n",
              "    </tr>\n",
              "    <tr>\n",
              "      <th>7</th>\n",
              "      <td>2021-08-16</td>\n",
              "      <td>0.96797</td>\n",
              "    </tr>\n",
              "    <tr>\n",
              "      <th>8</th>\n",
              "      <td>2021-08-23</td>\n",
              "      <td>1.08148</td>\n",
              "    </tr>\n",
              "  </tbody>\n",
              "</table>\n",
              "</div>\n",
              "      <button class=\"colab-df-convert\" onclick=\"convertToInteractive('df-a87ba549-0c25-4086-97d4-4b420083b691')\"\n",
              "              title=\"Convert this dataframe to an interactive table.\"\n",
              "              style=\"display:none;\">\n",
              "        \n",
              "  <svg xmlns=\"http://www.w3.org/2000/svg\" height=\"24px\"viewBox=\"0 0 24 24\"\n",
              "       width=\"24px\">\n",
              "    <path d=\"M0 0h24v24H0V0z\" fill=\"none\"/>\n",
              "    <path d=\"M18.56 5.44l.94 2.06.94-2.06 2.06-.94-2.06-.94-.94-2.06-.94 2.06-2.06.94zm-11 1L8.5 8.5l.94-2.06 2.06-.94-2.06-.94L8.5 2.5l-.94 2.06-2.06.94zm10 10l.94 2.06.94-2.06 2.06-.94-2.06-.94-.94-2.06-.94 2.06-2.06.94z\"/><path d=\"M17.41 7.96l-1.37-1.37c-.4-.4-.92-.59-1.43-.59-.52 0-1.04.2-1.43.59L10.3 9.45l-7.72 7.72c-.78.78-.78 2.05 0 2.83L4 21.41c.39.39.9.59 1.41.59.51 0 1.02-.2 1.41-.59l7.78-7.78 2.81-2.81c.8-.78.8-2.07 0-2.86zM5.41 20L4 18.59l7.72-7.72 1.47 1.35L5.41 20z\"/>\n",
              "  </svg>\n",
              "      </button>\n",
              "      \n",
              "  <style>\n",
              "    .colab-df-container {\n",
              "      display:flex;\n",
              "      flex-wrap:wrap;\n",
              "      gap: 12px;\n",
              "    }\n",
              "\n",
              "    .colab-df-convert {\n",
              "      background-color: #E8F0FE;\n",
              "      border: none;\n",
              "      border-radius: 50%;\n",
              "      cursor: pointer;\n",
              "      display: none;\n",
              "      fill: #1967D2;\n",
              "      height: 32px;\n",
              "      padding: 0 0 0 0;\n",
              "      width: 32px;\n",
              "    }\n",
              "\n",
              "    .colab-df-convert:hover {\n",
              "      background-color: #E2EBFA;\n",
              "      box-shadow: 0px 1px 2px rgba(60, 64, 67, 0.3), 0px 1px 3px 1px rgba(60, 64, 67, 0.15);\n",
              "      fill: #174EA6;\n",
              "    }\n",
              "\n",
              "    [theme=dark] .colab-df-convert {\n",
              "      background-color: #3B4455;\n",
              "      fill: #D2E3FC;\n",
              "    }\n",
              "\n",
              "    [theme=dark] .colab-df-convert:hover {\n",
              "      background-color: #434B5C;\n",
              "      box-shadow: 0px 1px 3px 1px rgba(0, 0, 0, 0.15);\n",
              "      filter: drop-shadow(0px 1px 2px rgba(0, 0, 0, 0.3));\n",
              "      fill: #FFFFFF;\n",
              "    }\n",
              "  </style>\n",
              "\n",
              "      <script>\n",
              "        const buttonEl =\n",
              "          document.querySelector('#df-a87ba549-0c25-4086-97d4-4b420083b691 button.colab-df-convert');\n",
              "        buttonEl.style.display =\n",
              "          google.colab.kernel.accessAllowed ? 'block' : 'none';\n",
              "\n",
              "        async function convertToInteractive(key) {\n",
              "          const element = document.querySelector('#df-a87ba549-0c25-4086-97d4-4b420083b691');\n",
              "          const dataTable =\n",
              "            await google.colab.kernel.invokeFunction('convertToInteractive',\n",
              "                                                     [key], {});\n",
              "          if (!dataTable) return;\n",
              "\n",
              "          const docLinkHtml = 'Like what you see? Visit the ' +\n",
              "            '<a target=\"_blank\" href=https://colab.research.google.com/notebooks/data_table.ipynb>data table notebook</a>'\n",
              "            + ' to learn more about interactive tables.';\n",
              "          element.innerHTML = '';\n",
              "          dataTable['output_type'] = 'display_data';\n",
              "          await google.colab.output.renderOutput(dataTable, element);\n",
              "          const docLink = document.createElement('div');\n",
              "          docLink.innerHTML = docLinkHtml;\n",
              "          element.appendChild(docLink);\n",
              "        }\n",
              "      </script>\n",
              "    </div>\n",
              "  </div>\n",
              "  "
            ],
            "text/plain": [
              "원피스      period    ratio\n",
              "0    2021-06-28  1.59120\n",
              "1    2021-07-05  1.48263\n",
              "2    2021-07-12  1.58133\n",
              "3    2021-07-19  1.54608\n",
              "4    2021-07-26  1.34022\n",
              "5    2021-08-02  1.26901\n",
              "6    2021-08-09  1.13506\n",
              "7    2021-08-16  0.96797\n",
              "8    2021-08-23  1.08148"
            ]
          },
          "metadata": {}
        }
      ]
    },
    {
      "cell_type": "markdown",
      "source": [
        "### 위의 코드 csv 파일로 저장하고 태블로에서 그래프 살펴보기"
      ],
      "metadata": {
        "id": "OaVxtc3teJQl"
      }
    },
    {
      "cell_type": "code",
      "source": [
        "query = urllib.parse.quote(input(\"검색 질의: \"))\n",
        "idx=0\n",
        "display=100\n",
        "start=1\n",
        "end=1000\n",
        "sort=\"sim\"\n",
        "\n",
        "\n",
        "\n",
        "#컬럼 정의는 위의 링크의 4.출력결과 테이블 참고\n",
        "shop_df = pd.DataFrame(columns=(\"Title\", \"Link\", \"Image\", \"Low price\", \"High Price\", \"Mall Name\", \"Product ID\", \"Product Type\", \"Maker\", \"Brand\"))\n",
        "\n",
        "for start_index in range(start, end, display):\n",
        "  url = \"https://openapi.naver.com/v1/search/shop?query=\" + query + \"&display=\" + str(display) + \"&start\" + str(start_index) + \"&sort=\" + sort\n",
        "\n",
        "  request = urllib.request.Request(url)\n",
        "  request.add_header(\"X-Naver-Client-Id\",client_id)\n",
        "  request.add_header(\"X-Naver-Client-Secret\",client_secret)\n",
        "  request.add_header(\"Content-Type\",\"application/json\")\n",
        "  response = urllib.request.urlopen(request)\n",
        "  rescode = response.getcode()\n",
        "  if(rescode==200):\n",
        "    response_body = response.read()\n",
        "    response_dict = json.loads(response_body.decode('utf-8'))\n",
        "    items = response_dict['items']\n",
        "    for item_index in range(0, len(items)):\n",
        "      remove_tag = re.compile('<.*?>')\n",
        "      title = re.sub(remove_tag, '', items[item_index]['title'])\n",
        "      link = items[item_index]['link']\n",
        "      image = items[item_index]['image']\n",
        "      low_price = items[item_index]['lprice']\n",
        "      high_price= items[item_index]['hprice']\n",
        "      mall_name = items[item_index]['mallName']\n",
        "      product_id = items[item_index]['productId']\n",
        "      product_type = items[item_index]['productType']\n",
        "      maker = items[item_index]['maker']\n",
        "      brand = items[item_index]['brand']\n",
        "      shop_df.loc[idx] = [title, link, image, low_price, high_price, mall_name, product_id, product_type, maker, brand]\n",
        "      idx += 1\n",
        "  else:\n",
        "    print(\"Error Code:\" + rescode)\n",
        "\n",
        "shop_df"
      ],
      "metadata": {
        "colab": {
          "base_uri": "https://localhost:8080/",
          "height": 418
        },
        "id": "o1b7B1RyZvdU",
        "outputId": "36bd2917-ec60-4676-a368-a51cb71b5d18"
      },
      "execution_count": 7,
      "outputs": [
        {
          "name": "stdout",
          "output_type": "stream",
          "text": [
            "검색 질의: 루이까또즈\n"
          ]
        },
        {
          "output_type": "error",
          "ename": "HTTPError",
          "evalue": "ignored",
          "traceback": [
            "\u001b[0;31m---------------------------------------------------------------------------\u001b[0m",
            "\u001b[0;31mHTTPError\u001b[0m                                 Traceback (most recent call last)",
            "\u001b[0;32m<ipython-input-7-19ae055c9190>\u001b[0m in \u001b[0;36m<module>\u001b[0;34m()\u001b[0m\n\u001b[1;32m     18\u001b[0m   \u001b[0mrequest\u001b[0m\u001b[0;34m.\u001b[0m\u001b[0madd_header\u001b[0m\u001b[0;34m(\u001b[0m\u001b[0;34m\"X-Naver-Client-Secret\"\u001b[0m\u001b[0;34m,\u001b[0m\u001b[0mclient_secret\u001b[0m\u001b[0;34m)\u001b[0m\u001b[0;34m\u001b[0m\u001b[0;34m\u001b[0m\u001b[0m\n\u001b[1;32m     19\u001b[0m   \u001b[0mrequest\u001b[0m\u001b[0;34m.\u001b[0m\u001b[0madd_header\u001b[0m\u001b[0;34m(\u001b[0m\u001b[0;34m\"Content-Type\"\u001b[0m\u001b[0;34m,\u001b[0m\u001b[0;34m\"application/json\"\u001b[0m\u001b[0;34m)\u001b[0m\u001b[0;34m\u001b[0m\u001b[0;34m\u001b[0m\u001b[0m\n\u001b[0;32m---> 20\u001b[0;31m   \u001b[0mresponse\u001b[0m \u001b[0;34m=\u001b[0m \u001b[0murllib\u001b[0m\u001b[0;34m.\u001b[0m\u001b[0mrequest\u001b[0m\u001b[0;34m.\u001b[0m\u001b[0murlopen\u001b[0m\u001b[0;34m(\u001b[0m\u001b[0mrequest\u001b[0m\u001b[0;34m)\u001b[0m\u001b[0;34m\u001b[0m\u001b[0;34m\u001b[0m\u001b[0m\n\u001b[0m\u001b[1;32m     21\u001b[0m   \u001b[0mrescode\u001b[0m \u001b[0;34m=\u001b[0m \u001b[0mresponse\u001b[0m\u001b[0;34m.\u001b[0m\u001b[0mgetcode\u001b[0m\u001b[0;34m(\u001b[0m\u001b[0;34m)\u001b[0m\u001b[0;34m\u001b[0m\u001b[0;34m\u001b[0m\u001b[0m\n\u001b[1;32m     22\u001b[0m   \u001b[0;32mif\u001b[0m\u001b[0;34m(\u001b[0m\u001b[0mrescode\u001b[0m\u001b[0;34m==\u001b[0m\u001b[0;36m200\u001b[0m\u001b[0;34m)\u001b[0m\u001b[0;34m:\u001b[0m\u001b[0;34m\u001b[0m\u001b[0;34m\u001b[0m\u001b[0m\n",
            "\u001b[0;32m/usr/lib/python3.7/urllib/request.py\u001b[0m in \u001b[0;36murlopen\u001b[0;34m(url, data, timeout, cafile, capath, cadefault, context)\u001b[0m\n\u001b[1;32m    220\u001b[0m     \u001b[0;32melse\u001b[0m\u001b[0;34m:\u001b[0m\u001b[0;34m\u001b[0m\u001b[0;34m\u001b[0m\u001b[0m\n\u001b[1;32m    221\u001b[0m         \u001b[0mopener\u001b[0m \u001b[0;34m=\u001b[0m \u001b[0m_opener\u001b[0m\u001b[0;34m\u001b[0m\u001b[0;34m\u001b[0m\u001b[0m\n\u001b[0;32m--> 222\u001b[0;31m     \u001b[0;32mreturn\u001b[0m \u001b[0mopener\u001b[0m\u001b[0;34m.\u001b[0m\u001b[0mopen\u001b[0m\u001b[0;34m(\u001b[0m\u001b[0murl\u001b[0m\u001b[0;34m,\u001b[0m \u001b[0mdata\u001b[0m\u001b[0;34m,\u001b[0m \u001b[0mtimeout\u001b[0m\u001b[0;34m)\u001b[0m\u001b[0;34m\u001b[0m\u001b[0;34m\u001b[0m\u001b[0m\n\u001b[0m\u001b[1;32m    223\u001b[0m \u001b[0;34m\u001b[0m\u001b[0m\n\u001b[1;32m    224\u001b[0m \u001b[0;32mdef\u001b[0m \u001b[0minstall_opener\u001b[0m\u001b[0;34m(\u001b[0m\u001b[0mopener\u001b[0m\u001b[0;34m)\u001b[0m\u001b[0;34m:\u001b[0m\u001b[0;34m\u001b[0m\u001b[0;34m\u001b[0m\u001b[0m\n",
            "\u001b[0;32m/usr/lib/python3.7/urllib/request.py\u001b[0m in \u001b[0;36mopen\u001b[0;34m(self, fullurl, data, timeout)\u001b[0m\n\u001b[1;32m    529\u001b[0m         \u001b[0;32mfor\u001b[0m \u001b[0mprocessor\u001b[0m \u001b[0;32min\u001b[0m \u001b[0mself\u001b[0m\u001b[0;34m.\u001b[0m\u001b[0mprocess_response\u001b[0m\u001b[0;34m.\u001b[0m\u001b[0mget\u001b[0m\u001b[0;34m(\u001b[0m\u001b[0mprotocol\u001b[0m\u001b[0;34m,\u001b[0m \u001b[0;34m[\u001b[0m\u001b[0;34m]\u001b[0m\u001b[0;34m)\u001b[0m\u001b[0;34m:\u001b[0m\u001b[0;34m\u001b[0m\u001b[0;34m\u001b[0m\u001b[0m\n\u001b[1;32m    530\u001b[0m             \u001b[0mmeth\u001b[0m \u001b[0;34m=\u001b[0m \u001b[0mgetattr\u001b[0m\u001b[0;34m(\u001b[0m\u001b[0mprocessor\u001b[0m\u001b[0;34m,\u001b[0m \u001b[0mmeth_name\u001b[0m\u001b[0;34m)\u001b[0m\u001b[0;34m\u001b[0m\u001b[0;34m\u001b[0m\u001b[0m\n\u001b[0;32m--> 531\u001b[0;31m             \u001b[0mresponse\u001b[0m \u001b[0;34m=\u001b[0m \u001b[0mmeth\u001b[0m\u001b[0;34m(\u001b[0m\u001b[0mreq\u001b[0m\u001b[0;34m,\u001b[0m \u001b[0mresponse\u001b[0m\u001b[0;34m)\u001b[0m\u001b[0;34m\u001b[0m\u001b[0;34m\u001b[0m\u001b[0m\n\u001b[0m\u001b[1;32m    532\u001b[0m \u001b[0;34m\u001b[0m\u001b[0m\n\u001b[1;32m    533\u001b[0m         \u001b[0;32mreturn\u001b[0m \u001b[0mresponse\u001b[0m\u001b[0;34m\u001b[0m\u001b[0;34m\u001b[0m\u001b[0m\n",
            "\u001b[0;32m/usr/lib/python3.7/urllib/request.py\u001b[0m in \u001b[0;36mhttp_response\u001b[0;34m(self, request, response)\u001b[0m\n\u001b[1;32m    639\u001b[0m         \u001b[0;32mif\u001b[0m \u001b[0;32mnot\u001b[0m \u001b[0;34m(\u001b[0m\u001b[0;36m200\u001b[0m \u001b[0;34m<=\u001b[0m \u001b[0mcode\u001b[0m \u001b[0;34m<\u001b[0m \u001b[0;36m300\u001b[0m\u001b[0;34m)\u001b[0m\u001b[0;34m:\u001b[0m\u001b[0;34m\u001b[0m\u001b[0;34m\u001b[0m\u001b[0m\n\u001b[1;32m    640\u001b[0m             response = self.parent.error(\n\u001b[0;32m--> 641\u001b[0;31m                 'http', request, response, code, msg, hdrs)\n\u001b[0m\u001b[1;32m    642\u001b[0m \u001b[0;34m\u001b[0m\u001b[0m\n\u001b[1;32m    643\u001b[0m         \u001b[0;32mreturn\u001b[0m \u001b[0mresponse\u001b[0m\u001b[0;34m\u001b[0m\u001b[0;34m\u001b[0m\u001b[0m\n",
            "\u001b[0;32m/usr/lib/python3.7/urllib/request.py\u001b[0m in \u001b[0;36merror\u001b[0;34m(self, proto, *args)\u001b[0m\n\u001b[1;32m    567\u001b[0m         \u001b[0;32mif\u001b[0m \u001b[0mhttp_err\u001b[0m\u001b[0;34m:\u001b[0m\u001b[0;34m\u001b[0m\u001b[0;34m\u001b[0m\u001b[0m\n\u001b[1;32m    568\u001b[0m             \u001b[0margs\u001b[0m \u001b[0;34m=\u001b[0m \u001b[0;34m(\u001b[0m\u001b[0mdict\u001b[0m\u001b[0;34m,\u001b[0m \u001b[0;34m'default'\u001b[0m\u001b[0;34m,\u001b[0m \u001b[0;34m'http_error_default'\u001b[0m\u001b[0;34m)\u001b[0m \u001b[0;34m+\u001b[0m \u001b[0morig_args\u001b[0m\u001b[0;34m\u001b[0m\u001b[0;34m\u001b[0m\u001b[0m\n\u001b[0;32m--> 569\u001b[0;31m             \u001b[0;32mreturn\u001b[0m \u001b[0mself\u001b[0m\u001b[0;34m.\u001b[0m\u001b[0m_call_chain\u001b[0m\u001b[0;34m(\u001b[0m\u001b[0;34m*\u001b[0m\u001b[0margs\u001b[0m\u001b[0;34m)\u001b[0m\u001b[0;34m\u001b[0m\u001b[0;34m\u001b[0m\u001b[0m\n\u001b[0m\u001b[1;32m    570\u001b[0m \u001b[0;34m\u001b[0m\u001b[0m\n\u001b[1;32m    571\u001b[0m \u001b[0;31m# XXX probably also want an abstract factory that knows when it makes\u001b[0m\u001b[0;34m\u001b[0m\u001b[0;34m\u001b[0m\u001b[0;34m\u001b[0m\u001b[0m\n",
            "\u001b[0;32m/usr/lib/python3.7/urllib/request.py\u001b[0m in \u001b[0;36m_call_chain\u001b[0;34m(self, chain, kind, meth_name, *args)\u001b[0m\n\u001b[1;32m    501\u001b[0m         \u001b[0;32mfor\u001b[0m \u001b[0mhandler\u001b[0m \u001b[0;32min\u001b[0m \u001b[0mhandlers\u001b[0m\u001b[0;34m:\u001b[0m\u001b[0;34m\u001b[0m\u001b[0;34m\u001b[0m\u001b[0m\n\u001b[1;32m    502\u001b[0m             \u001b[0mfunc\u001b[0m \u001b[0;34m=\u001b[0m \u001b[0mgetattr\u001b[0m\u001b[0;34m(\u001b[0m\u001b[0mhandler\u001b[0m\u001b[0;34m,\u001b[0m \u001b[0mmeth_name\u001b[0m\u001b[0;34m)\u001b[0m\u001b[0;34m\u001b[0m\u001b[0;34m\u001b[0m\u001b[0m\n\u001b[0;32m--> 503\u001b[0;31m             \u001b[0mresult\u001b[0m \u001b[0;34m=\u001b[0m \u001b[0mfunc\u001b[0m\u001b[0;34m(\u001b[0m\u001b[0;34m*\u001b[0m\u001b[0margs\u001b[0m\u001b[0;34m)\u001b[0m\u001b[0;34m\u001b[0m\u001b[0;34m\u001b[0m\u001b[0m\n\u001b[0m\u001b[1;32m    504\u001b[0m             \u001b[0;32mif\u001b[0m \u001b[0mresult\u001b[0m \u001b[0;32mis\u001b[0m \u001b[0;32mnot\u001b[0m \u001b[0;32mNone\u001b[0m\u001b[0;34m:\u001b[0m\u001b[0;34m\u001b[0m\u001b[0;34m\u001b[0m\u001b[0m\n\u001b[1;32m    505\u001b[0m                 \u001b[0;32mreturn\u001b[0m \u001b[0mresult\u001b[0m\u001b[0;34m\u001b[0m\u001b[0;34m\u001b[0m\u001b[0m\n",
            "\u001b[0;32m/usr/lib/python3.7/urllib/request.py\u001b[0m in \u001b[0;36mhttp_error_default\u001b[0;34m(self, req, fp, code, msg, hdrs)\u001b[0m\n\u001b[1;32m    647\u001b[0m \u001b[0;32mclass\u001b[0m \u001b[0mHTTPDefaultErrorHandler\u001b[0m\u001b[0;34m(\u001b[0m\u001b[0mBaseHandler\u001b[0m\u001b[0;34m)\u001b[0m\u001b[0;34m:\u001b[0m\u001b[0;34m\u001b[0m\u001b[0;34m\u001b[0m\u001b[0m\n\u001b[1;32m    648\u001b[0m     \u001b[0;32mdef\u001b[0m \u001b[0mhttp_error_default\u001b[0m\u001b[0;34m(\u001b[0m\u001b[0mself\u001b[0m\u001b[0;34m,\u001b[0m \u001b[0mreq\u001b[0m\u001b[0;34m,\u001b[0m \u001b[0mfp\u001b[0m\u001b[0;34m,\u001b[0m \u001b[0mcode\u001b[0m\u001b[0;34m,\u001b[0m \u001b[0mmsg\u001b[0m\u001b[0;34m,\u001b[0m \u001b[0mhdrs\u001b[0m\u001b[0;34m)\u001b[0m\u001b[0;34m:\u001b[0m\u001b[0;34m\u001b[0m\u001b[0;34m\u001b[0m\u001b[0m\n\u001b[0;32m--> 649\u001b[0;31m         \u001b[0;32mraise\u001b[0m \u001b[0mHTTPError\u001b[0m\u001b[0;34m(\u001b[0m\u001b[0mreq\u001b[0m\u001b[0;34m.\u001b[0m\u001b[0mfull_url\u001b[0m\u001b[0;34m,\u001b[0m \u001b[0mcode\u001b[0m\u001b[0;34m,\u001b[0m \u001b[0mmsg\u001b[0m\u001b[0;34m,\u001b[0m \u001b[0mhdrs\u001b[0m\u001b[0;34m,\u001b[0m \u001b[0mfp\u001b[0m\u001b[0;34m)\u001b[0m\u001b[0;34m\u001b[0m\u001b[0;34m\u001b[0m\u001b[0m\n\u001b[0m\u001b[1;32m    650\u001b[0m \u001b[0;34m\u001b[0m\u001b[0m\n\u001b[1;32m    651\u001b[0m \u001b[0;32mclass\u001b[0m \u001b[0mHTTPRedirectHandler\u001b[0m\u001b[0;34m(\u001b[0m\u001b[0mBaseHandler\u001b[0m\u001b[0;34m)\u001b[0m\u001b[0;34m:\u001b[0m\u001b[0;34m\u001b[0m\u001b[0;34m\u001b[0m\u001b[0m\n",
            "\u001b[0;31mHTTPError\u001b[0m: HTTP Error 401: Unauthorized"
          ]
        }
      ]
    },
    {
      "cell_type": "markdown",
      "source": [
        "### 위의코드 HTTPError: HTTP Error 401: Unauthorized  이유 알아보기"
      ],
      "metadata": {
        "id": "ah26wwPCf_3R"
      }
    },
    {
      "cell_type": "markdown",
      "source": [
        "## 2. 데이터 전처리_weekly 기준으로 쇼핑 트렌드 키워드 정제 "
      ],
      "metadata": {
        "id": "v7Scvqb2qH8q"
      }
    },
    {
      "cell_type": "code",
      "source": [
        ""
      ],
      "metadata": {
        "id": "5afeIf_Fqgx-"
      },
      "execution_count": null,
      "outputs": []
    },
    {
      "cell_type": "markdown",
      "source": [
        "## 3. 데이터 시각화_Tableau로 제작 예정"
      ],
      "metadata": {
        "id": "1p7c5eZTqU5h"
      }
    }
  ]
}