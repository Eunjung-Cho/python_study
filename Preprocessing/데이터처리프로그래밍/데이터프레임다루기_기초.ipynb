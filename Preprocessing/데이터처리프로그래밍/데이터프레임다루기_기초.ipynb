{
  "cells": [
    {
      "cell_type": "markdown",
      "metadata": {
        "id": "view-in-github",
        "colab_type": "text"
      },
      "source": [
        "<a href=\"https://colab.research.google.com/github/Eunjung-Cho/python_study/blob/master/Preprocessing/%EB%8D%B0%EC%9D%B4%ED%84%B0%EC%B2%98%EB%A6%AC%ED%94%84%EB%A1%9C%EA%B7%B8%EB%9E%98%EB%B0%8D/%EB%8D%B0%EC%9D%B4%ED%84%B0%ED%94%84%EB%A0%88%EC%9E%84%EB%8B%A4%EB%A3%A8%EA%B8%B0_%EA%B8%B0%EC%B4%88.ipynb\" target=\"_parent\"><img src=\"https://colab.research.google.com/assets/colab-badge.svg\" alt=\"Open In Colab\"/></a>"
      ]
    },
    {
      "cell_type": "code",
      "execution_count": null,
      "metadata": {
        "id": "VD3-1JDQg3i6"
      },
      "outputs": [],
      "source": [
        "import pandas as pd"
      ]
    },
    {
      "cell_type": "code",
      "execution_count": null,
      "metadata": {
        "id": "p9XwMz5kg3i8"
      },
      "outputs": [],
      "source": [
        "df = pd.DataFrame(\n",
        "        {\"a\" : [4 ,5, 6, 6],\n",
        "        \"b\" : [7, 8, 9, 9],\n",
        "        \"c\" : [10, 11, 12, 12]},\n",
        "        index = [1, 2, 3, 4])"
      ]
    },
    {
      "cell_type": "code",
      "execution_count": null,
      "metadata": {
        "id": "ez1rbSdsg3i8",
        "outputId": "199a8ad4-1ba3-4ab1-8884-a7c78a722cce"
      },
      "outputs": [
        {
          "data": {
            "text/html": [
              "<div>\n",
              "<style scoped>\n",
              "    .dataframe tbody tr th:only-of-type {\n",
              "        vertical-align: middle;\n",
              "    }\n",
              "\n",
              "    .dataframe tbody tr th {\n",
              "        vertical-align: top;\n",
              "    }\n",
              "\n",
              "    .dataframe thead th {\n",
              "        text-align: right;\n",
              "    }\n",
              "</style>\n",
              "<table border=\"1\" class=\"dataframe\">\n",
              "  <thead>\n",
              "    <tr style=\"text-align: right;\">\n",
              "      <th></th>\n",
              "      <th>a</th>\n",
              "      <th>b</th>\n",
              "      <th>c</th>\n",
              "    </tr>\n",
              "  </thead>\n",
              "  <tbody>\n",
              "    <tr>\n",
              "      <th>1</th>\n",
              "      <td>4</td>\n",
              "      <td>7</td>\n",
              "      <td>10</td>\n",
              "    </tr>\n",
              "    <tr>\n",
              "      <th>2</th>\n",
              "      <td>5</td>\n",
              "      <td>8</td>\n",
              "      <td>11</td>\n",
              "    </tr>\n",
              "    <tr>\n",
              "      <th>3</th>\n",
              "      <td>6</td>\n",
              "      <td>9</td>\n",
              "      <td>12</td>\n",
              "    </tr>\n",
              "    <tr>\n",
              "      <th>4</th>\n",
              "      <td>6</td>\n",
              "      <td>9</td>\n",
              "      <td>12</td>\n",
              "    </tr>\n",
              "  </tbody>\n",
              "</table>\n",
              "</div>"
            ],
            "text/plain": [
              "   a  b   c\n",
              "1  4  7  10\n",
              "2  5  8  11\n",
              "3  6  9  12\n",
              "4  6  9  12"
            ]
          },
          "execution_count": 3,
          "metadata": {},
          "output_type": "execute_result"
        }
      ],
      "source": [
        "df"
      ]
    },
    {
      "cell_type": "code",
      "execution_count": null,
      "metadata": {
        "id": "BkoMOeZOg3i9",
        "outputId": "d05ed280-0466-4219-b38a-fc66a606ff13"
      },
      "outputs": [
        {
          "data": {
            "text/html": [
              "<div>\n",
              "<style scoped>\n",
              "    .dataframe tbody tr th:only-of-type {\n",
              "        vertical-align: middle;\n",
              "    }\n",
              "\n",
              "    .dataframe tbody tr th {\n",
              "        vertical-align: top;\n",
              "    }\n",
              "\n",
              "    .dataframe thead th {\n",
              "        text-align: right;\n",
              "    }\n",
              "</style>\n",
              "<table border=\"1\" class=\"dataframe\">\n",
              "  <thead>\n",
              "    <tr style=\"text-align: right;\">\n",
              "      <th></th>\n",
              "      <th>a</th>\n",
              "      <th>b</th>\n",
              "      <th>c</th>\n",
              "    </tr>\n",
              "  </thead>\n",
              "  <tbody>\n",
              "    <tr>\n",
              "      <th>1</th>\n",
              "      <td>4</td>\n",
              "      <td>7</td>\n",
              "      <td>10</td>\n",
              "    </tr>\n",
              "    <tr>\n",
              "      <th>2</th>\n",
              "      <td>5</td>\n",
              "      <td>8</td>\n",
              "      <td>11</td>\n",
              "    </tr>\n",
              "    <tr>\n",
              "      <th>3</th>\n",
              "      <td>6</td>\n",
              "      <td>9</td>\n",
              "      <td>12</td>\n",
              "    </tr>\n",
              "    <tr>\n",
              "      <th>4</th>\n",
              "      <td>6</td>\n",
              "      <td>9</td>\n",
              "      <td>12</td>\n",
              "    </tr>\n",
              "  </tbody>\n",
              "</table>\n",
              "</div>"
            ],
            "text/plain": [
              "   a  b   c\n",
              "1  4  7  10\n",
              "2  5  8  11\n",
              "3  6  9  12\n",
              "4  6  9  12"
            ]
          },
          "execution_count": 4,
          "metadata": {},
          "output_type": "execute_result"
        }
      ],
      "source": [
        "df2 = pd.DataFrame(\n",
        "        [[4, 7, 10], [5, 8, 11], [6, 9, 12], [6, 9, 12]], \n",
        "        index=[1, 2, 3, 4], \n",
        "        columns=['a', 'b', 'c']) \n",
        "df2"
      ]
    },
    {
      "cell_type": "code",
      "execution_count": null,
      "metadata": {
        "id": "o0sIe8X2g3i-",
        "outputId": "84d1658e-a10f-4319-98e0-380f05544b0a"
      },
      "outputs": [
        {
          "data": {
            "text/html": [
              "<div>\n",
              "<style scoped>\n",
              "    .dataframe tbody tr th:only-of-type {\n",
              "        vertical-align: middle;\n",
              "    }\n",
              "\n",
              "    .dataframe tbody tr th {\n",
              "        vertical-align: top;\n",
              "    }\n",
              "\n",
              "    .dataframe thead th {\n",
              "        text-align: right;\n",
              "    }\n",
              "</style>\n",
              "<table border=\"1\" class=\"dataframe\">\n",
              "  <thead>\n",
              "    <tr style=\"text-align: right;\">\n",
              "      <th></th>\n",
              "      <th>1</th>\n",
              "      <th>2</th>\n",
              "      <th>3</th>\n",
              "      <th>4</th>\n",
              "    </tr>\n",
              "  </thead>\n",
              "  <tbody>\n",
              "    <tr>\n",
              "      <th>a</th>\n",
              "      <td>4</td>\n",
              "      <td>5</td>\n",
              "      <td>6</td>\n",
              "      <td>6</td>\n",
              "    </tr>\n",
              "    <tr>\n",
              "      <th>b</th>\n",
              "      <td>7</td>\n",
              "      <td>8</td>\n",
              "      <td>9</td>\n",
              "      <td>9</td>\n",
              "    </tr>\n",
              "    <tr>\n",
              "      <th>c</th>\n",
              "      <td>10</td>\n",
              "      <td>11</td>\n",
              "      <td>12</td>\n",
              "      <td>12</td>\n",
              "    </tr>\n",
              "  </tbody>\n",
              "</table>\n",
              "</div>"
            ],
            "text/plain": [
              "    1   2   3   4\n",
              "a   4   5   6   6\n",
              "b   7   8   9   9\n",
              "c  10  11  12  12"
            ]
          },
          "execution_count": 10,
          "metadata": {},
          "output_type": "execute_result"
        }
      ],
      "source": [
        "df3 = df2.T\n",
        "df3"
      ]
    },
    {
      "cell_type": "code",
      "execution_count": null,
      "metadata": {
        "id": "xgNm2zyhg3i-",
        "outputId": "a7911c47-887a-4505-8026-3abd580f2506"
      },
      "outputs": [
        {
          "data": {
            "text/html": [
              "<div>\n",
              "<style scoped>\n",
              "    .dataframe tbody tr th:only-of-type {\n",
              "        vertical-align: middle;\n",
              "    }\n",
              "\n",
              "    .dataframe tbody tr th {\n",
              "        vertical-align: top;\n",
              "    }\n",
              "\n",
              "    .dataframe thead th {\n",
              "        text-align: right;\n",
              "    }\n",
              "</style>\n",
              "<table border=\"1\" class=\"dataframe\">\n",
              "  <thead>\n",
              "    <tr style=\"text-align: right;\">\n",
              "      <th></th>\n",
              "      <th>a</th>\n",
              "      <th>b</th>\n",
              "      <th>c</th>\n",
              "      <th>d</th>\n",
              "    </tr>\n",
              "  </thead>\n",
              "  <tbody>\n",
              "    <tr>\n",
              "      <th>a</th>\n",
              "      <td>4</td>\n",
              "      <td>5</td>\n",
              "      <td>6</td>\n",
              "      <td>6</td>\n",
              "    </tr>\n",
              "    <tr>\n",
              "      <th>b</th>\n",
              "      <td>7</td>\n",
              "      <td>8</td>\n",
              "      <td>9</td>\n",
              "      <td>9</td>\n",
              "    </tr>\n",
              "    <tr>\n",
              "      <th>c</th>\n",
              "      <td>10</td>\n",
              "      <td>11</td>\n",
              "      <td>12</td>\n",
              "      <td>12</td>\n",
              "    </tr>\n",
              "  </tbody>\n",
              "</table>\n",
              "</div>"
            ],
            "text/plain": [
              "    a   b   c   d\n",
              "a   4   5   6   6\n",
              "b   7   8   9   9\n",
              "c  10  11  12  12"
            ]
          },
          "execution_count": 11,
          "metadata": {},
          "output_type": "execute_result"
        }
      ],
      "source": [
        "df3.columns = ['a', 'b', 'c', 'd']\n",
        "df3"
      ]
    },
    {
      "cell_type": "code",
      "execution_count": null,
      "metadata": {
        "id": "mquSIzpyg3i-",
        "outputId": "a71e8a1d-df33-48f4-eb4d-2aa37f019ec5"
      },
      "outputs": [
        {
          "data": {
            "text/html": [
              "<div>\n",
              "<style scoped>\n",
              "    .dataframe tbody tr th:only-of-type {\n",
              "        vertical-align: middle;\n",
              "    }\n",
              "\n",
              "    .dataframe tbody tr th {\n",
              "        vertical-align: top;\n",
              "    }\n",
              "\n",
              "    .dataframe thead th {\n",
              "        text-align: right;\n",
              "    }\n",
              "</style>\n",
              "<table border=\"1\" class=\"dataframe\">\n",
              "  <thead>\n",
              "    <tr style=\"text-align: right;\">\n",
              "      <th></th>\n",
              "      <th>a</th>\n",
              "      <th>b</th>\n",
              "      <th>c</th>\n",
              "      <th>d</th>\n",
              "    </tr>\n",
              "  </thead>\n",
              "  <tbody>\n",
              "    <tr>\n",
              "      <th>11</th>\n",
              "      <td>4</td>\n",
              "      <td>5</td>\n",
              "      <td>6</td>\n",
              "      <td>6</td>\n",
              "    </tr>\n",
              "    <tr>\n",
              "      <th>22</th>\n",
              "      <td>7</td>\n",
              "      <td>8</td>\n",
              "      <td>9</td>\n",
              "      <td>9</td>\n",
              "    </tr>\n",
              "    <tr>\n",
              "      <th>33</th>\n",
              "      <td>10</td>\n",
              "      <td>11</td>\n",
              "      <td>12</td>\n",
              "      <td>12</td>\n",
              "    </tr>\n",
              "  </tbody>\n",
              "</table>\n",
              "</div>"
            ],
            "text/plain": [
              "     a   b   c   d\n",
              "11   4   5   6   6\n",
              "22   7   8   9   9\n",
              "33  10  11  12  12"
            ]
          },
          "execution_count": 12,
          "metadata": {},
          "output_type": "execute_result"
        }
      ],
      "source": [
        "df3.index = [11, 22, 33]\n",
        "df3"
      ]
    },
    {
      "cell_type": "code",
      "execution_count": null,
      "metadata": {
        "scrolled": true,
        "id": "inetVqtug3i_",
        "outputId": "22279108-164a-4bab-e2af-6605d9741e60"
      },
      "outputs": [
        {
          "data": {
            "text/html": [
              "<div>\n",
              "<style scoped>\n",
              "    .dataframe tbody tr th:only-of-type {\n",
              "        vertical-align: middle;\n",
              "    }\n",
              "\n",
              "    .dataframe tbody tr th {\n",
              "        vertical-align: top;\n",
              "    }\n",
              "\n",
              "    .dataframe thead th {\n",
              "        text-align: right;\n",
              "    }\n",
              "</style>\n",
              "<table border=\"1\" class=\"dataframe\">\n",
              "  <thead>\n",
              "    <tr style=\"text-align: right;\">\n",
              "      <th></th>\n",
              "      <th>A</th>\n",
              "      <th>B</th>\n",
              "      <th>C</th>\n",
              "      <th>D</th>\n",
              "    </tr>\n",
              "  </thead>\n",
              "  <tbody>\n",
              "    <tr>\n",
              "      <th>11</th>\n",
              "      <td>4</td>\n",
              "      <td>5</td>\n",
              "      <td>6</td>\n",
              "      <td>6</td>\n",
              "    </tr>\n",
              "    <tr>\n",
              "      <th>22</th>\n",
              "      <td>7</td>\n",
              "      <td>8</td>\n",
              "      <td>9</td>\n",
              "      <td>9</td>\n",
              "    </tr>\n",
              "    <tr>\n",
              "      <th>33</th>\n",
              "      <td>10</td>\n",
              "      <td>11</td>\n",
              "      <td>12</td>\n",
              "      <td>12</td>\n",
              "    </tr>\n",
              "  </tbody>\n",
              "</table>\n",
              "</div>"
            ],
            "text/plain": [
              "     A   B   C   D\n",
              "11   4   5   6   6\n",
              "22   7   8   9   9\n",
              "33  10  11  12  12"
            ]
          },
          "execution_count": 17,
          "metadata": {},
          "output_type": "execute_result"
        }
      ],
      "source": [
        "df33 = df3.rename(columns = {'a':'A', 'b':'B', 'c':'C', 'd':'D'})\n",
        "df33"
      ]
    },
    {
      "cell_type": "markdown",
      "metadata": {
        "id": "VCh8TKJBg3i_"
      },
      "source": [
        "### 비교연산자를 이용한 조회"
      ]
    },
    {
      "cell_type": "code",
      "execution_count": null,
      "metadata": {
        "id": "i1uUoicGg3jB",
        "outputId": "421659ae-66ba-415c-877a-0f5b80059c39"
      },
      "outputs": [
        {
          "data": {
            "text/html": [
              "<div>\n",
              "<style scoped>\n",
              "    .dataframe tbody tr th:only-of-type {\n",
              "        vertical-align: middle;\n",
              "    }\n",
              "\n",
              "    .dataframe tbody tr th {\n",
              "        vertical-align: top;\n",
              "    }\n",
              "\n",
              "    .dataframe thead th {\n",
              "        text-align: right;\n",
              "    }\n",
              "</style>\n",
              "<table border=\"1\" class=\"dataframe\">\n",
              "  <thead>\n",
              "    <tr style=\"text-align: right;\">\n",
              "      <th></th>\n",
              "      <th>a</th>\n",
              "      <th>b</th>\n",
              "      <th>c</th>\n",
              "    </tr>\n",
              "  </thead>\n",
              "  <tbody>\n",
              "    <tr>\n",
              "      <th>1</th>\n",
              "      <td>4</td>\n",
              "      <td>7</td>\n",
              "      <td>10</td>\n",
              "    </tr>\n",
              "    <tr>\n",
              "      <th>2</th>\n",
              "      <td>5</td>\n",
              "      <td>8</td>\n",
              "      <td>11</td>\n",
              "    </tr>\n",
              "    <tr>\n",
              "      <th>3</th>\n",
              "      <td>6</td>\n",
              "      <td>9</td>\n",
              "      <td>12</td>\n",
              "    </tr>\n",
              "    <tr>\n",
              "      <th>4</th>\n",
              "      <td>6</td>\n",
              "      <td>9</td>\n",
              "      <td>12</td>\n",
              "    </tr>\n",
              "  </tbody>\n",
              "</table>\n",
              "</div>"
            ],
            "text/plain": [
              "   a  b   c\n",
              "1  4  7  10\n",
              "2  5  8  11\n",
              "3  6  9  12\n",
              "4  6  9  12"
            ]
          },
          "execution_count": 18,
          "metadata": {},
          "output_type": "execute_result"
        }
      ],
      "source": [
        "df"
      ]
    },
    {
      "cell_type": "code",
      "execution_count": null,
      "metadata": {
        "id": "9z8_A4_Tg3jB",
        "outputId": "62d7325b-8bce-46bb-9e1a-bda0a69221a4"
      },
      "outputs": [
        {
          "data": {
            "text/plain": [
              "1    False\n",
              "2     True\n",
              "3     True\n",
              "4     True\n",
              "Name: b, dtype: bool"
            ]
          },
          "execution_count": 20,
          "metadata": {},
          "output_type": "execute_result"
        }
      ],
      "source": [
        "df.b>7"
      ]
    },
    {
      "cell_type": "code",
      "execution_count": null,
      "metadata": {
        "id": "enCvyF7ug3jC",
        "outputId": "e01e46c2-531a-423b-df63-ca52a6d6d52e"
      },
      "outputs": [
        {
          "data": {
            "text/html": [
              "<div>\n",
              "<style scoped>\n",
              "    .dataframe tbody tr th:only-of-type {\n",
              "        vertical-align: middle;\n",
              "    }\n",
              "\n",
              "    .dataframe tbody tr th {\n",
              "        vertical-align: top;\n",
              "    }\n",
              "\n",
              "    .dataframe thead th {\n",
              "        text-align: right;\n",
              "    }\n",
              "</style>\n",
              "<table border=\"1\" class=\"dataframe\">\n",
              "  <thead>\n",
              "    <tr style=\"text-align: right;\">\n",
              "      <th></th>\n",
              "      <th>a</th>\n",
              "      <th>b</th>\n",
              "      <th>c</th>\n",
              "    </tr>\n",
              "  </thead>\n",
              "  <tbody>\n",
              "    <tr>\n",
              "      <th>2</th>\n",
              "      <td>5</td>\n",
              "      <td>8</td>\n",
              "      <td>11</td>\n",
              "    </tr>\n",
              "    <tr>\n",
              "      <th>3</th>\n",
              "      <td>6</td>\n",
              "      <td>9</td>\n",
              "      <td>12</td>\n",
              "    </tr>\n",
              "    <tr>\n",
              "      <th>4</th>\n",
              "      <td>6</td>\n",
              "      <td>9</td>\n",
              "      <td>12</td>\n",
              "    </tr>\n",
              "  </tbody>\n",
              "</table>\n",
              "</div>"
            ],
            "text/plain": [
              "   a  b   c\n",
              "2  5  8  11\n",
              "3  6  9  12\n",
              "4  6  9  12"
            ]
          },
          "execution_count": 21,
          "metadata": {},
          "output_type": "execute_result"
        }
      ],
      "source": [
        "df[df.b>7]"
      ]
    },
    {
      "cell_type": "code",
      "execution_count": null,
      "metadata": {
        "id": "NVfnh1zDg3jC",
        "outputId": "e8c75729-8266-4d24-c742-08be7a224a72"
      },
      "outputs": [
        {
          "data": {
            "text/html": [
              "<div>\n",
              "<style scoped>\n",
              "    .dataframe tbody tr th:only-of-type {\n",
              "        vertical-align: middle;\n",
              "    }\n",
              "\n",
              "    .dataframe tbody tr th {\n",
              "        vertical-align: top;\n",
              "    }\n",
              "\n",
              "    .dataframe thead th {\n",
              "        text-align: right;\n",
              "    }\n",
              "</style>\n",
              "<table border=\"1\" class=\"dataframe\">\n",
              "  <thead>\n",
              "    <tr style=\"text-align: right;\">\n",
              "      <th></th>\n",
              "      <th>a</th>\n",
              "      <th>b</th>\n",
              "      <th>c</th>\n",
              "    </tr>\n",
              "  </thead>\n",
              "  <tbody>\n",
              "    <tr>\n",
              "      <th>1</th>\n",
              "      <td>4</td>\n",
              "      <td>7</td>\n",
              "      <td>10</td>\n",
              "    </tr>\n",
              "    <tr>\n",
              "      <th>2</th>\n",
              "      <td>5</td>\n",
              "      <td>8</td>\n",
              "      <td>11</td>\n",
              "    </tr>\n",
              "    <tr>\n",
              "      <th>3</th>\n",
              "      <td>6</td>\n",
              "      <td>9</td>\n",
              "      <td>12</td>\n",
              "    </tr>\n",
              "    <tr>\n",
              "      <th>4</th>\n",
              "      <td>6</td>\n",
              "      <td>9</td>\n",
              "      <td>12</td>\n",
              "    </tr>\n",
              "  </tbody>\n",
              "</table>\n",
              "</div>"
            ],
            "text/plain": [
              "   a  b   c\n",
              "1  4  7  10\n",
              "2  5  8  11\n",
              "3  6  9  12\n",
              "4  6  9  12"
            ]
          },
          "execution_count": 22,
          "metadata": {},
          "output_type": "execute_result"
        }
      ],
      "source": [
        "df[df.c>7]"
      ]
    },
    {
      "cell_type": "code",
      "execution_count": null,
      "metadata": {
        "id": "7loBzzCUg3jC",
        "outputId": "f1c21a3f-d7ad-4f9e-90bf-a1a853ec7652"
      },
      "outputs": [
        {
          "data": {
            "text/html": [
              "<div>\n",
              "<style scoped>\n",
              "    .dataframe tbody tr th:only-of-type {\n",
              "        vertical-align: middle;\n",
              "    }\n",
              "\n",
              "    .dataframe tbody tr th {\n",
              "        vertical-align: top;\n",
              "    }\n",
              "\n",
              "    .dataframe thead th {\n",
              "        text-align: right;\n",
              "    }\n",
              "</style>\n",
              "<table border=\"1\" class=\"dataframe\">\n",
              "  <thead>\n",
              "    <tr style=\"text-align: right;\">\n",
              "      <th></th>\n",
              "      <th>a</th>\n",
              "      <th>b</th>\n",
              "      <th>c</th>\n",
              "    </tr>\n",
              "  </thead>\n",
              "  <tbody>\n",
              "    <tr>\n",
              "      <th>1</th>\n",
              "      <td>4</td>\n",
              "      <td>7</td>\n",
              "      <td>10</td>\n",
              "    </tr>\n",
              "    <tr>\n",
              "      <th>2</th>\n",
              "      <td>5</td>\n",
              "      <td>8</td>\n",
              "      <td>11</td>\n",
              "    </tr>\n",
              "    <tr>\n",
              "      <th>3</th>\n",
              "      <td>6</td>\n",
              "      <td>9</td>\n",
              "      <td>12</td>\n",
              "    </tr>\n",
              "    <tr>\n",
              "      <th>4</th>\n",
              "      <td>6</td>\n",
              "      <td>9</td>\n",
              "      <td>12</td>\n",
              "    </tr>\n",
              "  </tbody>\n",
              "</table>\n",
              "</div>"
            ],
            "text/plain": [
              "   a  b   c\n",
              "1  4  7  10\n",
              "2  5  8  11\n",
              "3  6  9  12\n",
              "4  6  9  12"
            ]
          },
          "execution_count": 23,
          "metadata": {},
          "output_type": "execute_result"
        }
      ],
      "source": [
        "df[df['c']>7]"
      ]
    },
    {
      "cell_type": "markdown",
      "metadata": {
        "id": "MUFnyTzzg3jD"
      },
      "source": [
        "* 열 이름이 한글이나 특수문자 있는 경우 df['열이름']"
      ]
    },
    {
      "cell_type": "code",
      "execution_count": null,
      "metadata": {
        "id": "wJGAi1ltg3jD",
        "outputId": "40b23c27-581c-426b-d1f9-fab9225e63d6"
      },
      "outputs": [
        {
          "data": {
            "text/html": [
              "<div>\n",
              "<style scoped>\n",
              "    .dataframe tbody tr th:only-of-type {\n",
              "        vertical-align: middle;\n",
              "    }\n",
              "\n",
              "    .dataframe tbody tr th {\n",
              "        vertical-align: top;\n",
              "    }\n",
              "\n",
              "    .dataframe thead th {\n",
              "        text-align: right;\n",
              "    }\n",
              "</style>\n",
              "<table border=\"1\" class=\"dataframe\">\n",
              "  <thead>\n",
              "    <tr style=\"text-align: right;\">\n",
              "      <th></th>\n",
              "      <th>a</th>\n",
              "      <th>b</th>\n",
              "      <th>c</th>\n",
              "    </tr>\n",
              "  </thead>\n",
              "  <tbody>\n",
              "  </tbody>\n",
              "</table>\n",
              "</div>"
            ],
            "text/plain": [
              "Empty DataFrame\n",
              "Columns: [a, b, c]\n",
              "Index: []"
            ]
          },
          "execution_count": 24,
          "metadata": {},
          "output_type": "execute_result"
        }
      ],
      "source": [
        "df[df['c'] == 7]"
      ]
    },
    {
      "cell_type": "code",
      "execution_count": null,
      "metadata": {
        "id": "LJ5vWWz3g3jD",
        "outputId": "7066be39-8fd3-4ce2-8589-d0c81dc556f4"
      },
      "outputs": [
        {
          "data": {
            "text/html": [
              "<div>\n",
              "<style scoped>\n",
              "    .dataframe tbody tr th:only-of-type {\n",
              "        vertical-align: middle;\n",
              "    }\n",
              "\n",
              "    .dataframe tbody tr th {\n",
              "        vertical-align: top;\n",
              "    }\n",
              "\n",
              "    .dataframe thead th {\n",
              "        text-align: right;\n",
              "    }\n",
              "</style>\n",
              "<table border=\"1\" class=\"dataframe\">\n",
              "  <thead>\n",
              "    <tr style=\"text-align: right;\">\n",
              "      <th></th>\n",
              "      <th>a</th>\n",
              "      <th>b</th>\n",
              "      <th>c</th>\n",
              "    </tr>\n",
              "  </thead>\n",
              "  <tbody>\n",
              "    <tr>\n",
              "      <th>1</th>\n",
              "      <td>4</td>\n",
              "      <td>7</td>\n",
              "      <td>10</td>\n",
              "    </tr>\n",
              "    <tr>\n",
              "      <th>2</th>\n",
              "      <td>5</td>\n",
              "      <td>8</td>\n",
              "      <td>11</td>\n",
              "    </tr>\n",
              "    <tr>\n",
              "      <th>3</th>\n",
              "      <td>6</td>\n",
              "      <td>9</td>\n",
              "      <td>12</td>\n",
              "    </tr>\n",
              "    <tr>\n",
              "      <th>4</th>\n",
              "      <td>6</td>\n",
              "      <td>9</td>\n",
              "      <td>12</td>\n",
              "    </tr>\n",
              "  </tbody>\n",
              "</table>\n",
              "</div>"
            ],
            "text/plain": [
              "   a  b   c\n",
              "1  4  7  10\n",
              "2  5  8  11\n",
              "3  6  9  12\n",
              "4  6  9  12"
            ]
          },
          "execution_count": 25,
          "metadata": {},
          "output_type": "execute_result"
        }
      ],
      "source": [
        "df[df['c']>=7]"
      ]
    },
    {
      "cell_type": "code",
      "execution_count": null,
      "metadata": {
        "id": "ELb-dLTCg3jD",
        "outputId": "f73e9f80-a7f5-440a-e7ad-f11fca147a59"
      },
      "outputs": [
        {
          "data": {
            "text/plain": [
              "1    False\n",
              "2     True\n",
              "3     True\n",
              "4     True\n",
              "Name: b, dtype: bool"
            ]
          },
          "execution_count": 26,
          "metadata": {},
          "output_type": "execute_result"
        }
      ],
      "source": [
        "df[\"b\"] !=7"
      ]
    },
    {
      "cell_type": "code",
      "execution_count": null,
      "metadata": {
        "id": "1ksPX7jXg3jD",
        "outputId": "2aa3b6ab-f6e7-499b-ee7f-c21290e0548c"
      },
      "outputs": [
        {
          "data": {
            "text/html": [
              "<div>\n",
              "<style scoped>\n",
              "    .dataframe tbody tr th:only-of-type {\n",
              "        vertical-align: middle;\n",
              "    }\n",
              "\n",
              "    .dataframe tbody tr th {\n",
              "        vertical-align: top;\n",
              "    }\n",
              "\n",
              "    .dataframe thead th {\n",
              "        text-align: right;\n",
              "    }\n",
              "</style>\n",
              "<table border=\"1\" class=\"dataframe\">\n",
              "  <thead>\n",
              "    <tr style=\"text-align: right;\">\n",
              "      <th></th>\n",
              "      <th>a</th>\n",
              "      <th>b</th>\n",
              "      <th>c</th>\n",
              "    </tr>\n",
              "  </thead>\n",
              "  <tbody>\n",
              "    <tr>\n",
              "      <th>2</th>\n",
              "      <td>5</td>\n",
              "      <td>8</td>\n",
              "      <td>11</td>\n",
              "    </tr>\n",
              "    <tr>\n",
              "      <th>3</th>\n",
              "      <td>6</td>\n",
              "      <td>9</td>\n",
              "      <td>12</td>\n",
              "    </tr>\n",
              "    <tr>\n",
              "      <th>4</th>\n",
              "      <td>6</td>\n",
              "      <td>9</td>\n",
              "      <td>12</td>\n",
              "    </tr>\n",
              "  </tbody>\n",
              "</table>\n",
              "</div>"
            ],
            "text/plain": [
              "   a  b   c\n",
              "2  5  8  11\n",
              "3  6  9  12\n",
              "4  6  9  12"
            ]
          },
          "execution_count": 27,
          "metadata": {},
          "output_type": "execute_result"
        }
      ],
      "source": [
        "df[df[\"b\"] !=7]"
      ]
    },
    {
      "cell_type": "markdown",
      "metadata": {
        "id": "2L42vTiDg3jE"
      },
      "source": [
        "* 큰 따옴표, 작은 따옴표 동일하게 인식"
      ]
    },
    {
      "cell_type": "markdown",
      "metadata": {
        "id": "4ZIyDPFtg3jE"
      },
      "source": [
        "### 중복 행 제거하는 drop_duplicates( )"
      ]
    },
    {
      "cell_type": "code",
      "execution_count": null,
      "metadata": {
        "id": "F886YVQcg3jE"
      },
      "outputs": [],
      "source": [
        "# 도움말 보기\n",
        "df.drop_duplicates?"
      ]
    },
    {
      "cell_type": "code",
      "execution_count": null,
      "metadata": {
        "id": "OCPL-Dwqg3jE"
      },
      "outputs": [],
      "source": [
        "df"
      ]
    },
    {
      "cell_type": "code",
      "execution_count": null,
      "metadata": {
        "id": "A4Xctoezg3jE",
        "outputId": "f4c2559c-62af-4e2d-9b55-bd262db828d5"
      },
      "outputs": [
        {
          "data": {
            "text/html": [
              "<div>\n",
              "<style scoped>\n",
              "    .dataframe tbody tr th:only-of-type {\n",
              "        vertical-align: middle;\n",
              "    }\n",
              "\n",
              "    .dataframe tbody tr th {\n",
              "        vertical-align: top;\n",
              "    }\n",
              "\n",
              "    .dataframe thead th {\n",
              "        text-align: right;\n",
              "    }\n",
              "</style>\n",
              "<table border=\"1\" class=\"dataframe\">\n",
              "  <thead>\n",
              "    <tr style=\"text-align: right;\">\n",
              "      <th></th>\n",
              "      <th>a</th>\n",
              "      <th>b</th>\n",
              "      <th>c</th>\n",
              "    </tr>\n",
              "  </thead>\n",
              "  <tbody>\n",
              "    <tr>\n",
              "      <th>1</th>\n",
              "      <td>4</td>\n",
              "      <td>7</td>\n",
              "      <td>10</td>\n",
              "    </tr>\n",
              "    <tr>\n",
              "      <th>2</th>\n",
              "      <td>5</td>\n",
              "      <td>8</td>\n",
              "      <td>11</td>\n",
              "    </tr>\n",
              "    <tr>\n",
              "      <th>3</th>\n",
              "      <td>6</td>\n",
              "      <td>9</td>\n",
              "      <td>12</td>\n",
              "    </tr>\n",
              "  </tbody>\n",
              "</table>\n",
              "</div>"
            ],
            "text/plain": [
              "   a  b   c\n",
              "1  4  7  10\n",
              "2  5  8  11\n",
              "3  6  9  12"
            ]
          },
          "execution_count": 28,
          "metadata": {},
          "output_type": "execute_result"
        }
      ],
      "source": [
        "df.drop_duplicates()"
      ]
    },
    {
      "cell_type": "code",
      "execution_count": null,
      "metadata": {
        "id": "mIc_RVF1g3jE",
        "outputId": "40f76118-feae-4f78-9dd3-654ea35c032a"
      },
      "outputs": [
        {
          "data": {
            "text/html": [
              "<div>\n",
              "<style scoped>\n",
              "    .dataframe tbody tr th:only-of-type {\n",
              "        vertical-align: middle;\n",
              "    }\n",
              "\n",
              "    .dataframe tbody tr th {\n",
              "        vertical-align: top;\n",
              "    }\n",
              "\n",
              "    .dataframe thead th {\n",
              "        text-align: right;\n",
              "    }\n",
              "</style>\n",
              "<table border=\"1\" class=\"dataframe\">\n",
              "  <thead>\n",
              "    <tr style=\"text-align: right;\">\n",
              "      <th></th>\n",
              "      <th>a</th>\n",
              "      <th>b</th>\n",
              "      <th>c</th>\n",
              "    </tr>\n",
              "  </thead>\n",
              "  <tbody>\n",
              "    <tr>\n",
              "      <th>1</th>\n",
              "      <td>4</td>\n",
              "      <td>7</td>\n",
              "      <td>10</td>\n",
              "    </tr>\n",
              "    <tr>\n",
              "      <th>2</th>\n",
              "      <td>5</td>\n",
              "      <td>8</td>\n",
              "      <td>11</td>\n",
              "    </tr>\n",
              "    <tr>\n",
              "      <th>3</th>\n",
              "      <td>6</td>\n",
              "      <td>9</td>\n",
              "      <td>12</td>\n",
              "    </tr>\n",
              "    <tr>\n",
              "      <th>4</th>\n",
              "      <td>6</td>\n",
              "      <td>9</td>\n",
              "      <td>12</td>\n",
              "    </tr>\n",
              "  </tbody>\n",
              "</table>\n",
              "</div>"
            ],
            "text/plain": [
              "   a  b   c\n",
              "1  4  7  10\n",
              "2  5  8  11\n",
              "3  6  9  12\n",
              "4  6  9  12"
            ]
          },
          "execution_count": 29,
          "metadata": {},
          "output_type": "execute_result"
        }
      ],
      "source": [
        "df"
      ]
    },
    {
      "cell_type": "markdown",
      "metadata": {
        "id": "d20z7uVjg3jF"
      },
      "source": [
        "* 변수에 담지 않아서 중복 행 제거한 결과가 원본 df에 반영 안됨"
      ]
    },
    {
      "cell_type": "code",
      "execution_count": null,
      "metadata": {
        "id": "cb7i9xbjg3jF",
        "outputId": "043fdedf-1bbb-41c6-d339-4a8f3f896654"
      },
      "outputs": [
        {
          "data": {
            "text/html": [
              "<div>\n",
              "<style scoped>\n",
              "    .dataframe tbody tr th:only-of-type {\n",
              "        vertical-align: middle;\n",
              "    }\n",
              "\n",
              "    .dataframe tbody tr th {\n",
              "        vertical-align: top;\n",
              "    }\n",
              "\n",
              "    .dataframe thead th {\n",
              "        text-align: right;\n",
              "    }\n",
              "</style>\n",
              "<table border=\"1\" class=\"dataframe\">\n",
              "  <thead>\n",
              "    <tr style=\"text-align: right;\">\n",
              "      <th></th>\n",
              "      <th>a</th>\n",
              "      <th>b</th>\n",
              "      <th>c</th>\n",
              "    </tr>\n",
              "  </thead>\n",
              "  <tbody>\n",
              "    <tr>\n",
              "      <th>1</th>\n",
              "      <td>4</td>\n",
              "      <td>7</td>\n",
              "      <td>10</td>\n",
              "    </tr>\n",
              "    <tr>\n",
              "      <th>2</th>\n",
              "      <td>5</td>\n",
              "      <td>8</td>\n",
              "      <td>11</td>\n",
              "    </tr>\n",
              "    <tr>\n",
              "      <th>3</th>\n",
              "      <td>6</td>\n",
              "      <td>9</td>\n",
              "      <td>12</td>\n",
              "    </tr>\n",
              "  </tbody>\n",
              "</table>\n",
              "</div>"
            ],
            "text/plain": [
              "   a  b   c\n",
              "1  4  7  10\n",
              "2  5  8  11\n",
              "3  6  9  12"
            ]
          },
          "execution_count": 30,
          "metadata": {},
          "output_type": "execute_result"
        }
      ],
      "source": [
        "df.drop_duplicates()"
      ]
    },
    {
      "cell_type": "code",
      "execution_count": null,
      "metadata": {
        "id": "T1n6niL_g3jF"
      },
      "outputs": [],
      "source": [
        "df.drop_duplicates?"
      ]
    },
    {
      "cell_type": "code",
      "execution_count": null,
      "metadata": {
        "id": "FbIXKQv5g3jF",
        "outputId": "7fd9177d-2be6-4a3e-e850-0f36e6245ec3"
      },
      "outputs": [
        {
          "data": {
            "text/html": [
              "<div>\n",
              "<style scoped>\n",
              "    .dataframe tbody tr th:only-of-type {\n",
              "        vertical-align: middle;\n",
              "    }\n",
              "\n",
              "    .dataframe tbody tr th {\n",
              "        vertical-align: top;\n",
              "    }\n",
              "\n",
              "    .dataframe thead th {\n",
              "        text-align: right;\n",
              "    }\n",
              "</style>\n",
              "<table border=\"1\" class=\"dataframe\">\n",
              "  <thead>\n",
              "    <tr style=\"text-align: right;\">\n",
              "      <th></th>\n",
              "      <th>a</th>\n",
              "      <th>b</th>\n",
              "      <th>c</th>\n",
              "    </tr>\n",
              "  </thead>\n",
              "  <tbody>\n",
              "    <tr>\n",
              "      <th>1</th>\n",
              "      <td>4</td>\n",
              "      <td>7</td>\n",
              "      <td>10</td>\n",
              "    </tr>\n",
              "    <tr>\n",
              "      <th>2</th>\n",
              "      <td>5</td>\n",
              "      <td>8</td>\n",
              "      <td>11</td>\n",
              "    </tr>\n",
              "    <tr>\n",
              "      <th>3</th>\n",
              "      <td>6</td>\n",
              "      <td>9</td>\n",
              "      <td>12</td>\n",
              "    </tr>\n",
              "  </tbody>\n",
              "</table>\n",
              "</div>"
            ],
            "text/plain": [
              "   a  b   c\n",
              "1  4  7  10\n",
              "2  5  8  11\n",
              "3  6  9  12"
            ]
          },
          "execution_count": 32,
          "metadata": {},
          "output_type": "execute_result"
        }
      ],
      "source": [
        "df.drop_duplicates(inplace = True)\n",
        "df"
      ]
    },
    {
      "cell_type": "markdown",
      "metadata": {
        "id": "_p9bBJoyg3jF"
      },
      "source": [
        "* inplace = True 옵션은 원본에 바로 적용시키라는 뜻의 옵션\n",
        "* Pandas에서는 drop_duplicates(inplace = True)를 비추함\n",
        "* 대신 df = df.drop_duplicates() 이런 형식을 권장"
      ]
    },
    {
      "cell_type": "code",
      "execution_count": null,
      "metadata": {
        "id": "Tqse8E69g3jF"
      },
      "outputs": [],
      "source": [
        "df = df2"
      ]
    },
    {
      "cell_type": "code",
      "execution_count": null,
      "metadata": {
        "id": "b2QF5SDXg3jF",
        "outputId": "129ac161-32e1-40f3-a9c4-87f69e996258"
      },
      "outputs": [
        {
          "data": {
            "text/html": [
              "<div>\n",
              "<style scoped>\n",
              "    .dataframe tbody tr th:only-of-type {\n",
              "        vertical-align: middle;\n",
              "    }\n",
              "\n",
              "    .dataframe tbody tr th {\n",
              "        vertical-align: top;\n",
              "    }\n",
              "\n",
              "    .dataframe thead th {\n",
              "        text-align: right;\n",
              "    }\n",
              "</style>\n",
              "<table border=\"1\" class=\"dataframe\">\n",
              "  <thead>\n",
              "    <tr style=\"text-align: right;\">\n",
              "      <th></th>\n",
              "      <th>a</th>\n",
              "      <th>b</th>\n",
              "      <th>c</th>\n",
              "    </tr>\n",
              "  </thead>\n",
              "  <tbody>\n",
              "    <tr>\n",
              "      <th>1</th>\n",
              "      <td>4</td>\n",
              "      <td>7</td>\n",
              "      <td>10</td>\n",
              "    </tr>\n",
              "    <tr>\n",
              "      <th>2</th>\n",
              "      <td>5</td>\n",
              "      <td>8</td>\n",
              "      <td>11</td>\n",
              "    </tr>\n",
              "    <tr>\n",
              "      <th>3</th>\n",
              "      <td>6</td>\n",
              "      <td>9</td>\n",
              "      <td>12</td>\n",
              "    </tr>\n",
              "    <tr>\n",
              "      <th>4</th>\n",
              "      <td>6</td>\n",
              "      <td>9</td>\n",
              "      <td>12</td>\n",
              "    </tr>\n",
              "  </tbody>\n",
              "</table>\n",
              "</div>"
            ],
            "text/plain": [
              "   a  b   c\n",
              "1  4  7  10\n",
              "2  5  8  11\n",
              "3  6  9  12\n",
              "4  6  9  12"
            ]
          },
          "execution_count": 34,
          "metadata": {},
          "output_type": "execute_result"
        }
      ],
      "source": [
        "df"
      ]
    },
    {
      "cell_type": "code",
      "execution_count": null,
      "metadata": {
        "id": "bD9IP4bTg3jF",
        "outputId": "25aaf88f-adfc-4967-d7ba-226626a73879"
      },
      "outputs": [
        {
          "data": {
            "text/html": [
              "<div>\n",
              "<style scoped>\n",
              "    .dataframe tbody tr th:only-of-type {\n",
              "        vertical-align: middle;\n",
              "    }\n",
              "\n",
              "    .dataframe tbody tr th {\n",
              "        vertical-align: top;\n",
              "    }\n",
              "\n",
              "    .dataframe thead th {\n",
              "        text-align: right;\n",
              "    }\n",
              "</style>\n",
              "<table border=\"1\" class=\"dataframe\">\n",
              "  <thead>\n",
              "    <tr style=\"text-align: right;\">\n",
              "      <th></th>\n",
              "      <th>a</th>\n",
              "      <th>b</th>\n",
              "      <th>c</th>\n",
              "    </tr>\n",
              "  </thead>\n",
              "  <tbody>\n",
              "    <tr>\n",
              "      <th>1</th>\n",
              "      <td>4</td>\n",
              "      <td>7</td>\n",
              "      <td>10</td>\n",
              "    </tr>\n",
              "    <tr>\n",
              "      <th>2</th>\n",
              "      <td>5</td>\n",
              "      <td>8</td>\n",
              "      <td>11</td>\n",
              "    </tr>\n",
              "    <tr>\n",
              "      <th>3</th>\n",
              "      <td>6</td>\n",
              "      <td>9</td>\n",
              "      <td>12</td>\n",
              "    </tr>\n",
              "  </tbody>\n",
              "</table>\n",
              "</div>"
            ],
            "text/plain": [
              "   a  b   c\n",
              "1  4  7  10\n",
              "2  5  8  11\n",
              "3  6  9  12"
            ]
          },
          "execution_count": 35,
          "metadata": {},
          "output_type": "execute_result"
        }
      ],
      "source": [
        "df.drop_duplicates(keep='first')"
      ]
    },
    {
      "cell_type": "code",
      "execution_count": null,
      "metadata": {
        "id": "nOhulBpJg3jF",
        "outputId": "49cc669f-ff85-4350-bdef-252623f39c49"
      },
      "outputs": [
        {
          "data": {
            "text/html": [
              "<div>\n",
              "<style scoped>\n",
              "    .dataframe tbody tr th:only-of-type {\n",
              "        vertical-align: middle;\n",
              "    }\n",
              "\n",
              "    .dataframe tbody tr th {\n",
              "        vertical-align: top;\n",
              "    }\n",
              "\n",
              "    .dataframe thead th {\n",
              "        text-align: right;\n",
              "    }\n",
              "</style>\n",
              "<table border=\"1\" class=\"dataframe\">\n",
              "  <thead>\n",
              "    <tr style=\"text-align: right;\">\n",
              "      <th></th>\n",
              "      <th>a</th>\n",
              "      <th>b</th>\n",
              "      <th>c</th>\n",
              "    </tr>\n",
              "  </thead>\n",
              "  <tbody>\n",
              "    <tr>\n",
              "      <th>1</th>\n",
              "      <td>4</td>\n",
              "      <td>7</td>\n",
              "      <td>10</td>\n",
              "    </tr>\n",
              "    <tr>\n",
              "      <th>2</th>\n",
              "      <td>5</td>\n",
              "      <td>8</td>\n",
              "      <td>11</td>\n",
              "    </tr>\n",
              "    <tr>\n",
              "      <th>4</th>\n",
              "      <td>6</td>\n",
              "      <td>9</td>\n",
              "      <td>12</td>\n",
              "    </tr>\n",
              "  </tbody>\n",
              "</table>\n",
              "</div>"
            ],
            "text/plain": [
              "   a  b   c\n",
              "1  4  7  10\n",
              "2  5  8  11\n",
              "4  6  9  12"
            ]
          },
          "execution_count": 36,
          "metadata": {},
          "output_type": "execute_result"
        }
      ],
      "source": [
        "df.drop_duplicates(keep='last')"
      ]
    },
    {
      "cell_type": "code",
      "execution_count": null,
      "metadata": {
        "id": "yO8UKuTLg3jG",
        "outputId": "11e7ec46-a701-4b3f-c503-707620dee9c6"
      },
      "outputs": [
        {
          "data": {
            "text/html": [
              "<div>\n",
              "<style scoped>\n",
              "    .dataframe tbody tr th:only-of-type {\n",
              "        vertical-align: middle;\n",
              "    }\n",
              "\n",
              "    .dataframe tbody tr th {\n",
              "        vertical-align: top;\n",
              "    }\n",
              "\n",
              "    .dataframe thead th {\n",
              "        text-align: right;\n",
              "    }\n",
              "</style>\n",
              "<table border=\"1\" class=\"dataframe\">\n",
              "  <thead>\n",
              "    <tr style=\"text-align: right;\">\n",
              "      <th></th>\n",
              "      <th>a</th>\n",
              "      <th>b</th>\n",
              "      <th>c</th>\n",
              "    </tr>\n",
              "  </thead>\n",
              "  <tbody>\n",
              "    <tr>\n",
              "      <th>1</th>\n",
              "      <td>4</td>\n",
              "      <td>7</td>\n",
              "      <td>10</td>\n",
              "    </tr>\n",
              "    <tr>\n",
              "      <th>2</th>\n",
              "      <td>5</td>\n",
              "      <td>8</td>\n",
              "      <td>11</td>\n",
              "    </tr>\n",
              "    <tr>\n",
              "      <th>3</th>\n",
              "      <td>6</td>\n",
              "      <td>9</td>\n",
              "      <td>12</td>\n",
              "    </tr>\n",
              "  </tbody>\n",
              "</table>\n",
              "</div>"
            ],
            "text/plain": [
              "   a  b   c\n",
              "1  4  7  10\n",
              "2  5  8  11\n",
              "3  6  9  12"
            ]
          },
          "execution_count": 37,
          "metadata": {},
          "output_type": "execute_result"
        }
      ],
      "source": [
        "df = df.drop_duplicates(keep='first')\n",
        "df"
      ]
    },
    {
      "cell_type": "code",
      "execution_count": null,
      "metadata": {
        "id": "1LCp4uCBg3jG",
        "outputId": "8ffebca3-a641-482b-e1a4-e147bf73eb8c"
      },
      "outputs": [
        {
          "data": {
            "text/html": [
              "<div>\n",
              "<style scoped>\n",
              "    .dataframe tbody tr th:only-of-type {\n",
              "        vertical-align: middle;\n",
              "    }\n",
              "\n",
              "    .dataframe tbody tr th {\n",
              "        vertical-align: top;\n",
              "    }\n",
              "\n",
              "    .dataframe thead th {\n",
              "        text-align: right;\n",
              "    }\n",
              "</style>\n",
              "<table border=\"1\" class=\"dataframe\">\n",
              "  <thead>\n",
              "    <tr style=\"text-align: right;\">\n",
              "      <th></th>\n",
              "      <th>a</th>\n",
              "      <th>b</th>\n",
              "      <th>c</th>\n",
              "    </tr>\n",
              "  </thead>\n",
              "  <tbody>\n",
              "    <tr>\n",
              "      <th>1</th>\n",
              "      <td>4</td>\n",
              "      <td>7</td>\n",
              "      <td>10</td>\n",
              "    </tr>\n",
              "    <tr>\n",
              "      <th>2</th>\n",
              "      <td>5</td>\n",
              "      <td>8</td>\n",
              "      <td>11</td>\n",
              "    </tr>\n",
              "    <tr>\n",
              "      <th>3</th>\n",
              "      <td>6</td>\n",
              "      <td>9</td>\n",
              "      <td>12</td>\n",
              "    </tr>\n",
              "  </tbody>\n",
              "</table>\n",
              "</div>"
            ],
            "text/plain": [
              "   a  b   c\n",
              "1  4  7  10\n",
              "2  5  8  11\n",
              "3  6  9  12"
            ]
          },
          "execution_count": 38,
          "metadata": {},
          "output_type": "execute_result"
        }
      ],
      "source": [
        "df = df.drop_duplicates(keep='last')\n",
        "df"
      ]
    },
    {
      "cell_type": "markdown",
      "metadata": {
        "id": "5Rw4sqVhg3jG"
      },
      "source": [
        "### 특정값, null값 조회\n",
        "#### 특정값을 조회하는 isin( )"
      ]
    },
    {
      "cell_type": "code",
      "execution_count": null,
      "metadata": {
        "id": "LU56yJP3g3jG"
      },
      "outputs": [],
      "source": [
        "# df.column.isin(values) \n",
        "df.a.isin?"
      ]
    },
    {
      "cell_type": "code",
      "execution_count": null,
      "metadata": {
        "id": "T4ATu3pZg3jG",
        "outputId": "2ee77dd1-fee4-4b5d-efc2-e2373b5303e4"
      },
      "outputs": [
        {
          "ename": "TypeError",
          "evalue": "only list-like objects are allowed to be passed to isin(), you passed a [int]",
          "output_type": "error",
          "traceback": [
            "\u001b[1;31m---------------------------------------------------------------------------\u001b[0m",
            "\u001b[1;31mTypeError\u001b[0m                                 Traceback (most recent call last)",
            "\u001b[1;32m<ipython-input-40-0b8d31764e8b>\u001b[0m in \u001b[0;36m<module>\u001b[1;34m\u001b[0m\n\u001b[1;32m----> 1\u001b[1;33m \u001b[0mdf\u001b[0m\u001b[1;33m.\u001b[0m\u001b[0ma\u001b[0m\u001b[1;33m.\u001b[0m\u001b[0misin\u001b[0m\u001b[1;33m(\u001b[0m\u001b[1;36m5\u001b[0m\u001b[1;33m)\u001b[0m\u001b[1;33m\u001b[0m\u001b[1;33m\u001b[0m\u001b[0m\n\u001b[0m",
            "\u001b[1;32m~\\Anaconda3\\lib\\site-packages\\pandas\\core\\series.py\u001b[0m in \u001b[0;36misin\u001b[1;34m(self, values)\u001b[0m\n\u001b[0;32m   4001\u001b[0m         \u001b[0mName\u001b[0m\u001b[1;33m:\u001b[0m \u001b[0manimal\u001b[0m\u001b[1;33m,\u001b[0m \u001b[0mdtype\u001b[0m\u001b[1;33m:\u001b[0m \u001b[0mbool\u001b[0m\u001b[1;33m\u001b[0m\u001b[1;33m\u001b[0m\u001b[0m\n\u001b[0;32m   4002\u001b[0m         \"\"\"\n\u001b[1;32m-> 4003\u001b[1;33m         \u001b[0mresult\u001b[0m \u001b[1;33m=\u001b[0m \u001b[0malgorithms\u001b[0m\u001b[1;33m.\u001b[0m\u001b[0misin\u001b[0m\u001b[1;33m(\u001b[0m\u001b[0mself\u001b[0m\u001b[1;33m,\u001b[0m \u001b[0mvalues\u001b[0m\u001b[1;33m)\u001b[0m\u001b[1;33m\u001b[0m\u001b[1;33m\u001b[0m\u001b[0m\n\u001b[0m\u001b[0;32m   4004\u001b[0m         \u001b[1;32mreturn\u001b[0m \u001b[0mself\u001b[0m\u001b[1;33m.\u001b[0m\u001b[0m_constructor\u001b[0m\u001b[1;33m(\u001b[0m\u001b[0mresult\u001b[0m\u001b[1;33m,\u001b[0m \u001b[0mindex\u001b[0m\u001b[1;33m=\u001b[0m\u001b[0mself\u001b[0m\u001b[1;33m.\u001b[0m\u001b[0mindex\u001b[0m\u001b[1;33m)\u001b[0m\u001b[1;33m.\u001b[0m\u001b[0m__finalize__\u001b[0m\u001b[1;33m(\u001b[0m\u001b[0mself\u001b[0m\u001b[1;33m)\u001b[0m\u001b[1;33m\u001b[0m\u001b[1;33m\u001b[0m\u001b[0m\n\u001b[0;32m   4005\u001b[0m \u001b[1;33m\u001b[0m\u001b[0m\n",
            "\u001b[1;32m~\\Anaconda3\\lib\\site-packages\\pandas\\core\\algorithms.py\u001b[0m in \u001b[0;36misin\u001b[1;34m(comps, values)\u001b[0m\n\u001b[0;32m    389\u001b[0m         raise TypeError(\"only list-like objects are allowed to be passed\"\n\u001b[0;32m    390\u001b[0m                         \u001b[1;34m\" to isin(), you passed a [{values_type}]\"\u001b[0m\u001b[1;33m\u001b[0m\u001b[1;33m\u001b[0m\u001b[0m\n\u001b[1;32m--> 391\u001b[1;33m                         .format(values_type=type(values).__name__))\n\u001b[0m\u001b[0;32m    392\u001b[0m \u001b[1;33m\u001b[0m\u001b[0m\n\u001b[0;32m    393\u001b[0m     \u001b[1;32mif\u001b[0m \u001b[1;32mnot\u001b[0m \u001b[0misinstance\u001b[0m\u001b[1;33m(\u001b[0m\u001b[0mvalues\u001b[0m\u001b[1;33m,\u001b[0m \u001b[1;33m(\u001b[0m\u001b[0mABCIndex\u001b[0m\u001b[1;33m,\u001b[0m \u001b[0mABCSeries\u001b[0m\u001b[1;33m,\u001b[0m \u001b[0mnp\u001b[0m\u001b[1;33m.\u001b[0m\u001b[0mndarray\u001b[0m\u001b[1;33m)\u001b[0m\u001b[1;33m)\u001b[0m\u001b[1;33m:\u001b[0m\u001b[1;33m\u001b[0m\u001b[1;33m\u001b[0m\u001b[0m\n",
            "\u001b[1;31mTypeError\u001b[0m: only list-like objects are allowed to be passed to isin(), you passed a [int]"
          ]
        }
      ],
      "source": [
        "df.a.isin(5)"
      ]
    },
    {
      "cell_type": "markdown",
      "metadata": {
        "id": "R0jv96qzg3jG"
      },
      "source": [
        "* 특정값이 있나 확인하는 isin, 특정값은 리스트 형태로 써야 함"
      ]
    },
    {
      "cell_type": "code",
      "execution_count": null,
      "metadata": {
        "id": "t5OyeTVMg3jG",
        "outputId": "4c1f0543-bf0f-4890-ee59-7604deea73d3"
      },
      "outputs": [
        {
          "data": {
            "text/plain": [
              "1    False\n",
              "2     True\n",
              "3    False\n",
              "Name: a, dtype: bool"
            ]
          },
          "execution_count": 41,
          "metadata": {},
          "output_type": "execute_result"
        }
      ],
      "source": [
        "df.a.isin([5])"
      ]
    },
    {
      "cell_type": "code",
      "execution_count": null,
      "metadata": {
        "id": "EXUdquTag3jG",
        "outputId": "910ad5de-7f57-4338-f3bb-49fbabf1903c"
      },
      "outputs": [
        {
          "data": {
            "text/html": [
              "<div>\n",
              "<style scoped>\n",
              "    .dataframe tbody tr th:only-of-type {\n",
              "        vertical-align: middle;\n",
              "    }\n",
              "\n",
              "    .dataframe tbody tr th {\n",
              "        vertical-align: top;\n",
              "    }\n",
              "\n",
              "    .dataframe thead th {\n",
              "        text-align: right;\n",
              "    }\n",
              "</style>\n",
              "<table border=\"1\" class=\"dataframe\">\n",
              "  <thead>\n",
              "    <tr style=\"text-align: right;\">\n",
              "      <th></th>\n",
              "      <th>a</th>\n",
              "      <th>b</th>\n",
              "      <th>c</th>\n",
              "    </tr>\n",
              "  </thead>\n",
              "  <tbody>\n",
              "    <tr>\n",
              "      <th>2</th>\n",
              "      <td>5</td>\n",
              "      <td>8</td>\n",
              "      <td>11</td>\n",
              "    </tr>\n",
              "  </tbody>\n",
              "</table>\n",
              "</div>"
            ],
            "text/plain": [
              "   a  b   c\n",
              "2  5  8  11"
            ]
          },
          "execution_count": 42,
          "metadata": {},
          "output_type": "execute_result"
        }
      ],
      "source": [
        "df[df.a.isin([5])]"
      ]
    },
    {
      "cell_type": "code",
      "execution_count": null,
      "metadata": {
        "id": "zSt4XBpVg3jH",
        "outputId": "26510cae-ffba-4966-b1db-79f41b56fd4f"
      },
      "outputs": [
        {
          "data": {
            "text/plain": [
              "1    False\n",
              "2     True\n",
              "3     True\n",
              "Name: a, dtype: bool"
            ]
          },
          "execution_count": 43,
          "metadata": {},
          "output_type": "execute_result"
        }
      ],
      "source": [
        "df.a.isin([5, 6])"
      ]
    },
    {
      "cell_type": "code",
      "execution_count": null,
      "metadata": {
        "id": "O4q8Zx-_g3jH",
        "outputId": "adb07caf-e87d-4da5-9706-5e535a3f6875"
      },
      "outputs": [
        {
          "data": {
            "text/plain": [
              "1    False\n",
              "2     True\n",
              "3     True\n",
              "Name: a, dtype: bool"
            ]
          },
          "execution_count": 44,
          "metadata": {},
          "output_type": "execute_result"
        }
      ],
      "source": [
        "df['a'].isin([5, 6])"
      ]
    },
    {
      "cell_type": "markdown",
      "metadata": {
        "id": "EfRqcTyag3jH"
      },
      "source": [
        "* 주의! 열의 이름이 한글, 특수문자 등이 있다면 반드시 ['열이름'] 형태로 기입해야 함"
      ]
    },
    {
      "cell_type": "markdown",
      "metadata": {
        "id": "98sSQ44Eg3jH"
      },
      "source": [
        "#### null값 조회하는 isnull( )"
      ]
    },
    {
      "cell_type": "code",
      "execution_count": null,
      "metadata": {
        "id": "CybhL5uUg3jH"
      },
      "outputs": [],
      "source": [
        "df.isnull( )"
      ]
    },
    {
      "cell_type": "code",
      "execution_count": null,
      "metadata": {
        "id": "4yx46bECg3jH",
        "outputId": "40bc5daa-cc7d-4776-cbdf-5d626905c261"
      },
      "outputs": [
        {
          "data": {
            "text/html": [
              "<div>\n",
              "<style scoped>\n",
              "    .dataframe tbody tr th:only-of-type {\n",
              "        vertical-align: middle;\n",
              "    }\n",
              "\n",
              "    .dataframe tbody tr th {\n",
              "        vertical-align: top;\n",
              "    }\n",
              "\n",
              "    .dataframe thead th {\n",
              "        text-align: right;\n",
              "    }\n",
              "</style>\n",
              "<table border=\"1\" class=\"dataframe\">\n",
              "  <thead>\n",
              "    <tr style=\"text-align: right;\">\n",
              "      <th></th>\n",
              "      <th>a</th>\n",
              "      <th>b</th>\n",
              "      <th>c</th>\n",
              "    </tr>\n",
              "  </thead>\n",
              "  <tbody>\n",
              "    <tr>\n",
              "      <th>1</th>\n",
              "      <td>False</td>\n",
              "      <td>False</td>\n",
              "      <td>False</td>\n",
              "    </tr>\n",
              "    <tr>\n",
              "      <th>2</th>\n",
              "      <td>False</td>\n",
              "      <td>False</td>\n",
              "      <td>False</td>\n",
              "    </tr>\n",
              "    <tr>\n",
              "      <th>3</th>\n",
              "      <td>False</td>\n",
              "      <td>False</td>\n",
              "      <td>False</td>\n",
              "    </tr>\n",
              "  </tbody>\n",
              "</table>\n",
              "</div>"
            ],
            "text/plain": [
              "       a      b      c\n",
              "1  False  False  False\n",
              "2  False  False  False\n",
              "3  False  False  False"
            ]
          },
          "execution_count": 45,
          "metadata": {},
          "output_type": "execute_result"
        }
      ],
      "source": [
        "pd.isnull(df)"
      ]
    },
    {
      "cell_type": "code",
      "execution_count": null,
      "metadata": {
        "id": "9T7hePsLg3jH"
      },
      "outputs": [],
      "source": [
        "df4 = pd.DataFrame(\n",
        "        {\"a\" : [4 ,5, 6, 6],\n",
        "        \"b\" : [7, 8, 9 ,9],\n",
        "        \"c\" : [10, 11, 12, 12]},\n",
        "        index = [1, 2, 3, 4, 5])\n",
        "df4"
      ]
    },
    {
      "cell_type": "code",
      "execution_count": null,
      "metadata": {
        "id": "nWf5qHKIg3jH",
        "outputId": "0fa3cc0f-84b1-4480-b17d-86a26a4b845b"
      },
      "outputs": [
        {
          "data": {
            "text/html": [
              "<div>\n",
              "<style scoped>\n",
              "    .dataframe tbody tr th:only-of-type {\n",
              "        vertical-align: middle;\n",
              "    }\n",
              "\n",
              "    .dataframe tbody tr th {\n",
              "        vertical-align: top;\n",
              "    }\n",
              "\n",
              "    .dataframe thead th {\n",
              "        text-align: right;\n",
              "    }\n",
              "</style>\n",
              "<table border=\"1\" class=\"dataframe\">\n",
              "  <thead>\n",
              "    <tr style=\"text-align: right;\">\n",
              "      <th></th>\n",
              "      <th>a</th>\n",
              "      <th>b</th>\n",
              "      <th>c</th>\n",
              "    </tr>\n",
              "  </thead>\n",
              "  <tbody>\n",
              "    <tr>\n",
              "      <th>1</th>\n",
              "      <td>4.0</td>\n",
              "      <td>7.0</td>\n",
              "      <td>10.0</td>\n",
              "    </tr>\n",
              "    <tr>\n",
              "      <th>2</th>\n",
              "      <td>5.0</td>\n",
              "      <td>8.0</td>\n",
              "      <td>11.0</td>\n",
              "    </tr>\n",
              "    <tr>\n",
              "      <th>3</th>\n",
              "      <td>6.0</td>\n",
              "      <td>NaN</td>\n",
              "      <td>12.0</td>\n",
              "    </tr>\n",
              "    <tr>\n",
              "      <th>4</th>\n",
              "      <td>6.0</td>\n",
              "      <td>9.0</td>\n",
              "      <td>NaN</td>\n",
              "    </tr>\n",
              "    <tr>\n",
              "      <th>5</th>\n",
              "      <td>NaN</td>\n",
              "      <td>9.0</td>\n",
              "      <td>12.0</td>\n",
              "    </tr>\n",
              "  </tbody>\n",
              "</table>\n",
              "</div>"
            ],
            "text/plain": [
              "     a    b     c\n",
              "1  4.0  7.0  10.0\n",
              "2  5.0  8.0  11.0\n",
              "3  6.0  NaN  12.0\n",
              "4  6.0  9.0   NaN\n",
              "5  NaN  9.0  12.0"
            ]
          },
          "execution_count": 46,
          "metadata": {},
          "output_type": "execute_result"
        }
      ],
      "source": [
        "import numpy as np\n",
        "df4 = pd.DataFrame(\n",
        "        {\"a\" : [4 ,5, 6, 6, np.nan],\n",
        "        \"b\" : [7, 8, np.nan, 9, 9],\n",
        "        \"c\" : [10, 11, 12, np.nan, 12]},\n",
        "        index = [1, 2, 3, 4, 5])\n",
        "df4"
      ]
    },
    {
      "cell_type": "code",
      "execution_count": null,
      "metadata": {
        "id": "boK_WYPQg3jH",
        "outputId": "7428b6c6-8d39-45fa-e8a1-0905a47dc2af"
      },
      "outputs": [
        {
          "data": {
            "text/html": [
              "<div>\n",
              "<style scoped>\n",
              "    .dataframe tbody tr th:only-of-type {\n",
              "        vertical-align: middle;\n",
              "    }\n",
              "\n",
              "    .dataframe tbody tr th {\n",
              "        vertical-align: top;\n",
              "    }\n",
              "\n",
              "    .dataframe thead th {\n",
              "        text-align: right;\n",
              "    }\n",
              "</style>\n",
              "<table border=\"1\" class=\"dataframe\">\n",
              "  <thead>\n",
              "    <tr style=\"text-align: right;\">\n",
              "      <th></th>\n",
              "      <th>a</th>\n",
              "      <th>b</th>\n",
              "      <th>c</th>\n",
              "    </tr>\n",
              "  </thead>\n",
              "  <tbody>\n",
              "    <tr>\n",
              "      <th>1</th>\n",
              "      <td>4</td>\n",
              "      <td>7</td>\n",
              "      <td>10</td>\n",
              "    </tr>\n",
              "    <tr>\n",
              "      <th>2</th>\n",
              "      <td>5</td>\n",
              "      <td>8</td>\n",
              "      <td>11</td>\n",
              "    </tr>\n",
              "    <tr>\n",
              "      <th>3</th>\n",
              "      <td>6</td>\n",
              "      <td>NaN</td>\n",
              "      <td>12</td>\n",
              "    </tr>\n",
              "    <tr>\n",
              "      <th>4</th>\n",
              "      <td>6</td>\n",
              "      <td>9</td>\n",
              "      <td>NaN</td>\n",
              "    </tr>\n",
              "    <tr>\n",
              "      <th>5</th>\n",
              "      <td>NaN</td>\n",
              "      <td>9</td>\n",
              "      <td>12</td>\n",
              "    </tr>\n",
              "  </tbody>\n",
              "</table>\n",
              "</div>"
            ],
            "text/plain": [
              "     a    b    c\n",
              "1    4    7   10\n",
              "2    5    8   11\n",
              "3    6  NaN   12\n",
              "4    6    9  NaN\n",
              "5  NaN    9   12"
            ]
          },
          "execution_count": 47,
          "metadata": {},
          "output_type": "execute_result"
        }
      ],
      "source": [
        "df4 = pd.DataFrame(\n",
        "        {\"a\" : [4 ,5, 6, 6, np.nan],\n",
        "        \"b\" : [7, 8, np.nan, 9, 9],\n",
        "        \"c\" : [10, 11, 12, np.nan, 12]},\n",
        "        index = [1, 2, 3, 4, 5], dtype = int)\n",
        "df4"
      ]
    },
    {
      "cell_type": "code",
      "execution_count": null,
      "metadata": {
        "id": "F3FS8XANg3jI",
        "outputId": "edc739fc-ad7e-4b22-cafa-6f0938855d67"
      },
      "outputs": [
        {
          "data": {
            "text/plain": [
              "a    int64\n",
              "b    int64\n",
              "c    int64\n",
              "dtype: object"
            ]
          },
          "execution_count": 48,
          "metadata": {},
          "output_type": "execute_result"
        }
      ],
      "source": [
        "df.dtypes"
      ]
    },
    {
      "cell_type": "code",
      "execution_count": null,
      "metadata": {
        "id": "aJZT7j3mg3jI",
        "outputId": "19f5addb-8647-41c0-c1d9-c6bb4b86f717"
      },
      "outputs": [
        {
          "data": {
            "text/html": [
              "<div>\n",
              "<style scoped>\n",
              "    .dataframe tbody tr th:only-of-type {\n",
              "        vertical-align: middle;\n",
              "    }\n",
              "\n",
              "    .dataframe tbody tr th {\n",
              "        vertical-align: top;\n",
              "    }\n",
              "\n",
              "    .dataframe thead th {\n",
              "        text-align: right;\n",
              "    }\n",
              "</style>\n",
              "<table border=\"1\" class=\"dataframe\">\n",
              "  <thead>\n",
              "    <tr style=\"text-align: right;\">\n",
              "      <th></th>\n",
              "      <th>a</th>\n",
              "      <th>b</th>\n",
              "      <th>c</th>\n",
              "    </tr>\n",
              "  </thead>\n",
              "  <tbody>\n",
              "    <tr>\n",
              "      <th>1</th>\n",
              "      <td>4</td>\n",
              "      <td>7</td>\n",
              "      <td>10</td>\n",
              "    </tr>\n",
              "    <tr>\n",
              "      <th>2</th>\n",
              "      <td>5</td>\n",
              "      <td>8</td>\n",
              "      <td>11</td>\n",
              "    </tr>\n",
              "    <tr>\n",
              "      <th>3</th>\n",
              "      <td>6</td>\n",
              "      <td>9</td>\n",
              "      <td>12</td>\n",
              "    </tr>\n",
              "  </tbody>\n",
              "</table>\n",
              "</div>"
            ],
            "text/plain": [
              "   a  b   c\n",
              "1  4  7  10\n",
              "2  5  8  11\n",
              "3  6  9  12"
            ]
          },
          "execution_count": 49,
          "metadata": {},
          "output_type": "execute_result"
        }
      ],
      "source": [
        "df"
      ]
    },
    {
      "cell_type": "code",
      "execution_count": null,
      "metadata": {
        "id": "1aZekzEAg3jI",
        "outputId": "8156812d-2c34-4811-faf2-eb9125a6c336"
      },
      "outputs": [
        {
          "data": {
            "text/html": [
              "<div>\n",
              "<style scoped>\n",
              "    .dataframe tbody tr th:only-of-type {\n",
              "        vertical-align: middle;\n",
              "    }\n",
              "\n",
              "    .dataframe tbody tr th {\n",
              "        vertical-align: top;\n",
              "    }\n",
              "\n",
              "    .dataframe thead th {\n",
              "        text-align: right;\n",
              "    }\n",
              "</style>\n",
              "<table border=\"1\" class=\"dataframe\">\n",
              "  <thead>\n",
              "    <tr style=\"text-align: right;\">\n",
              "      <th></th>\n",
              "      <th>a</th>\n",
              "      <th>b</th>\n",
              "      <th>c</th>\n",
              "    </tr>\n",
              "  </thead>\n",
              "  <tbody>\n",
              "    <tr>\n",
              "      <th>1</th>\n",
              "      <td>False</td>\n",
              "      <td>False</td>\n",
              "      <td>False</td>\n",
              "    </tr>\n",
              "    <tr>\n",
              "      <th>2</th>\n",
              "      <td>False</td>\n",
              "      <td>False</td>\n",
              "      <td>False</td>\n",
              "    </tr>\n",
              "    <tr>\n",
              "      <th>3</th>\n",
              "      <td>False</td>\n",
              "      <td>True</td>\n",
              "      <td>False</td>\n",
              "    </tr>\n",
              "    <tr>\n",
              "      <th>4</th>\n",
              "      <td>False</td>\n",
              "      <td>False</td>\n",
              "      <td>True</td>\n",
              "    </tr>\n",
              "    <tr>\n",
              "      <th>5</th>\n",
              "      <td>True</td>\n",
              "      <td>False</td>\n",
              "      <td>False</td>\n",
              "    </tr>\n",
              "  </tbody>\n",
              "</table>\n",
              "</div>"
            ],
            "text/plain": [
              "       a      b      c\n",
              "1  False  False  False\n",
              "2  False  False  False\n",
              "3  False   True  False\n",
              "4  False  False   True\n",
              "5   True  False  False"
            ]
          },
          "execution_count": 50,
          "metadata": {},
          "output_type": "execute_result"
        }
      ],
      "source": [
        "pd.isnull(df4)"
      ]
    },
    {
      "cell_type": "code",
      "execution_count": null,
      "metadata": {
        "id": "QN1hg214g3jI",
        "outputId": "acbfca10-85f3-4b8a-b963-9a33f1b1a9bd"
      },
      "outputs": [
        {
          "data": {
            "text/html": [
              "<div>\n",
              "<style scoped>\n",
              "    .dataframe tbody tr th:only-of-type {\n",
              "        vertical-align: middle;\n",
              "    }\n",
              "\n",
              "    .dataframe tbody tr th {\n",
              "        vertical-align: top;\n",
              "    }\n",
              "\n",
              "    .dataframe thead th {\n",
              "        text-align: right;\n",
              "    }\n",
              "</style>\n",
              "<table border=\"1\" class=\"dataframe\">\n",
              "  <thead>\n",
              "    <tr style=\"text-align: right;\">\n",
              "      <th></th>\n",
              "      <th>a</th>\n",
              "      <th>b</th>\n",
              "      <th>c</th>\n",
              "    </tr>\n",
              "  </thead>\n",
              "  <tbody>\n",
              "    <tr>\n",
              "      <th>1</th>\n",
              "      <td>False</td>\n",
              "      <td>False</td>\n",
              "      <td>False</td>\n",
              "    </tr>\n",
              "    <tr>\n",
              "      <th>2</th>\n",
              "      <td>False</td>\n",
              "      <td>False</td>\n",
              "      <td>False</td>\n",
              "    </tr>\n",
              "    <tr>\n",
              "      <th>3</th>\n",
              "      <td>False</td>\n",
              "      <td>True</td>\n",
              "      <td>False</td>\n",
              "    </tr>\n",
              "    <tr>\n",
              "      <th>4</th>\n",
              "      <td>False</td>\n",
              "      <td>False</td>\n",
              "      <td>True</td>\n",
              "    </tr>\n",
              "    <tr>\n",
              "      <th>5</th>\n",
              "      <td>True</td>\n",
              "      <td>False</td>\n",
              "      <td>False</td>\n",
              "    </tr>\n",
              "  </tbody>\n",
              "</table>\n",
              "</div>"
            ],
            "text/plain": [
              "       a      b      c\n",
              "1  False  False  False\n",
              "2  False  False  False\n",
              "3  False   True  False\n",
              "4  False  False   True\n",
              "5   True  False  False"
            ]
          },
          "execution_count": 51,
          "metadata": {},
          "output_type": "execute_result"
        }
      ],
      "source": [
        "df4.isnull()"
      ]
    },
    {
      "cell_type": "code",
      "execution_count": null,
      "metadata": {
        "id": "0QLwLiz3g3jI",
        "outputId": "3410491c-86ba-450b-93ce-8c4f3a74cabf"
      },
      "outputs": [
        {
          "data": {
            "text/plain": [
              "1    False\n",
              "2    False\n",
              "3    False\n",
              "4    False\n",
              "5     True\n",
              "Name: a, dtype: bool"
            ]
          },
          "execution_count": 52,
          "metadata": {},
          "output_type": "execute_result"
        }
      ],
      "source": [
        "df4['a'].isnull()"
      ]
    },
    {
      "cell_type": "code",
      "execution_count": null,
      "metadata": {
        "id": "r7xGvhI2g3jI",
        "outputId": "c52fddf0-8b7c-4193-a4cc-b5e06aec0bed"
      },
      "outputs": [
        {
          "data": {
            "text/plain": [
              "1"
            ]
          },
          "execution_count": 53,
          "metadata": {},
          "output_type": "execute_result"
        }
      ],
      "source": [
        "df4['a'].isnull().sum()"
      ]
    },
    {
      "cell_type": "markdown",
      "metadata": {
        "id": "G35mySnag3jI"
      },
      "source": [
        "* 'a'열의 null값 즉, 비어있는값 이 총 몇 개인지 알려줌"
      ]
    },
    {
      "cell_type": "markdown",
      "metadata": {
        "id": "x1vCWfQ0g3jI"
      },
      "source": [
        "#### notnull과 ~notnull"
      ]
    },
    {
      "cell_type": "code",
      "execution_count": null,
      "metadata": {
        "id": "jo6NPBKZg3jI",
        "outputId": "09c44d40-658d-4ede-883a-f5cfd12b1635"
      },
      "outputs": [
        {
          "data": {
            "text/html": [
              "<div>\n",
              "<style scoped>\n",
              "    .dataframe tbody tr th:only-of-type {\n",
              "        vertical-align: middle;\n",
              "    }\n",
              "\n",
              "    .dataframe tbody tr th {\n",
              "        vertical-align: top;\n",
              "    }\n",
              "\n",
              "    .dataframe thead th {\n",
              "        text-align: right;\n",
              "    }\n",
              "</style>\n",
              "<table border=\"1\" class=\"dataframe\">\n",
              "  <thead>\n",
              "    <tr style=\"text-align: right;\">\n",
              "      <th></th>\n",
              "      <th>a</th>\n",
              "      <th>b</th>\n",
              "      <th>c</th>\n",
              "    </tr>\n",
              "  </thead>\n",
              "  <tbody>\n",
              "    <tr>\n",
              "      <th>1</th>\n",
              "      <td>True</td>\n",
              "      <td>True</td>\n",
              "      <td>True</td>\n",
              "    </tr>\n",
              "    <tr>\n",
              "      <th>2</th>\n",
              "      <td>True</td>\n",
              "      <td>True</td>\n",
              "      <td>True</td>\n",
              "    </tr>\n",
              "    <tr>\n",
              "      <th>3</th>\n",
              "      <td>True</td>\n",
              "      <td>False</td>\n",
              "      <td>True</td>\n",
              "    </tr>\n",
              "    <tr>\n",
              "      <th>4</th>\n",
              "      <td>True</td>\n",
              "      <td>True</td>\n",
              "      <td>False</td>\n",
              "    </tr>\n",
              "    <tr>\n",
              "      <th>5</th>\n",
              "      <td>False</td>\n",
              "      <td>True</td>\n",
              "      <td>True</td>\n",
              "    </tr>\n",
              "  </tbody>\n",
              "</table>\n",
              "</div>"
            ],
            "text/plain": [
              "       a      b      c\n",
              "1   True   True   True\n",
              "2   True   True   True\n",
              "3   True  False   True\n",
              "4   True   True  False\n",
              "5  False   True   True"
            ]
          },
          "execution_count": 54,
          "metadata": {},
          "output_type": "execute_result"
        }
      ],
      "source": [
        "pd.notnull(df4)"
      ]
    },
    {
      "cell_type": "code",
      "execution_count": null,
      "metadata": {
        "id": "KkJpCKuAg3jJ"
      },
      "outputs": [],
      "source": [
        "df4.notnull()"
      ]
    },
    {
      "cell_type": "code",
      "execution_count": null,
      "metadata": {
        "id": "nT8S4AbIg3jJ",
        "outputId": "f3ebb319-f1af-4942-fe2d-6056708ee9d9"
      },
      "outputs": [
        {
          "data": {
            "text/plain": [
              "a    4\n",
              "b    4\n",
              "c    4\n",
              "dtype: int64"
            ]
          },
          "execution_count": 55,
          "metadata": {},
          "output_type": "execute_result"
        }
      ],
      "source": [
        "df4.notnull().sum()"
      ]
    },
    {
      "cell_type": "markdown",
      "metadata": {
        "id": "l4x7gb1Rg3jJ"
      },
      "source": [
        "* notnull의 총 개수를 알려 줌"
      ]
    },
    {
      "cell_type": "code",
      "execution_count": null,
      "metadata": {
        "id": "eL-9U-atg3jJ",
        "outputId": "0e92a04d-9b2d-4f9e-b4d9-73b19290b676"
      },
      "outputs": [
        {
          "data": {
            "text/plain": [
              "1     True\n",
              "2     True\n",
              "3     True\n",
              "4     True\n",
              "5    False\n",
              "Name: a, dtype: bool"
            ]
          },
          "execution_count": 56,
          "metadata": {},
          "output_type": "execute_result"
        }
      ],
      "source": [
        "df4.a.notnull()"
      ]
    },
    {
      "cell_type": "code",
      "execution_count": null,
      "metadata": {
        "id": "gqRwYTxag3jJ",
        "outputId": "297d7d7e-eda1-4f26-deaa-e81945521cfe"
      },
      "outputs": [
        {
          "data": {
            "text/plain": [
              "1     True\n",
              "2     True\n",
              "3     True\n",
              "4     True\n",
              "5    False\n",
              "Name: a, dtype: bool"
            ]
          },
          "execution_count": 57,
          "metadata": {},
          "output_type": "execute_result"
        }
      ],
      "source": [
        "df4['a'].notnull()"
      ]
    },
    {
      "cell_type": "code",
      "execution_count": null,
      "metadata": {
        "id": "RKpXEGGvg3jJ",
        "outputId": "d62f9989-3127-4bf8-fd4b-4be9400d9630"
      },
      "outputs": [
        {
          "data": {
            "text/plain": [
              "1    False\n",
              "2    False\n",
              "3    False\n",
              "4    False\n",
              "5     True\n",
              "Name: a, dtype: bool"
            ]
          },
          "execution_count": 58,
          "metadata": {},
          "output_type": "execute_result"
        }
      ],
      "source": [
        "~df4.a.notnull()"
      ]
    },
    {
      "cell_type": "markdown",
      "metadata": {
        "id": "6lRiUb2lg3jJ"
      },
      "source": [
        "### 논리 연산자를 이용한 조회"
      ]
    },
    {
      "cell_type": "code",
      "execution_count": null,
      "metadata": {
        "id": "lRQWKI9qg3jJ",
        "outputId": "044ec155-4401-4e0d-c808-e793edf4b4cb"
      },
      "outputs": [
        {
          "data": {
            "text/plain": [
              "False"
            ]
          },
          "execution_count": 1,
          "metadata": {},
          "output_type": "execute_result"
        }
      ],
      "source": [
        "True and False"
      ]
    },
    {
      "cell_type": "code",
      "execution_count": null,
      "metadata": {
        "id": "BwNqis22g3jJ"
      },
      "outputs": [],
      "source": [
        "True or False"
      ]
    },
    {
      "cell_type": "code",
      "execution_count": null,
      "metadata": {
        "id": "eGY6h63Lg3jJ",
        "outputId": "2badfd47-4b29-4e2f-a9df-0ad709678e8f"
      },
      "outputs": [
        {
          "data": {
            "text/html": [
              "<div>\n",
              "<style scoped>\n",
              "    .dataframe tbody tr th:only-of-type {\n",
              "        vertical-align: middle;\n",
              "    }\n",
              "\n",
              "    .dataframe tbody tr th {\n",
              "        vertical-align: top;\n",
              "    }\n",
              "\n",
              "    .dataframe thead th {\n",
              "        text-align: right;\n",
              "    }\n",
              "</style>\n",
              "<table border=\"1\" class=\"dataframe\">\n",
              "  <thead>\n",
              "    <tr style=\"text-align: right;\">\n",
              "      <th></th>\n",
              "      <th>a</th>\n",
              "      <th>b</th>\n",
              "      <th>c</th>\n",
              "    </tr>\n",
              "  </thead>\n",
              "  <tbody>\n",
              "    <tr>\n",
              "      <th>1</th>\n",
              "      <td>4</td>\n",
              "      <td>7</td>\n",
              "      <td>10</td>\n",
              "    </tr>\n",
              "    <tr>\n",
              "      <th>2</th>\n",
              "      <td>5</td>\n",
              "      <td>8</td>\n",
              "      <td>11</td>\n",
              "    </tr>\n",
              "    <tr>\n",
              "      <th>3</th>\n",
              "      <td>6</td>\n",
              "      <td>NaN</td>\n",
              "      <td>12</td>\n",
              "    </tr>\n",
              "    <tr>\n",
              "      <th>4</th>\n",
              "      <td>6</td>\n",
              "      <td>9</td>\n",
              "      <td>NaN</td>\n",
              "    </tr>\n",
              "    <tr>\n",
              "      <th>5</th>\n",
              "      <td>NaN</td>\n",
              "      <td>9</td>\n",
              "      <td>12</td>\n",
              "    </tr>\n",
              "  </tbody>\n",
              "</table>\n",
              "</div>"
            ],
            "text/plain": [
              "     a    b    c\n",
              "1    4    7   10\n",
              "2    5    8   11\n",
              "3    6  NaN   12\n",
              "4    6    9  NaN\n",
              "5  NaN    9   12"
            ]
          },
          "execution_count": 59,
          "metadata": {},
          "output_type": "execute_result"
        }
      ],
      "source": [
        "df4"
      ]
    },
    {
      "cell_type": "code",
      "execution_count": null,
      "metadata": {
        "id": "SgiZux6vg3jK",
        "outputId": "2d369eaa-37c0-4f12-c6de-f65d828b6949"
      },
      "outputs": [
        {
          "data": {
            "text/html": [
              "<div>\n",
              "<style scoped>\n",
              "    .dataframe tbody tr th:only-of-type {\n",
              "        vertical-align: middle;\n",
              "    }\n",
              "\n",
              "    .dataframe tbody tr th {\n",
              "        vertical-align: top;\n",
              "    }\n",
              "\n",
              "    .dataframe thead th {\n",
              "        text-align: right;\n",
              "    }\n",
              "</style>\n",
              "<table border=\"1\" class=\"dataframe\">\n",
              "  <thead>\n",
              "    <tr style=\"text-align: right;\">\n",
              "      <th></th>\n",
              "      <th>a</th>\n",
              "      <th>b</th>\n",
              "      <th>c</th>\n",
              "    </tr>\n",
              "  </thead>\n",
              "  <tbody>\n",
              "    <tr>\n",
              "      <th>1</th>\n",
              "      <td>4</td>\n",
              "      <td>7</td>\n",
              "      <td>10</td>\n",
              "    </tr>\n",
              "  </tbody>\n",
              "</table>\n",
              "</div>"
            ],
            "text/plain": [
              "   a  b   c\n",
              "1  4  7  10"
            ]
          },
          "execution_count": 60,
          "metadata": {},
          "output_type": "execute_result"
        }
      ],
      "source": [
        "df4[df4.b == 7] & df4[df4.a == 4]"
      ]
    },
    {
      "cell_type": "code",
      "execution_count": null,
      "metadata": {
        "id": "hWIUJ2-Ng3jK",
        "outputId": "85277bbf-ab9c-4953-bbcc-425094f0f3ae"
      },
      "outputs": [
        {
          "data": {
            "text/html": [
              "<div>\n",
              "<style scoped>\n",
              "    .dataframe tbody tr th:only-of-type {\n",
              "        vertical-align: middle;\n",
              "    }\n",
              "\n",
              "    .dataframe tbody tr th {\n",
              "        vertical-align: top;\n",
              "    }\n",
              "\n",
              "    .dataframe thead th {\n",
              "        text-align: right;\n",
              "    }\n",
              "</style>\n",
              "<table border=\"1\" class=\"dataframe\">\n",
              "  <thead>\n",
              "    <tr style=\"text-align: right;\">\n",
              "      <th></th>\n",
              "      <th>a</th>\n",
              "      <th>b</th>\n",
              "      <th>c</th>\n",
              "    </tr>\n",
              "  </thead>\n",
              "  <tbody>\n",
              "    <tr>\n",
              "      <th>1</th>\n",
              "      <td>4</td>\n",
              "      <td>7</td>\n",
              "      <td>10</td>\n",
              "    </tr>\n",
              "  </tbody>\n",
              "</table>\n",
              "</div>"
            ],
            "text/plain": [
              "   a  b   c\n",
              "1  4  7  10"
            ]
          },
          "execution_count": 61,
          "metadata": {},
          "output_type": "execute_result"
        }
      ],
      "source": [
        "df4[df4.b == 7] | df4[df4.a == 4]"
      ]
    },
    {
      "cell_type": "code",
      "execution_count": null,
      "metadata": {
        "id": "a0egeC7_g3jK"
      },
      "outputs": [],
      "source": [
        "df4[df4.b == 9] | df4[df4.a == 6]"
      ]
    },
    {
      "cell_type": "code",
      "execution_count": null,
      "metadata": {
        "id": "YgEJuDzvg3jK",
        "outputId": "d6042663-decb-40ce-b668-52cd8ac5bd39"
      },
      "outputs": [
        {
          "data": {
            "text/html": [
              "<div>\n",
              "<style scoped>\n",
              "    .dataframe tbody tr th:only-of-type {\n",
              "        vertical-align: middle;\n",
              "    }\n",
              "\n",
              "    .dataframe tbody tr th {\n",
              "        vertical-align: top;\n",
              "    }\n",
              "\n",
              "    .dataframe thead th {\n",
              "        text-align: right;\n",
              "    }\n",
              "</style>\n",
              "<table border=\"1\" class=\"dataframe\">\n",
              "  <thead>\n",
              "    <tr style=\"text-align: right;\">\n",
              "      <th></th>\n",
              "      <th>a</th>\n",
              "      <th>b</th>\n",
              "      <th>c</th>\n",
              "    </tr>\n",
              "  </thead>\n",
              "  <tbody>\n",
              "    <tr>\n",
              "      <th>4</th>\n",
              "      <td>6</td>\n",
              "      <td>9</td>\n",
              "      <td>NaN</td>\n",
              "    </tr>\n",
              "    <tr>\n",
              "      <th>5</th>\n",
              "      <td>NaN</td>\n",
              "      <td>9</td>\n",
              "      <td>12</td>\n",
              "    </tr>\n",
              "  </tbody>\n",
              "</table>\n",
              "</div>"
            ],
            "text/plain": [
              "     a  b    c\n",
              "4    6  9  NaN\n",
              "5  NaN  9   12"
            ]
          },
          "execution_count": 64,
          "metadata": {},
          "output_type": "execute_result"
        }
      ],
      "source": [
        "df4[df4.b == 9]"
      ]
    },
    {
      "cell_type": "code",
      "execution_count": null,
      "metadata": {
        "id": "r2hlx7ejg3jK",
        "outputId": "b266a380-5414-4c8c-84e2-9667c39c4162"
      },
      "outputs": [
        {
          "data": {
            "text/html": [
              "<div>\n",
              "<style scoped>\n",
              "    .dataframe tbody tr th:only-of-type {\n",
              "        vertical-align: middle;\n",
              "    }\n",
              "\n",
              "    .dataframe tbody tr th {\n",
              "        vertical-align: top;\n",
              "    }\n",
              "\n",
              "    .dataframe thead th {\n",
              "        text-align: right;\n",
              "    }\n",
              "</style>\n",
              "<table border=\"1\" class=\"dataframe\">\n",
              "  <thead>\n",
              "    <tr style=\"text-align: right;\">\n",
              "      <th></th>\n",
              "      <th>a</th>\n",
              "      <th>b</th>\n",
              "      <th>c</th>\n",
              "    </tr>\n",
              "  </thead>\n",
              "  <tbody>\n",
              "    <tr>\n",
              "      <th>3</th>\n",
              "      <td>6</td>\n",
              "      <td>NaN</td>\n",
              "      <td>12</td>\n",
              "    </tr>\n",
              "    <tr>\n",
              "      <th>4</th>\n",
              "      <td>6</td>\n",
              "      <td>9</td>\n",
              "      <td>NaN</td>\n",
              "    </tr>\n",
              "  </tbody>\n",
              "</table>\n",
              "</div>"
            ],
            "text/plain": [
              "   a    b    c\n",
              "3  6  NaN   12\n",
              "4  6    9  NaN"
            ]
          },
          "execution_count": 65,
          "metadata": {},
          "output_type": "execute_result"
        }
      ],
      "source": [
        "df4[df4.a == 6]"
      ]
    },
    {
      "cell_type": "code",
      "execution_count": null,
      "metadata": {
        "id": "OG4SojSwg3jK"
      },
      "outputs": [],
      "source": [
        ""
      ]
    },
    {
      "cell_type": "code",
      "execution_count": null,
      "metadata": {
        "id": "mG_JZGlFg3jK"
      },
      "outputs": [],
      "source": [
        "df4[(df4.b == 9) & (df4.a == 6)]"
      ]
    },
    {
      "cell_type": "code",
      "execution_count": null,
      "metadata": {
        "id": "stH6w8JXg3jK"
      },
      "outputs": [],
      "source": [
        "df4[(df4.b == 9) | (df4.a == 6)]"
      ]
    },
    {
      "cell_type": "markdown",
      "metadata": {
        "id": "8csGSyPPg3jK"
      },
      "source": [
        "#### 기초적 통계 관련"
      ]
    },
    {
      "cell_type": "code",
      "execution_count": null,
      "metadata": {
        "id": "NTgyQVH1g3jK"
      },
      "outputs": [],
      "source": [
        "df4.nlargest?"
      ]
    },
    {
      "cell_type": "code",
      "execution_count": null,
      "metadata": {
        "id": "DKQLu_gyg3jL",
        "outputId": "cbf79ea5-372c-48bd-fbad-1199f83fe923"
      },
      "outputs": [
        {
          "data": {
            "text/html": [
              "<div>\n",
              "<style scoped>\n",
              "    .dataframe tbody tr th:only-of-type {\n",
              "        vertical-align: middle;\n",
              "    }\n",
              "\n",
              "    .dataframe tbody tr th {\n",
              "        vertical-align: top;\n",
              "    }\n",
              "\n",
              "    .dataframe thead th {\n",
              "        text-align: right;\n",
              "    }\n",
              "</style>\n",
              "<table border=\"1\" class=\"dataframe\">\n",
              "  <thead>\n",
              "    <tr style=\"text-align: right;\">\n",
              "      <th></th>\n",
              "      <th>population</th>\n",
              "      <th>GDP</th>\n",
              "      <th>alpha-2</th>\n",
              "    </tr>\n",
              "  </thead>\n",
              "  <tbody>\n",
              "    <tr>\n",
              "      <th>Italy</th>\n",
              "      <td>59000000</td>\n",
              "      <td>1937894</td>\n",
              "      <td>IT</td>\n",
              "    </tr>\n",
              "    <tr>\n",
              "      <th>France</th>\n",
              "      <td>65000000</td>\n",
              "      <td>2583560</td>\n",
              "      <td>FR</td>\n",
              "    </tr>\n",
              "    <tr>\n",
              "      <th>Malta</th>\n",
              "      <td>434000</td>\n",
              "      <td>12011</td>\n",
              "      <td>MT</td>\n",
              "    </tr>\n",
              "    <tr>\n",
              "      <th>Maldives</th>\n",
              "      <td>434000</td>\n",
              "      <td>4520</td>\n",
              "      <td>MV</td>\n",
              "    </tr>\n",
              "    <tr>\n",
              "      <th>Brunei</th>\n",
              "      <td>434000</td>\n",
              "      <td>12128</td>\n",
              "      <td>BN</td>\n",
              "    </tr>\n",
              "    <tr>\n",
              "      <th>Iceland</th>\n",
              "      <td>337000</td>\n",
              "      <td>17036</td>\n",
              "      <td>IS</td>\n",
              "    </tr>\n",
              "    <tr>\n",
              "      <th>Nauru</th>\n",
              "      <td>11300</td>\n",
              "      <td>182</td>\n",
              "      <td>NR</td>\n",
              "    </tr>\n",
              "    <tr>\n",
              "      <th>Tuvalu</th>\n",
              "      <td>11300</td>\n",
              "      <td>38</td>\n",
              "      <td>TV</td>\n",
              "    </tr>\n",
              "    <tr>\n",
              "      <th>Anguilla</th>\n",
              "      <td>11300</td>\n",
              "      <td>311</td>\n",
              "      <td>AI</td>\n",
              "    </tr>\n",
              "  </tbody>\n",
              "</table>\n",
              "</div>"
            ],
            "text/plain": [
              "          population      GDP alpha-2\n",
              "Italy       59000000  1937894      IT\n",
              "France      65000000  2583560      FR\n",
              "Malta         434000    12011      MT\n",
              "Maldives      434000     4520      MV\n",
              "Brunei        434000    12128      BN\n",
              "Iceland       337000    17036      IS\n",
              "Nauru          11300      182      NR\n",
              "Tuvalu         11300       38      TV\n",
              "Anguilla       11300      311      AI"
            ]
          },
          "execution_count": 84,
          "metadata": {},
          "output_type": "execute_result"
        }
      ],
      "source": [
        "df5 = pd.DataFrame({'population': [59000000, 65000000, 434000,\n",
        "                                   434000, 434000, 337000, 11300,\n",
        "                                   11300, 11300],\n",
        "                    'GDP': [1937894, 2583560 , 12011, 4520, 12128,\n",
        "                            17036, 182, 38, 311],\n",
        "                    'alpha-2': [\"IT\", \"FR\", \"MT\", \"MV\", \"BN\",\n",
        "                                \"IS\", \"NR\", \"TV\", \"AI\"]},\n",
        "                   index=[\"Italy\", \"France\", \"Malta\",\n",
        "                          \"Maldives\", \"Brunei\", \"Iceland\",\n",
        "                          \"Nauru\", \"Tuvalu\", \"Anguilla\"])\n",
        "df5"
      ]
    },
    {
      "cell_type": "code",
      "execution_count": null,
      "metadata": {
        "id": "_5lPeel1g3jL"
      },
      "outputs": [],
      "source": [
        "df5.nlargest(3, 'population')"
      ]
    },
    {
      "cell_type": "code",
      "execution_count": null,
      "metadata": {
        "id": "qZOtmdv2g3jL"
      },
      "outputs": [],
      "source": [
        "df5.nsmallest(3, 'population')"
      ]
    },
    {
      "cell_type": "code",
      "execution_count": null,
      "metadata": {
        "id": "ZHAq2A5kg3jL",
        "outputId": "b65b25ff-6e8e-491e-c520-70f6c7ed6be2"
      },
      "outputs": [
        {
          "data": {
            "text/html": [
              "<div>\n",
              "<style scoped>\n",
              "    .dataframe tbody tr th:only-of-type {\n",
              "        vertical-align: middle;\n",
              "    }\n",
              "\n",
              "    .dataframe tbody tr th {\n",
              "        vertical-align: top;\n",
              "    }\n",
              "\n",
              "    .dataframe thead th {\n",
              "        text-align: right;\n",
              "    }\n",
              "</style>\n",
              "<table border=\"1\" class=\"dataframe\">\n",
              "  <thead>\n",
              "    <tr style=\"text-align: right;\">\n",
              "      <th></th>\n",
              "      <th>population</th>\n",
              "      <th>GDP</th>\n",
              "    </tr>\n",
              "  </thead>\n",
              "  <tbody>\n",
              "    <tr>\n",
              "      <th>count</th>\n",
              "      <td>9.000000e+00</td>\n",
              "      <td>9.000000e+00</td>\n",
              "    </tr>\n",
              "    <tr>\n",
              "      <th>mean</th>\n",
              "      <td>1.396366e+07</td>\n",
              "      <td>5.075200e+05</td>\n",
              "    </tr>\n",
              "    <tr>\n",
              "      <th>std</th>\n",
              "      <td>2.727596e+07</td>\n",
              "      <td>1.007015e+06</td>\n",
              "    </tr>\n",
              "    <tr>\n",
              "      <th>min</th>\n",
              "      <td>1.130000e+04</td>\n",
              "      <td>3.800000e+01</td>\n",
              "    </tr>\n",
              "    <tr>\n",
              "      <th>25%</th>\n",
              "      <td>1.130000e+04</td>\n",
              "      <td>3.110000e+02</td>\n",
              "    </tr>\n",
              "    <tr>\n",
              "      <th>50%</th>\n",
              "      <td>4.340000e+05</td>\n",
              "      <td>1.201100e+04</td>\n",
              "    </tr>\n",
              "    <tr>\n",
              "      <th>75%</th>\n",
              "      <td>4.340000e+05</td>\n",
              "      <td>1.703600e+04</td>\n",
              "    </tr>\n",
              "    <tr>\n",
              "      <th>max</th>\n",
              "      <td>6.500000e+07</td>\n",
              "      <td>2.583560e+06</td>\n",
              "    </tr>\n",
              "  </tbody>\n",
              "</table>\n",
              "</div>"
            ],
            "text/plain": [
              "         population           GDP\n",
              "count  9.000000e+00  9.000000e+00\n",
              "mean   1.396366e+07  5.075200e+05\n",
              "std    2.727596e+07  1.007015e+06\n",
              "min    1.130000e+04  3.800000e+01\n",
              "25%    1.130000e+04  3.110000e+02\n",
              "50%    4.340000e+05  1.201100e+04\n",
              "75%    4.340000e+05  1.703600e+04\n",
              "max    6.500000e+07  2.583560e+06"
            ]
          },
          "execution_count": 36,
          "metadata": {},
          "output_type": "execute_result"
        }
      ],
      "source": [
        "df5.describe()"
      ]
    },
    {
      "cell_type": "code",
      "execution_count": null,
      "metadata": {
        "id": "4GuuCENxg3jL"
      },
      "outputs": [],
      "source": [
        "df5['population'].count()"
      ]
    },
    {
      "cell_type": "code",
      "execution_count": null,
      "metadata": {
        "id": "-hJGoPXtg3jL"
      },
      "outputs": [],
      "source": [
        "df5['population'].mean()"
      ]
    },
    {
      "cell_type": "code",
      "execution_count": null,
      "metadata": {
        "id": "eGo8zbSwg3jL"
      },
      "outputs": [],
      "source": [
        "df5['population'].median()"
      ]
    },
    {
      "cell_type": "code",
      "execution_count": null,
      "metadata": {
        "id": "2fVy17kng3jL"
      },
      "outputs": [],
      "source": [
        "df5['population'].max()"
      ]
    },
    {
      "cell_type": "code",
      "execution_count": null,
      "metadata": {
        "id": "fjg1r-0rg3jL"
      },
      "outputs": [],
      "source": [
        "df5['population'].min()"
      ]
    },
    {
      "cell_type": "code",
      "execution_count": null,
      "metadata": {
        "id": "qfuhRSQqg3jM"
      },
      "outputs": [],
      "source": [
        "df5.sample(n=5)"
      ]
    },
    {
      "cell_type": "code",
      "execution_count": null,
      "metadata": {
        "id": "mm9riKoig3jM",
        "outputId": "94f7a25c-cbda-4c47-8ca2-d89151a7fb47"
      },
      "outputs": [
        {
          "data": {
            "text/html": [
              "<div>\n",
              "<style scoped>\n",
              "    .dataframe tbody tr th:only-of-type {\n",
              "        vertical-align: middle;\n",
              "    }\n",
              "\n",
              "    .dataframe tbody tr th {\n",
              "        vertical-align: top;\n",
              "    }\n",
              "\n",
              "    .dataframe thead th {\n",
              "        text-align: right;\n",
              "    }\n",
              "</style>\n",
              "<table border=\"1\" class=\"dataframe\">\n",
              "  <thead>\n",
              "    <tr style=\"text-align: right;\">\n",
              "      <th></th>\n",
              "      <th>population</th>\n",
              "      <th>GDP</th>\n",
              "      <th>alpha-2</th>\n",
              "    </tr>\n",
              "  </thead>\n",
              "  <tbody>\n",
              "    <tr>\n",
              "      <th>Italy</th>\n",
              "      <td>59000000</td>\n",
              "      <td>1937894</td>\n",
              "      <td>IT</td>\n",
              "    </tr>\n",
              "    <tr>\n",
              "      <th>Tuvalu</th>\n",
              "      <td>11300</td>\n",
              "      <td>38</td>\n",
              "      <td>TV</td>\n",
              "    </tr>\n",
              "    <tr>\n",
              "      <th>France</th>\n",
              "      <td>65000000</td>\n",
              "      <td>2583560</td>\n",
              "      <td>FR</td>\n",
              "    </tr>\n",
              "    <tr>\n",
              "      <th>Brunei</th>\n",
              "      <td>434000</td>\n",
              "      <td>12128</td>\n",
              "      <td>BN</td>\n",
              "    </tr>\n",
              "    <tr>\n",
              "      <th>Malta</th>\n",
              "      <td>434000</td>\n",
              "      <td>12011</td>\n",
              "      <td>MT</td>\n",
              "    </tr>\n",
              "    <tr>\n",
              "      <th>Iceland</th>\n",
              "      <td>337000</td>\n",
              "      <td>17036</td>\n",
              "      <td>IS</td>\n",
              "    </tr>\n",
              "    <tr>\n",
              "      <th>Anguilla</th>\n",
              "      <td>11300</td>\n",
              "      <td>311</td>\n",
              "      <td>AI</td>\n",
              "    </tr>\n",
              "    <tr>\n",
              "      <th>Nauru</th>\n",
              "      <td>11300</td>\n",
              "      <td>182</td>\n",
              "      <td>NR</td>\n",
              "    </tr>\n",
              "    <tr>\n",
              "      <th>Maldives</th>\n",
              "      <td>434000</td>\n",
              "      <td>4520</td>\n",
              "      <td>MV</td>\n",
              "    </tr>\n",
              "  </tbody>\n",
              "</table>\n",
              "</div>"
            ],
            "text/plain": [
              "          population      GDP alpha-2\n",
              "Italy       59000000  1937894      IT\n",
              "Tuvalu         11300       38      TV\n",
              "France      65000000  2583560      FR\n",
              "Brunei        434000    12128      BN\n",
              "Malta         434000    12011      MT\n",
              "Iceland       337000    17036      IS\n",
              "Anguilla       11300      311      AI\n",
              "Nauru          11300      182      NR\n",
              "Maldives      434000     4520      MV"
            ]
          },
          "execution_count": 86,
          "metadata": {},
          "output_type": "execute_result"
        }
      ],
      "source": [
        "df5.sample(frac=1)"
      ]
    },
    {
      "cell_type": "code",
      "execution_count": null,
      "metadata": {
        "id": "elr2qAd-g3jM",
        "outputId": "c7aa8875-2736-464c-cac4-5d53ebf7432e"
      },
      "outputs": [
        {
          "data": {
            "text/plain": [
              "Italy        True\n",
              "France       True\n",
              "Malta       False\n",
              "Maldives    False\n",
              "Brunei      False\n",
              "Iceland     False\n",
              "Nauru       False\n",
              "Tuvalu      False\n",
              "Anguilla    False\n",
              "Name: population, dtype: bool"
            ]
          },
          "execution_count": 37,
          "metadata": {},
          "output_type": "execute_result"
        }
      ],
      "source": [
        "df5['population'] > df5['population'].mean()"
      ]
    },
    {
      "cell_type": "code",
      "execution_count": null,
      "metadata": {
        "id": "ErOtbaaig3jM",
        "outputId": "83be9b7f-7f0d-4f27-d7a3-7417959baf40"
      },
      "outputs": [
        {
          "data": {
            "text/html": [
              "<div>\n",
              "<style scoped>\n",
              "    .dataframe tbody tr th:only-of-type {\n",
              "        vertical-align: middle;\n",
              "    }\n",
              "\n",
              "    .dataframe tbody tr th {\n",
              "        vertical-align: top;\n",
              "    }\n",
              "\n",
              "    .dataframe thead th {\n",
              "        text-align: right;\n",
              "    }\n",
              "</style>\n",
              "<table border=\"1\" class=\"dataframe\">\n",
              "  <thead>\n",
              "    <tr style=\"text-align: right;\">\n",
              "      <th></th>\n",
              "      <th>population</th>\n",
              "      <th>GDP</th>\n",
              "      <th>alpha-2</th>\n",
              "    </tr>\n",
              "  </thead>\n",
              "  <tbody>\n",
              "    <tr>\n",
              "      <th>Italy</th>\n",
              "      <td>59000000</td>\n",
              "      <td>1937894</td>\n",
              "      <td>IT</td>\n",
              "    </tr>\n",
              "    <tr>\n",
              "      <th>France</th>\n",
              "      <td>65000000</td>\n",
              "      <td>2583560</td>\n",
              "      <td>FR</td>\n",
              "    </tr>\n",
              "  </tbody>\n",
              "</table>\n",
              "</div>"
            ],
            "text/plain": [
              "        population      GDP alpha-2\n",
              "Italy     59000000  1937894      IT\n",
              "France    65000000  2583560      FR"
            ]
          },
          "execution_count": 38,
          "metadata": {},
          "output_type": "execute_result"
        }
      ],
      "source": [
        "df5[df5['population'] > df5['population'].mean()]"
      ]
    },
    {
      "cell_type": "markdown",
      "metadata": {
        "id": "nDVmbkWzg3jM"
      },
      "source": [
        "### 불린기반 조회, 열 연산, 브로드캐스팅, 인덱스기준 정렬"
      ]
    },
    {
      "cell_type": "code",
      "execution_count": null,
      "metadata": {
        "id": "1D3hGLTQg3jM",
        "outputId": "89b49f96-2665-465b-c3f9-69c320b493de"
      },
      "outputs": [
        {
          "data": {
            "text/html": [
              "<div>\n",
              "<style scoped>\n",
              "    .dataframe tbody tr th:only-of-type {\n",
              "        vertical-align: middle;\n",
              "    }\n",
              "\n",
              "    .dataframe tbody tr th {\n",
              "        vertical-align: top;\n",
              "    }\n",
              "\n",
              "    .dataframe thead th {\n",
              "        text-align: right;\n",
              "    }\n",
              "</style>\n",
              "<table border=\"1\" class=\"dataframe\">\n",
              "  <thead>\n",
              "    <tr style=\"text-align: right;\">\n",
              "      <th></th>\n",
              "      <th>population</th>\n",
              "      <th>GDP</th>\n",
              "      <th>alpha-2</th>\n",
              "    </tr>\n",
              "  </thead>\n",
              "  <tbody>\n",
              "    <tr>\n",
              "      <th>Italy</th>\n",
              "      <td>59000000</td>\n",
              "      <td>1937894</td>\n",
              "      <td>IT</td>\n",
              "    </tr>\n",
              "    <tr>\n",
              "      <th>Brunei</th>\n",
              "      <td>434000</td>\n",
              "      <td>12128</td>\n",
              "      <td>BN</td>\n",
              "    </tr>\n",
              "    <tr>\n",
              "      <th>Iceland</th>\n",
              "      <td>337000</td>\n",
              "      <td>17036</td>\n",
              "      <td>IS</td>\n",
              "    </tr>\n",
              "    <tr>\n",
              "      <th>Tuvalu</th>\n",
              "      <td>11300</td>\n",
              "      <td>38</td>\n",
              "      <td>TV</td>\n",
              "    </tr>\n",
              "    <tr>\n",
              "      <th>Anguilla</th>\n",
              "      <td>11300</td>\n",
              "      <td>311</td>\n",
              "      <td>AI</td>\n",
              "    </tr>\n",
              "  </tbody>\n",
              "</table>\n",
              "</div>"
            ],
            "text/plain": [
              "          population      GDP alpha-2\n",
              "Italy       59000000  1937894      IT\n",
              "Brunei        434000    12128      BN\n",
              "Iceland       337000    17036      IS\n",
              "Tuvalu         11300       38      TV\n",
              "Anguilla       11300      311      AI"
            ]
          },
          "execution_count": 39,
          "metadata": {},
          "output_type": "execute_result"
        }
      ],
      "source": [
        "df5.loc[[True, False, False, False, True, True, False, True, True]]"
      ]
    },
    {
      "cell_type": "code",
      "execution_count": null,
      "metadata": {
        "id": "8SYGnonig3jM"
      },
      "outputs": [],
      "source": [
        "df5['population'] - df5['GDP']"
      ]
    },
    {
      "cell_type": "code",
      "execution_count": null,
      "metadata": {
        "id": "tw7O6L4ig3jM",
        "outputId": "1339ccec-3d1d-4242-f34e-8fc0956d6d1d"
      },
      "outputs": [
        {
          "data": {
            "text/html": [
              "<div>\n",
              "<style scoped>\n",
              "    .dataframe tbody tr th:only-of-type {\n",
              "        vertical-align: middle;\n",
              "    }\n",
              "\n",
              "    .dataframe tbody tr th {\n",
              "        vertical-align: top;\n",
              "    }\n",
              "\n",
              "    .dataframe thead th {\n",
              "        text-align: right;\n",
              "    }\n",
              "</style>\n",
              "<table border=\"1\" class=\"dataframe\">\n",
              "  <thead>\n",
              "    <tr style=\"text-align: right;\">\n",
              "      <th></th>\n",
              "      <th>population</th>\n",
              "      <th>GDP</th>\n",
              "      <th>alpha-2</th>\n",
              "    </tr>\n",
              "  </thead>\n",
              "  <tbody>\n",
              "    <tr>\n",
              "      <th>Italy</th>\n",
              "      <td>59000000</td>\n",
              "      <td>1937894</td>\n",
              "      <td>IT</td>\n",
              "    </tr>\n",
              "    <tr>\n",
              "      <th>France</th>\n",
              "      <td>65000000</td>\n",
              "      <td>2583560</td>\n",
              "      <td>FR</td>\n",
              "    </tr>\n",
              "    <tr>\n",
              "      <th>Malta</th>\n",
              "      <td>434000</td>\n",
              "      <td>12011</td>\n",
              "      <td>MT</td>\n",
              "    </tr>\n",
              "    <tr>\n",
              "      <th>Maldives</th>\n",
              "      <td>434000</td>\n",
              "      <td>4520</td>\n",
              "      <td>MV</td>\n",
              "    </tr>\n",
              "    <tr>\n",
              "      <th>Brunei</th>\n",
              "      <td>434000</td>\n",
              "      <td>12128</td>\n",
              "      <td>BN</td>\n",
              "    </tr>\n",
              "    <tr>\n",
              "      <th>Iceland</th>\n",
              "      <td>337000</td>\n",
              "      <td>17036</td>\n",
              "      <td>IS</td>\n",
              "    </tr>\n",
              "    <tr>\n",
              "      <th>Nauru</th>\n",
              "      <td>11300</td>\n",
              "      <td>182</td>\n",
              "      <td>NR</td>\n",
              "    </tr>\n",
              "    <tr>\n",
              "      <th>Tuvalu</th>\n",
              "      <td>11300</td>\n",
              "      <td>38</td>\n",
              "      <td>TV</td>\n",
              "    </tr>\n",
              "    <tr>\n",
              "      <th>Anguilla</th>\n",
              "      <td>11300</td>\n",
              "      <td>311</td>\n",
              "      <td>AI</td>\n",
              "    </tr>\n",
              "  </tbody>\n",
              "</table>\n",
              "</div>"
            ],
            "text/plain": [
              "          population      GDP alpha-2\n",
              "Italy       59000000  1937894      IT\n",
              "France      65000000  2583560      FR\n",
              "Malta         434000    12011      MT\n",
              "Maldives      434000     4520      MV\n",
              "Brunei        434000    12128      BN\n",
              "Iceland       337000    17036      IS\n",
              "Nauru          11300      182      NR\n",
              "Tuvalu         11300       38      TV\n",
              "Anguilla       11300      311      AI"
            ]
          },
          "execution_count": 40,
          "metadata": {},
          "output_type": "execute_result"
        }
      ],
      "source": [
        "df5"
      ]
    },
    {
      "cell_type": "code",
      "execution_count": null,
      "metadata": {
        "id": "w3bz6muDg3jM",
        "outputId": "b4ad5e15-e13d-48fc-c3f0-55f6bc618f3f"
      },
      "outputs": [
        {
          "data": {
            "text/html": [
              "<div>\n",
              "<style scoped>\n",
              "    .dataframe tbody tr th:only-of-type {\n",
              "        vertical-align: middle;\n",
              "    }\n",
              "\n",
              "    .dataframe tbody tr th {\n",
              "        vertical-align: top;\n",
              "    }\n",
              "\n",
              "    .dataframe thead th {\n",
              "        text-align: right;\n",
              "    }\n",
              "</style>\n",
              "<table border=\"1\" class=\"dataframe\">\n",
              "  <thead>\n",
              "    <tr style=\"text-align: right;\">\n",
              "      <th></th>\n",
              "      <th>population</th>\n",
              "      <th>GDP</th>\n",
              "      <th>alpha-2</th>\n",
              "      <th>pop-GDP</th>\n",
              "    </tr>\n",
              "  </thead>\n",
              "  <tbody>\n",
              "    <tr>\n",
              "      <th>Italy</th>\n",
              "      <td>59000000</td>\n",
              "      <td>1937894</td>\n",
              "      <td>IT</td>\n",
              "      <td>57062106</td>\n",
              "    </tr>\n",
              "    <tr>\n",
              "      <th>France</th>\n",
              "      <td>65000000</td>\n",
              "      <td>2583560</td>\n",
              "      <td>FR</td>\n",
              "      <td>62416440</td>\n",
              "    </tr>\n",
              "    <tr>\n",
              "      <th>Malta</th>\n",
              "      <td>434000</td>\n",
              "      <td>12011</td>\n",
              "      <td>MT</td>\n",
              "      <td>421989</td>\n",
              "    </tr>\n",
              "    <tr>\n",
              "      <th>Maldives</th>\n",
              "      <td>434000</td>\n",
              "      <td>4520</td>\n",
              "      <td>MV</td>\n",
              "      <td>429480</td>\n",
              "    </tr>\n",
              "    <tr>\n",
              "      <th>Brunei</th>\n",
              "      <td>434000</td>\n",
              "      <td>12128</td>\n",
              "      <td>BN</td>\n",
              "      <td>421872</td>\n",
              "    </tr>\n",
              "    <tr>\n",
              "      <th>Iceland</th>\n",
              "      <td>337000</td>\n",
              "      <td>17036</td>\n",
              "      <td>IS</td>\n",
              "      <td>319964</td>\n",
              "    </tr>\n",
              "    <tr>\n",
              "      <th>Nauru</th>\n",
              "      <td>11300</td>\n",
              "      <td>182</td>\n",
              "      <td>NR</td>\n",
              "      <td>11118</td>\n",
              "    </tr>\n",
              "    <tr>\n",
              "      <th>Tuvalu</th>\n",
              "      <td>11300</td>\n",
              "      <td>38</td>\n",
              "      <td>TV</td>\n",
              "      <td>11262</td>\n",
              "    </tr>\n",
              "    <tr>\n",
              "      <th>Anguilla</th>\n",
              "      <td>11300</td>\n",
              "      <td>311</td>\n",
              "      <td>AI</td>\n",
              "      <td>10989</td>\n",
              "    </tr>\n",
              "  </tbody>\n",
              "</table>\n",
              "</div>"
            ],
            "text/plain": [
              "          population      GDP alpha-2   pop-GDP\n",
              "Italy       59000000  1937894      IT  57062106\n",
              "France      65000000  2583560      FR  62416440\n",
              "Malta         434000    12011      MT    421989\n",
              "Maldives      434000     4520      MV    429480\n",
              "Brunei        434000    12128      BN    421872\n",
              "Iceland       337000    17036      IS    319964\n",
              "Nauru          11300      182      NR     11118\n",
              "Tuvalu         11300       38      TV     11262\n",
              "Anguilla       11300      311      AI     10989"
            ]
          },
          "execution_count": 93,
          "metadata": {},
          "output_type": "execute_result"
        }
      ],
      "source": [
        "df5['pop-GDP'] = df5['population'] - df5['GDP']\n",
        "df5"
      ]
    },
    {
      "cell_type": "code",
      "execution_count": null,
      "metadata": {
        "id": "QqQx8cuig3jM",
        "outputId": "77626e17-c54f-4ac6-a233-d44cfd297d4d"
      },
      "outputs": [
        {
          "data": {
            "text/html": [
              "<div>\n",
              "<style scoped>\n",
              "    .dataframe tbody tr th:only-of-type {\n",
              "        vertical-align: middle;\n",
              "    }\n",
              "\n",
              "    .dataframe tbody tr th {\n",
              "        vertical-align: top;\n",
              "    }\n",
              "\n",
              "    .dataframe thead th {\n",
              "        text-align: right;\n",
              "    }\n",
              "</style>\n",
              "<table border=\"1\" class=\"dataframe\">\n",
              "  <thead>\n",
              "    <tr style=\"text-align: right;\">\n",
              "      <th></th>\n",
              "      <th>population</th>\n",
              "      <th>GDP</th>\n",
              "      <th>alpha-2</th>\n",
              "      <th>pop-GDP</th>\n",
              "      <th>aa2</th>\n",
              "    </tr>\n",
              "  </thead>\n",
              "  <tbody>\n",
              "    <tr>\n",
              "      <th>Italy</th>\n",
              "      <td>59000000</td>\n",
              "      <td>1937894</td>\n",
              "      <td>IT</td>\n",
              "      <td>57062106</td>\n",
              "      <td>57062106</td>\n",
              "    </tr>\n",
              "    <tr>\n",
              "      <th>France</th>\n",
              "      <td>65000000</td>\n",
              "      <td>2583560</td>\n",
              "      <td>FR</td>\n",
              "      <td>62416440</td>\n",
              "      <td>62416440</td>\n",
              "    </tr>\n",
              "    <tr>\n",
              "      <th>Malta</th>\n",
              "      <td>434000</td>\n",
              "      <td>12011</td>\n",
              "      <td>MT</td>\n",
              "      <td>421989</td>\n",
              "      <td>421989</td>\n",
              "    </tr>\n",
              "    <tr>\n",
              "      <th>Maldives</th>\n",
              "      <td>434000</td>\n",
              "      <td>4520</td>\n",
              "      <td>MV</td>\n",
              "      <td>429480</td>\n",
              "      <td>429480</td>\n",
              "    </tr>\n",
              "    <tr>\n",
              "      <th>Brunei</th>\n",
              "      <td>434000</td>\n",
              "      <td>12128</td>\n",
              "      <td>BN</td>\n",
              "      <td>421872</td>\n",
              "      <td>421872</td>\n",
              "    </tr>\n",
              "    <tr>\n",
              "      <th>Iceland</th>\n",
              "      <td>337000</td>\n",
              "      <td>17036</td>\n",
              "      <td>IS</td>\n",
              "      <td>319964</td>\n",
              "      <td>319964</td>\n",
              "    </tr>\n",
              "    <tr>\n",
              "      <th>Nauru</th>\n",
              "      <td>11300</td>\n",
              "      <td>182</td>\n",
              "      <td>NR</td>\n",
              "      <td>11118</td>\n",
              "      <td>11118</td>\n",
              "    </tr>\n",
              "    <tr>\n",
              "      <th>Tuvalu</th>\n",
              "      <td>11300</td>\n",
              "      <td>38</td>\n",
              "      <td>TV</td>\n",
              "      <td>11262</td>\n",
              "      <td>11262</td>\n",
              "    </tr>\n",
              "    <tr>\n",
              "      <th>Anguilla</th>\n",
              "      <td>11300</td>\n",
              "      <td>311</td>\n",
              "      <td>AI</td>\n",
              "      <td>10989</td>\n",
              "      <td>10989</td>\n",
              "    </tr>\n",
              "  </tbody>\n",
              "</table>\n",
              "</div>"
            ],
            "text/plain": [
              "          population      GDP alpha-2   pop-GDP       aa2\n",
              "Italy       59000000  1937894      IT  57062106  57062106\n",
              "France      65000000  2583560      FR  62416440  62416440\n",
              "Malta         434000    12011      MT    421989    421989\n",
              "Maldives      434000     4520      MV    429480    429480\n",
              "Brunei        434000    12128      BN    421872    421872\n",
              "Iceland       337000    17036      IS    319964    319964\n",
              "Nauru          11300      182      NR     11118     11118\n",
              "Tuvalu         11300       38      TV     11262     11262\n",
              "Anguilla       11300      311      AI     10989     10989"
            ]
          },
          "execution_count": 94,
          "metadata": {},
          "output_type": "execute_result"
        }
      ],
      "source": [
        "aa = df5['population'] - df5['GDP']\n",
        "df5['aa2'] = aa\n",
        "df5"
      ]
    },
    {
      "cell_type": "code",
      "execution_count": null,
      "metadata": {
        "id": "q1TN8JMXg3jN",
        "outputId": "e8b0d66c-0bbf-48a0-e7bd-e0373f627731"
      },
      "outputs": [
        {
          "data": {
            "text/plain": [
              "Italy       59000000\n",
              "France      65000000\n",
              "Malta         434000\n",
              "Maldives      434000\n",
              "Brunei        434000\n",
              "Iceland       337000\n",
              "Nauru          11300\n",
              "Tuvalu         11300\n",
              "Anguilla       11300\n",
              "Name: population, dtype: int64"
            ]
          },
          "execution_count": 43,
          "metadata": {},
          "output_type": "execute_result"
        }
      ],
      "source": [
        "df5['population']"
      ]
    },
    {
      "cell_type": "code",
      "execution_count": null,
      "metadata": {
        "id": "vcTaTQCCg3jN",
        "outputId": "47e0ad68-6ed3-4a83-d6eb-4ff7b38f387a"
      },
      "outputs": [
        {
          "data": {
            "text/plain": [
              "Italy       59000\n",
              "France      65000\n",
              "Malta         434\n",
              "Maldives      434\n",
              "Brunei        434\n",
              "Iceland       337\n",
              "Nauru          11\n",
              "Tuvalu         11\n",
              "Anguilla       11\n",
              "Name: population, dtype: int64"
            ]
          },
          "execution_count": 44,
          "metadata": {},
          "output_type": "execute_result"
        }
      ],
      "source": [
        "df5['population']//1000"
      ]
    },
    {
      "cell_type": "markdown",
      "metadata": {
        "id": "kplQkZ2Zg3jN"
      },
      "source": [
        "* 위와 같이 일률적으로 수식을 적용하는 것을 \"브로드캐스팅\"이라고 지칭"
      ]
    },
    {
      "cell_type": "code",
      "execution_count": null,
      "metadata": {
        "id": "rXgO-ORrg3jN",
        "outputId": "5340a675-f23a-4946-ac86-ef6296e84436"
      },
      "outputs": [
        {
          "data": {
            "text/html": [
              "<div>\n",
              "<style scoped>\n",
              "    .dataframe tbody tr th:only-of-type {\n",
              "        vertical-align: middle;\n",
              "    }\n",
              "\n",
              "    .dataframe tbody tr th {\n",
              "        vertical-align: top;\n",
              "    }\n",
              "\n",
              "    .dataframe thead th {\n",
              "        text-align: right;\n",
              "    }\n",
              "</style>\n",
              "<table border=\"1\" class=\"dataframe\">\n",
              "  <thead>\n",
              "    <tr style=\"text-align: right;\">\n",
              "      <th></th>\n",
              "      <th>population</th>\n",
              "      <th>GDP</th>\n",
              "      <th>alpha-2</th>\n",
              "      <th>pop-GDP</th>\n",
              "      <th>aa2</th>\n",
              "    </tr>\n",
              "  </thead>\n",
              "  <tbody>\n",
              "    <tr>\n",
              "      <th>Italy</th>\n",
              "      <td>59000000</td>\n",
              "      <td>1937894</td>\n",
              "      <td>IT</td>\n",
              "      <td>57062106</td>\n",
              "      <td>57062106</td>\n",
              "    </tr>\n",
              "    <tr>\n",
              "      <th>France</th>\n",
              "      <td>65000000</td>\n",
              "      <td>2583560</td>\n",
              "      <td>FR</td>\n",
              "      <td>62416440</td>\n",
              "      <td>62416440</td>\n",
              "    </tr>\n",
              "    <tr>\n",
              "      <th>Malta</th>\n",
              "      <td>434000</td>\n",
              "      <td>12011</td>\n",
              "      <td>MT</td>\n",
              "      <td>421989</td>\n",
              "      <td>421989</td>\n",
              "    </tr>\n",
              "    <tr>\n",
              "      <th>Maldives</th>\n",
              "      <td>434000</td>\n",
              "      <td>4520</td>\n",
              "      <td>MV</td>\n",
              "      <td>429480</td>\n",
              "      <td>429480</td>\n",
              "    </tr>\n",
              "    <tr>\n",
              "      <th>Brunei</th>\n",
              "      <td>434000</td>\n",
              "      <td>12128</td>\n",
              "      <td>BN</td>\n",
              "      <td>421872</td>\n",
              "      <td>421872</td>\n",
              "    </tr>\n",
              "    <tr>\n",
              "      <th>Iceland</th>\n",
              "      <td>337000</td>\n",
              "      <td>17036</td>\n",
              "      <td>IS</td>\n",
              "      <td>319964</td>\n",
              "      <td>319964</td>\n",
              "    </tr>\n",
              "    <tr>\n",
              "      <th>Nauru</th>\n",
              "      <td>11300</td>\n",
              "      <td>182</td>\n",
              "      <td>NR</td>\n",
              "      <td>11118</td>\n",
              "      <td>11118</td>\n",
              "    </tr>\n",
              "    <tr>\n",
              "      <th>Tuvalu</th>\n",
              "      <td>11300</td>\n",
              "      <td>38</td>\n",
              "      <td>TV</td>\n",
              "      <td>11262</td>\n",
              "      <td>11262</td>\n",
              "    </tr>\n",
              "    <tr>\n",
              "      <th>Anguilla</th>\n",
              "      <td>11300</td>\n",
              "      <td>311</td>\n",
              "      <td>AI</td>\n",
              "      <td>10989</td>\n",
              "      <td>10989</td>\n",
              "    </tr>\n",
              "  </tbody>\n",
              "</table>\n",
              "</div>"
            ],
            "text/plain": [
              "          population      GDP alpha-2   pop-GDP       aa2\n",
              "Italy       59000000  1937894      IT  57062106  57062106\n",
              "France      65000000  2583560      FR  62416440  62416440\n",
              "Malta         434000    12011      MT    421989    421989\n",
              "Maldives      434000     4520      MV    429480    429480\n",
              "Brunei        434000    12128      BN    421872    421872\n",
              "Iceland       337000    17036      IS    319964    319964\n",
              "Nauru          11300      182      NR     11118     11118\n",
              "Tuvalu         11300       38      TV     11262     11262\n",
              "Anguilla       11300      311      AI     10989     10989"
            ]
          },
          "execution_count": 45,
          "metadata": {},
          "output_type": "execute_result"
        }
      ],
      "source": [
        "df5"
      ]
    },
    {
      "cell_type": "code",
      "execution_count": null,
      "metadata": {
        "id": "f-1IeIYOg3jN",
        "outputId": "e120a502-3e4b-46e1-e9c4-0f505344f713"
      },
      "outputs": [
        {
          "data": {
            "text/html": [
              "<div>\n",
              "<style scoped>\n",
              "    .dataframe tbody tr th:only-of-type {\n",
              "        vertical-align: middle;\n",
              "    }\n",
              "\n",
              "    .dataframe tbody tr th {\n",
              "        vertical-align: top;\n",
              "    }\n",
              "\n",
              "    .dataframe thead th {\n",
              "        text-align: right;\n",
              "    }\n",
              "</style>\n",
              "<table border=\"1\" class=\"dataframe\">\n",
              "  <thead>\n",
              "    <tr style=\"text-align: right;\">\n",
              "      <th></th>\n",
              "      <th>population</th>\n",
              "      <th>GDP</th>\n",
              "      <th>alpha-2</th>\n",
              "      <th>pop-GDP</th>\n",
              "      <th>aa2</th>\n",
              "    </tr>\n",
              "  </thead>\n",
              "  <tbody>\n",
              "    <tr>\n",
              "      <th>Italy</th>\n",
              "      <td>177000000</td>\n",
              "      <td>5813682</td>\n",
              "      <td>ITITIT</td>\n",
              "      <td>171186318</td>\n",
              "      <td>171186318</td>\n",
              "    </tr>\n",
              "    <tr>\n",
              "      <th>France</th>\n",
              "      <td>195000000</td>\n",
              "      <td>7750680</td>\n",
              "      <td>FRFRFR</td>\n",
              "      <td>187249320</td>\n",
              "      <td>187249320</td>\n",
              "    </tr>\n",
              "    <tr>\n",
              "      <th>Malta</th>\n",
              "      <td>1302000</td>\n",
              "      <td>36033</td>\n",
              "      <td>MTMTMT</td>\n",
              "      <td>1265967</td>\n",
              "      <td>1265967</td>\n",
              "    </tr>\n",
              "    <tr>\n",
              "      <th>Maldives</th>\n",
              "      <td>1302000</td>\n",
              "      <td>13560</td>\n",
              "      <td>MVMVMV</td>\n",
              "      <td>1288440</td>\n",
              "      <td>1288440</td>\n",
              "    </tr>\n",
              "    <tr>\n",
              "      <th>Brunei</th>\n",
              "      <td>1302000</td>\n",
              "      <td>36384</td>\n",
              "      <td>BNBNBN</td>\n",
              "      <td>1265616</td>\n",
              "      <td>1265616</td>\n",
              "    </tr>\n",
              "    <tr>\n",
              "      <th>Iceland</th>\n",
              "      <td>1011000</td>\n",
              "      <td>51108</td>\n",
              "      <td>ISISIS</td>\n",
              "      <td>959892</td>\n",
              "      <td>959892</td>\n",
              "    </tr>\n",
              "    <tr>\n",
              "      <th>Nauru</th>\n",
              "      <td>33900</td>\n",
              "      <td>546</td>\n",
              "      <td>NRNRNR</td>\n",
              "      <td>33354</td>\n",
              "      <td>33354</td>\n",
              "    </tr>\n",
              "    <tr>\n",
              "      <th>Tuvalu</th>\n",
              "      <td>33900</td>\n",
              "      <td>114</td>\n",
              "      <td>TVTVTV</td>\n",
              "      <td>33786</td>\n",
              "      <td>33786</td>\n",
              "    </tr>\n",
              "    <tr>\n",
              "      <th>Anguilla</th>\n",
              "      <td>33900</td>\n",
              "      <td>933</td>\n",
              "      <td>AIAIAI</td>\n",
              "      <td>32967</td>\n",
              "      <td>32967</td>\n",
              "    </tr>\n",
              "  </tbody>\n",
              "</table>\n",
              "</div>"
            ],
            "text/plain": [
              "          population      GDP alpha-2    pop-GDP        aa2\n",
              "Italy      177000000  5813682  ITITIT  171186318  171186318\n",
              "France     195000000  7750680  FRFRFR  187249320  187249320\n",
              "Malta        1302000    36033  MTMTMT    1265967    1265967\n",
              "Maldives     1302000    13560  MVMVMV    1288440    1288440\n",
              "Brunei       1302000    36384  BNBNBN    1265616    1265616\n",
              "Iceland      1011000    51108  ISISIS     959892     959892\n",
              "Nauru          33900      546  NRNRNR      33354      33354\n",
              "Tuvalu         33900      114  TVTVTV      33786      33786\n",
              "Anguilla       33900      933  AIAIAI      32967      32967"
            ]
          },
          "execution_count": 46,
          "metadata": {},
          "output_type": "execute_result"
        }
      ],
      "source": [
        "df5 * 3"
      ]
    },
    {
      "cell_type": "code",
      "execution_count": null,
      "metadata": {
        "id": "SJQ-sCzZg3jN",
        "outputId": "02809c70-7dc7-4075-b316-43d37755e4ff"
      },
      "outputs": [
        {
          "data": {
            "text/html": [
              "<div>\n",
              "<style scoped>\n",
              "    .dataframe tbody tr th:only-of-type {\n",
              "        vertical-align: middle;\n",
              "    }\n",
              "\n",
              "    .dataframe tbody tr th {\n",
              "        vertical-align: top;\n",
              "    }\n",
              "\n",
              "    .dataframe thead th {\n",
              "        text-align: right;\n",
              "    }\n",
              "</style>\n",
              "<table border=\"1\" class=\"dataframe\">\n",
              "  <thead>\n",
              "    <tr style=\"text-align: right;\">\n",
              "      <th></th>\n",
              "      <th>population</th>\n",
              "      <th>GDP</th>\n",
              "      <th>alpha-2</th>\n",
              "      <th>pop-GDP</th>\n",
              "      <th>aa2</th>\n",
              "    </tr>\n",
              "  </thead>\n",
              "  <tbody>\n",
              "    <tr>\n",
              "      <th>Italy</th>\n",
              "      <td>59000000</td>\n",
              "      <td>1937894</td>\n",
              "      <td>IT</td>\n",
              "      <td>57062106</td>\n",
              "      <td>57062106</td>\n",
              "    </tr>\n",
              "    <tr>\n",
              "      <th>France</th>\n",
              "      <td>65000000</td>\n",
              "      <td>2583560</td>\n",
              "      <td>FR</td>\n",
              "      <td>62416440</td>\n",
              "      <td>62416440</td>\n",
              "    </tr>\n",
              "    <tr>\n",
              "      <th>Malta</th>\n",
              "      <td>434000</td>\n",
              "      <td>12011</td>\n",
              "      <td>MT</td>\n",
              "      <td>421989</td>\n",
              "      <td>421989</td>\n",
              "    </tr>\n",
              "    <tr>\n",
              "      <th>Maldives</th>\n",
              "      <td>434000</td>\n",
              "      <td>4520</td>\n",
              "      <td>MV</td>\n",
              "      <td>429480</td>\n",
              "      <td>429480</td>\n",
              "    </tr>\n",
              "    <tr>\n",
              "      <th>Brunei</th>\n",
              "      <td>434000</td>\n",
              "      <td>12128</td>\n",
              "      <td>BN</td>\n",
              "      <td>421872</td>\n",
              "      <td>421872</td>\n",
              "    </tr>\n",
              "    <tr>\n",
              "      <th>Iceland</th>\n",
              "      <td>337000</td>\n",
              "      <td>17036</td>\n",
              "      <td>IS</td>\n",
              "      <td>319964</td>\n",
              "      <td>319964</td>\n",
              "    </tr>\n",
              "    <tr>\n",
              "      <th>Nauru</th>\n",
              "      <td>11300</td>\n",
              "      <td>182</td>\n",
              "      <td>NR</td>\n",
              "      <td>11118</td>\n",
              "      <td>11118</td>\n",
              "    </tr>\n",
              "    <tr>\n",
              "      <th>Tuvalu</th>\n",
              "      <td>11300</td>\n",
              "      <td>38</td>\n",
              "      <td>TV</td>\n",
              "      <td>11262</td>\n",
              "      <td>11262</td>\n",
              "    </tr>\n",
              "    <tr>\n",
              "      <th>Anguilla</th>\n",
              "      <td>11300</td>\n",
              "      <td>311</td>\n",
              "      <td>AI</td>\n",
              "      <td>10989</td>\n",
              "      <td>10989</td>\n",
              "    </tr>\n",
              "  </tbody>\n",
              "</table>\n",
              "</div>"
            ],
            "text/plain": [
              "          population      GDP alpha-2   pop-GDP       aa2\n",
              "Italy       59000000  1937894      IT  57062106  57062106\n",
              "France      65000000  2583560      FR  62416440  62416440\n",
              "Malta         434000    12011      MT    421989    421989\n",
              "Maldives      434000     4520      MV    429480    429480\n",
              "Brunei        434000    12128      BN    421872    421872\n",
              "Iceland       337000    17036      IS    319964    319964\n",
              "Nauru          11300      182      NR     11118     11118\n",
              "Tuvalu         11300       38      TV     11262     11262\n",
              "Anguilla       11300      311      AI     10989     10989"
            ]
          },
          "execution_count": 95,
          "metadata": {},
          "output_type": "execute_result"
        }
      ],
      "source": [
        "df5"
      ]
    },
    {
      "cell_type": "code",
      "execution_count": null,
      "metadata": {
        "id": "xZgVxv9Ug3jN",
        "outputId": "61e44a1c-8ee0-49a4-ed4b-eced82ba0990"
      },
      "outputs": [
        {
          "data": {
            "text/html": [
              "<div>\n",
              "<style scoped>\n",
              "    .dataframe tbody tr th:only-of-type {\n",
              "        vertical-align: middle;\n",
              "    }\n",
              "\n",
              "    .dataframe tbody tr th {\n",
              "        vertical-align: top;\n",
              "    }\n",
              "\n",
              "    .dataframe thead th {\n",
              "        text-align: right;\n",
              "    }\n",
              "</style>\n",
              "<table border=\"1\" class=\"dataframe\">\n",
              "  <thead>\n",
              "    <tr style=\"text-align: right;\">\n",
              "      <th></th>\n",
              "      <th>population</th>\n",
              "      <th>GDP</th>\n",
              "      <th>alpha-2</th>\n",
              "      <th>pop-GDP</th>\n",
              "      <th>aa2</th>\n",
              "    </tr>\n",
              "  </thead>\n",
              "  <tbody>\n",
              "    <tr>\n",
              "      <th>Anguilla</th>\n",
              "      <td>11300</td>\n",
              "      <td>311</td>\n",
              "      <td>AI</td>\n",
              "      <td>10989</td>\n",
              "      <td>10989</td>\n",
              "    </tr>\n",
              "    <tr>\n",
              "      <th>Brunei</th>\n",
              "      <td>434000</td>\n",
              "      <td>12128</td>\n",
              "      <td>BN</td>\n",
              "      <td>421872</td>\n",
              "      <td>421872</td>\n",
              "    </tr>\n",
              "    <tr>\n",
              "      <th>France</th>\n",
              "      <td>65000000</td>\n",
              "      <td>2583560</td>\n",
              "      <td>FR</td>\n",
              "      <td>62416440</td>\n",
              "      <td>62416440</td>\n",
              "    </tr>\n",
              "    <tr>\n",
              "      <th>Iceland</th>\n",
              "      <td>337000</td>\n",
              "      <td>17036</td>\n",
              "      <td>IS</td>\n",
              "      <td>319964</td>\n",
              "      <td>319964</td>\n",
              "    </tr>\n",
              "    <tr>\n",
              "      <th>Italy</th>\n",
              "      <td>59000000</td>\n",
              "      <td>1937894</td>\n",
              "      <td>IT</td>\n",
              "      <td>57062106</td>\n",
              "      <td>57062106</td>\n",
              "    </tr>\n",
              "    <tr>\n",
              "      <th>Maldives</th>\n",
              "      <td>434000</td>\n",
              "      <td>4520</td>\n",
              "      <td>MV</td>\n",
              "      <td>429480</td>\n",
              "      <td>429480</td>\n",
              "    </tr>\n",
              "    <tr>\n",
              "      <th>Malta</th>\n",
              "      <td>434000</td>\n",
              "      <td>12011</td>\n",
              "      <td>MT</td>\n",
              "      <td>421989</td>\n",
              "      <td>421989</td>\n",
              "    </tr>\n",
              "    <tr>\n",
              "      <th>Nauru</th>\n",
              "      <td>11300</td>\n",
              "      <td>182</td>\n",
              "      <td>NR</td>\n",
              "      <td>11118</td>\n",
              "      <td>11118</td>\n",
              "    </tr>\n",
              "    <tr>\n",
              "      <th>Tuvalu</th>\n",
              "      <td>11300</td>\n",
              "      <td>38</td>\n",
              "      <td>TV</td>\n",
              "      <td>11262</td>\n",
              "      <td>11262</td>\n",
              "    </tr>\n",
              "  </tbody>\n",
              "</table>\n",
              "</div>"
            ],
            "text/plain": [
              "          population      GDP alpha-2   pop-GDP       aa2\n",
              "Anguilla       11300      311      AI     10989     10989\n",
              "Brunei        434000    12128      BN    421872    421872\n",
              "France      65000000  2583560      FR  62416440  62416440\n",
              "Iceland       337000    17036      IS    319964    319964\n",
              "Italy       59000000  1937894      IT  57062106  57062106\n",
              "Maldives      434000     4520      MV    429480    429480\n",
              "Malta         434000    12011      MT    421989    421989\n",
              "Nauru          11300      182      NR     11118     11118\n",
              "Tuvalu         11300       38      TV     11262     11262"
            ]
          },
          "execution_count": 48,
          "metadata": {},
          "output_type": "execute_result"
        }
      ],
      "source": [
        "df5.sort_index(ascending = True)"
      ]
    },
    {
      "cell_type": "code",
      "execution_count": null,
      "metadata": {
        "id": "0KGXawaig3jN"
      },
      "outputs": [],
      "source": [
        "df6 = df5.sort_index(ascending = True)"
      ]
    },
    {
      "cell_type": "code",
      "execution_count": null,
      "metadata": {
        "id": "kmCW3NQng3jN",
        "outputId": "c3fa20b1-8874-4214-c416-effef11b42db"
      },
      "outputs": [
        {
          "data": {
            "text/plain": [
              "Italy       1937894\n",
              "France      2583560\n",
              "Malta         12011\n",
              "Maldives       4520\n",
              "Brunei        12128\n",
              "Iceland       17036\n",
              "Nauru           182\n",
              "Tuvalu           38\n",
              "Anguilla        311\n",
              "Name: GDP, dtype: int64"
            ]
          },
          "execution_count": 50,
          "metadata": {},
          "output_type": "execute_result"
        }
      ],
      "source": [
        "df5['GDP']"
      ]
    },
    {
      "cell_type": "code",
      "execution_count": null,
      "metadata": {
        "id": "JCao5bmeg3jO",
        "outputId": "fc00bf0c-bfdd-4882-8c54-57bb02bdc469"
      },
      "outputs": [
        {
          "data": {
            "text/plain": [
              "Anguilla        311\n",
              "Brunei        12128\n",
              "France      2583560\n",
              "Iceland       17036\n",
              "Italy       1937894\n",
              "Maldives       4520\n",
              "Malta         12011\n",
              "Nauru           182\n",
              "Tuvalu           38\n",
              "Name: GDP, dtype: int64"
            ]
          },
          "execution_count": 51,
          "metadata": {},
          "output_type": "execute_result"
        }
      ],
      "source": [
        "df6['GDP']"
      ]
    },
    {
      "cell_type": "code",
      "execution_count": null,
      "metadata": {
        "id": "S_OCyFShg3jO",
        "outputId": "bbb9895d-084e-4253-c752-f287328e2e7a"
      },
      "outputs": [
        {
          "data": {
            "text/plain": [
              "Anguilla        622\n",
              "Brunei        24256\n",
              "France      5167120\n",
              "Iceland       34072\n",
              "Italy       3875788\n",
              "Maldives       9040\n",
              "Malta         24022\n",
              "Nauru           364\n",
              "Tuvalu           76\n",
              "Name: GDP, dtype: int64"
            ]
          },
          "execution_count": 52,
          "metadata": {},
          "output_type": "execute_result"
        }
      ],
      "source": [
        "df5['GDP'] + df6['GDP']"
      ]
    },
    {
      "cell_type": "code",
      "execution_count": null,
      "metadata": {
        "id": "aNwc1Tdig3jO",
        "outputId": "ccde934e-7179-4913-e6b0-a6f805f6c265"
      },
      "outputs": [
        {
          "data": {
            "text/plain": [
              "Italy       3875788\n",
              "France      5167120\n",
              "Malta         24022\n",
              "Maldives       9040\n",
              "Brunei        24256\n",
              "Iceland       34072\n",
              "Nauru           364\n",
              "Tuvalu           76\n",
              "Anguilla        622\n",
              "Name: GDP, dtype: int64"
            ]
          },
          "execution_count": 53,
          "metadata": {},
          "output_type": "execute_result"
        }
      ],
      "source": [
        "df5['GDP']*2"
      ]
    },
    {
      "cell_type": "markdown",
      "metadata": {
        "id": "XFJUBEq0g3jO"
      },
      "source": [
        "### 변수명.drop"
      ]
    },
    {
      "cell_type": "code",
      "execution_count": null,
      "metadata": {
        "id": "iI0Q9jGXg3jO",
        "outputId": "62a40dd0-80d5-4d8c-a5e6-e0d49b85bdb9"
      },
      "outputs": [
        {
          "name": "stdout",
          "output_type": "stream",
          "text": [
            "Object `df5.drop` not found.\n"
          ]
        }
      ],
      "source": [
        "df5.drop?"
      ]
    },
    {
      "cell_type": "code",
      "execution_count": null,
      "metadata": {
        "id": "metDtSvng3jO",
        "outputId": "9d597011-e51e-415e-d310-5281daca471e"
      },
      "outputs": [
        {
          "data": {
            "text/html": [
              "<div>\n",
              "<style scoped>\n",
              "    .dataframe tbody tr th:only-of-type {\n",
              "        vertical-align: middle;\n",
              "    }\n",
              "\n",
              "    .dataframe tbody tr th {\n",
              "        vertical-align: top;\n",
              "    }\n",
              "\n",
              "    .dataframe thead th {\n",
              "        text-align: right;\n",
              "    }\n",
              "</style>\n",
              "<table border=\"1\" class=\"dataframe\">\n",
              "  <thead>\n",
              "    <tr style=\"text-align: right;\">\n",
              "      <th></th>\n",
              "      <th>A</th>\n",
              "      <th>B</th>\n",
              "      <th>C</th>\n",
              "      <th>D</th>\n",
              "    </tr>\n",
              "  </thead>\n",
              "  <tbody>\n",
              "    <tr>\n",
              "      <th>0</th>\n",
              "      <td>0</td>\n",
              "      <td>1</td>\n",
              "      <td>2</td>\n",
              "      <td>3</td>\n",
              "    </tr>\n",
              "    <tr>\n",
              "      <th>1</th>\n",
              "      <td>4</td>\n",
              "      <td>5</td>\n",
              "      <td>6</td>\n",
              "      <td>7</td>\n",
              "    </tr>\n",
              "    <tr>\n",
              "      <th>2</th>\n",
              "      <td>8</td>\n",
              "      <td>9</td>\n",
              "      <td>10</td>\n",
              "      <td>11</td>\n",
              "    </tr>\n",
              "  </tbody>\n",
              "</table>\n",
              "</div>"
            ],
            "text/plain": [
              "   A  B   C   D\n",
              "0  0  1   2   3\n",
              "1  4  5   6   7\n",
              "2  8  9  10  11"
            ]
          },
          "execution_count": 88,
          "metadata": {},
          "output_type": "execute_result"
        }
      ],
      "source": [
        "import numpy as np\n",
        "df = pd.DataFrame(np.arange(12).reshape(3,4),\n",
        "                  columns=['A', 'B', 'C', 'D'])\n",
        "df"
      ]
    },
    {
      "cell_type": "code",
      "execution_count": null,
      "metadata": {
        "id": "NtNFM0MSg3jO",
        "outputId": "79cd4d3d-05fd-4c2d-c565-2d3c427a1232"
      },
      "outputs": [
        {
          "data": {
            "text/html": [
              "<div>\n",
              "<style scoped>\n",
              "    .dataframe tbody tr th:only-of-type {\n",
              "        vertical-align: middle;\n",
              "    }\n",
              "\n",
              "    .dataframe tbody tr th {\n",
              "        vertical-align: top;\n",
              "    }\n",
              "\n",
              "    .dataframe thead th {\n",
              "        text-align: right;\n",
              "    }\n",
              "</style>\n",
              "<table border=\"1\" class=\"dataframe\">\n",
              "  <thead>\n",
              "    <tr style=\"text-align: right;\">\n",
              "      <th></th>\n",
              "      <th>A</th>\n",
              "      <th>D</th>\n",
              "    </tr>\n",
              "  </thead>\n",
              "  <tbody>\n",
              "    <tr>\n",
              "      <th>0</th>\n",
              "      <td>0</td>\n",
              "      <td>3</td>\n",
              "    </tr>\n",
              "    <tr>\n",
              "      <th>1</th>\n",
              "      <td>4</td>\n",
              "      <td>7</td>\n",
              "    </tr>\n",
              "    <tr>\n",
              "      <th>2</th>\n",
              "      <td>8</td>\n",
              "      <td>11</td>\n",
              "    </tr>\n",
              "  </tbody>\n",
              "</table>\n",
              "</div>"
            ],
            "text/plain": [
              "   A   D\n",
              "0  0   3\n",
              "1  4   7\n",
              "2  8  11"
            ]
          },
          "execution_count": 58,
          "metadata": {},
          "output_type": "execute_result"
        }
      ],
      "source": [
        "df.drop(columns=['B', 'C'])"
      ]
    },
    {
      "cell_type": "code",
      "execution_count": null,
      "metadata": {
        "id": "1anRXisNg3jO",
        "outputId": "22f26a11-6c78-4783-bce3-f181df4e0b78"
      },
      "outputs": [
        {
          "data": {
            "text/html": [
              "<div>\n",
              "<style scoped>\n",
              "    .dataframe tbody tr th:only-of-type {\n",
              "        vertical-align: middle;\n",
              "    }\n",
              "\n",
              "    .dataframe tbody tr th {\n",
              "        vertical-align: top;\n",
              "    }\n",
              "\n",
              "    .dataframe thead th {\n",
              "        text-align: right;\n",
              "    }\n",
              "</style>\n",
              "<table border=\"1\" class=\"dataframe\">\n",
              "  <thead>\n",
              "    <tr style=\"text-align: right;\">\n",
              "      <th></th>\n",
              "      <th>A</th>\n",
              "      <th>D</th>\n",
              "    </tr>\n",
              "  </thead>\n",
              "  <tbody>\n",
              "    <tr>\n",
              "      <th>0</th>\n",
              "      <td>0</td>\n",
              "      <td>3</td>\n",
              "    </tr>\n",
              "    <tr>\n",
              "      <th>1</th>\n",
              "      <td>4</td>\n",
              "      <td>7</td>\n",
              "    </tr>\n",
              "    <tr>\n",
              "      <th>2</th>\n",
              "      <td>8</td>\n",
              "      <td>11</td>\n",
              "    </tr>\n",
              "  </tbody>\n",
              "</table>\n",
              "</div>"
            ],
            "text/plain": [
              "   A   D\n",
              "0  0   3\n",
              "1  4   7\n",
              "2  8  11"
            ]
          },
          "execution_count": 60,
          "metadata": {},
          "output_type": "execute_result"
        }
      ],
      "source": [
        "df.drop(['B', 'C'], axis=1)"
      ]
    },
    {
      "cell_type": "code",
      "execution_count": null,
      "metadata": {
        "id": "gpC4eABxg3jP",
        "outputId": "47379a37-693e-4807-87b7-0c3461e562e6"
      },
      "outputs": [
        {
          "data": {
            "text/html": [
              "<div>\n",
              "<style scoped>\n",
              "    .dataframe tbody tr th:only-of-type {\n",
              "        vertical-align: middle;\n",
              "    }\n",
              "\n",
              "    .dataframe tbody tr th {\n",
              "        vertical-align: top;\n",
              "    }\n",
              "\n",
              "    .dataframe thead th {\n",
              "        text-align: right;\n",
              "    }\n",
              "</style>\n",
              "<table border=\"1\" class=\"dataframe\">\n",
              "  <thead>\n",
              "    <tr style=\"text-align: right;\">\n",
              "      <th></th>\n",
              "      <th>A</th>\n",
              "      <th>B</th>\n",
              "      <th>C</th>\n",
              "      <th>D</th>\n",
              "    </tr>\n",
              "  </thead>\n",
              "  <tbody>\n",
              "    <tr>\n",
              "      <th>0</th>\n",
              "      <td>0</td>\n",
              "      <td>1</td>\n",
              "      <td>2</td>\n",
              "      <td>3</td>\n",
              "    </tr>\n",
              "    <tr>\n",
              "      <th>1</th>\n",
              "      <td>4</td>\n",
              "      <td>5</td>\n",
              "      <td>6</td>\n",
              "      <td>7</td>\n",
              "    </tr>\n",
              "    <tr>\n",
              "      <th>2</th>\n",
              "      <td>8</td>\n",
              "      <td>9</td>\n",
              "      <td>10</td>\n",
              "      <td>11</td>\n",
              "    </tr>\n",
              "  </tbody>\n",
              "</table>\n",
              "</div>"
            ],
            "text/plain": [
              "   A  B   C   D\n",
              "0  0  1   2   3\n",
              "1  4  5   6   7\n",
              "2  8  9  10  11"
            ]
          },
          "execution_count": 91,
          "metadata": {},
          "output_type": "execute_result"
        }
      ],
      "source": [
        "df"
      ]
    },
    {
      "cell_type": "code",
      "execution_count": null,
      "metadata": {
        "id": "35xmd7TNg3jP",
        "outputId": "afa9ec86-934c-4902-e375-37fd7a3ec52f"
      },
      "outputs": [
        {
          "data": {
            "text/html": [
              "<div>\n",
              "<style scoped>\n",
              "    .dataframe tbody tr th:only-of-type {\n",
              "        vertical-align: middle;\n",
              "    }\n",
              "\n",
              "    .dataframe tbody tr th {\n",
              "        vertical-align: top;\n",
              "    }\n",
              "\n",
              "    .dataframe thead th {\n",
              "        text-align: right;\n",
              "    }\n",
              "</style>\n",
              "<table border=\"1\" class=\"dataframe\">\n",
              "  <thead>\n",
              "    <tr style=\"text-align: right;\">\n",
              "      <th></th>\n",
              "      <th>A</th>\n",
              "      <th>B</th>\n",
              "      <th>C</th>\n",
              "      <th>D</th>\n",
              "    </tr>\n",
              "  </thead>\n",
              "  <tbody>\n",
              "    <tr>\n",
              "      <th>2</th>\n",
              "      <td>8</td>\n",
              "      <td>9</td>\n",
              "      <td>10</td>\n",
              "      <td>11</td>\n",
              "    </tr>\n",
              "  </tbody>\n",
              "</table>\n",
              "</div>"
            ],
            "text/plain": [
              "   A  B   C   D\n",
              "2  8  9  10  11"
            ]
          },
          "execution_count": 62,
          "metadata": {},
          "output_type": "execute_result"
        }
      ],
      "source": [
        "df.drop([0, 1])"
      ]
    },
    {
      "cell_type": "code",
      "execution_count": null,
      "metadata": {
        "id": "edro2SEOg3jP",
        "outputId": "ce5daab2-7cb1-447c-d431-5bd37f7ca679"
      },
      "outputs": [
        {
          "data": {
            "text/html": [
              "<div>\n",
              "<style scoped>\n",
              "    .dataframe tbody tr th:only-of-type {\n",
              "        vertical-align: middle;\n",
              "    }\n",
              "\n",
              "    .dataframe tbody tr th {\n",
              "        vertical-align: top;\n",
              "    }\n",
              "\n",
              "    .dataframe thead th {\n",
              "        text-align: right;\n",
              "    }\n",
              "</style>\n",
              "<table border=\"1\" class=\"dataframe\">\n",
              "  <thead>\n",
              "    <tr style=\"text-align: right;\">\n",
              "      <th></th>\n",
              "      <th>population</th>\n",
              "      <th>GDP</th>\n",
              "      <th>alpha-2</th>\n",
              "      <th>pop-GDP</th>\n",
              "      <th>aa2</th>\n",
              "    </tr>\n",
              "  </thead>\n",
              "  <tbody>\n",
              "    <tr>\n",
              "      <th>Italy</th>\n",
              "      <td>59000000</td>\n",
              "      <td>1937894</td>\n",
              "      <td>IT</td>\n",
              "      <td>57062106</td>\n",
              "      <td>57062106</td>\n",
              "    </tr>\n",
              "    <tr>\n",
              "      <th>France</th>\n",
              "      <td>65000000</td>\n",
              "      <td>2583560</td>\n",
              "      <td>FR</td>\n",
              "      <td>62416440</td>\n",
              "      <td>62416440</td>\n",
              "    </tr>\n",
              "    <tr>\n",
              "      <th>Malta</th>\n",
              "      <td>434000</td>\n",
              "      <td>12011</td>\n",
              "      <td>MT</td>\n",
              "      <td>421989</td>\n",
              "      <td>421989</td>\n",
              "    </tr>\n",
              "    <tr>\n",
              "      <th>Maldives</th>\n",
              "      <td>434000</td>\n",
              "      <td>4520</td>\n",
              "      <td>MV</td>\n",
              "      <td>429480</td>\n",
              "      <td>429480</td>\n",
              "    </tr>\n",
              "    <tr>\n",
              "      <th>Brunei</th>\n",
              "      <td>434000</td>\n",
              "      <td>12128</td>\n",
              "      <td>BN</td>\n",
              "      <td>421872</td>\n",
              "      <td>421872</td>\n",
              "    </tr>\n",
              "    <tr>\n",
              "      <th>Iceland</th>\n",
              "      <td>337000</td>\n",
              "      <td>17036</td>\n",
              "      <td>IS</td>\n",
              "      <td>319964</td>\n",
              "      <td>319964</td>\n",
              "    </tr>\n",
              "    <tr>\n",
              "      <th>Nauru</th>\n",
              "      <td>11300</td>\n",
              "      <td>182</td>\n",
              "      <td>NR</td>\n",
              "      <td>11118</td>\n",
              "      <td>11118</td>\n",
              "    </tr>\n",
              "    <tr>\n",
              "      <th>Tuvalu</th>\n",
              "      <td>11300</td>\n",
              "      <td>38</td>\n",
              "      <td>TV</td>\n",
              "      <td>11262</td>\n",
              "      <td>11262</td>\n",
              "    </tr>\n",
              "    <tr>\n",
              "      <th>Anguilla</th>\n",
              "      <td>11300</td>\n",
              "      <td>311</td>\n",
              "      <td>AI</td>\n",
              "      <td>10989</td>\n",
              "      <td>10989</td>\n",
              "    </tr>\n",
              "  </tbody>\n",
              "</table>\n",
              "</div>"
            ],
            "text/plain": [
              "          population      GDP alpha-2   pop-GDP       aa2\n",
              "Italy       59000000  1937894      IT  57062106  57062106\n",
              "France      65000000  2583560      FR  62416440  62416440\n",
              "Malta         434000    12011      MT    421989    421989\n",
              "Maldives      434000     4520      MV    429480    429480\n",
              "Brunei        434000    12128      BN    421872    421872\n",
              "Iceland       337000    17036      IS    319964    319964\n",
              "Nauru          11300      182      NR     11118     11118\n",
              "Tuvalu         11300       38      TV     11262     11262\n",
              "Anguilla       11300      311      AI     10989     10989"
            ]
          },
          "execution_count": 63,
          "metadata": {},
          "output_type": "execute_result"
        }
      ],
      "source": [
        "df6 = df5.copy()\n",
        "df6"
      ]
    },
    {
      "cell_type": "code",
      "execution_count": null,
      "metadata": {
        "id": "BGzZXBpLg3jP",
        "outputId": "a5132c10-0680-4094-d4d9-b6d1236bcd84"
      },
      "outputs": [
        {
          "data": {
            "text/html": [
              "<div>\n",
              "<style scoped>\n",
              "    .dataframe tbody tr th:only-of-type {\n",
              "        vertical-align: middle;\n",
              "    }\n",
              "\n",
              "    .dataframe tbody tr th {\n",
              "        vertical-align: top;\n",
              "    }\n",
              "\n",
              "    .dataframe thead th {\n",
              "        text-align: right;\n",
              "    }\n",
              "</style>\n",
              "<table border=\"1\" class=\"dataframe\">\n",
              "  <thead>\n",
              "    <tr style=\"text-align: right;\">\n",
              "      <th></th>\n",
              "      <th>population</th>\n",
              "      <th>GDP</th>\n",
              "      <th>alpha-2</th>\n",
              "      <th>pop-GDP</th>\n",
              "      <th>aa2</th>\n",
              "    </tr>\n",
              "  </thead>\n",
              "  <tbody>\n",
              "    <tr>\n",
              "      <th>Italy</th>\n",
              "      <td>59000000</td>\n",
              "      <td>1937894</td>\n",
              "      <td>IT</td>\n",
              "      <td>57062106</td>\n",
              "      <td>57062106</td>\n",
              "    </tr>\n",
              "    <tr>\n",
              "      <th>France</th>\n",
              "      <td>65000000</td>\n",
              "      <td>2583560</td>\n",
              "      <td>FR</td>\n",
              "      <td>62416440</td>\n",
              "      <td>62416440</td>\n",
              "    </tr>\n",
              "    <tr>\n",
              "      <th>Malta</th>\n",
              "      <td>434000</td>\n",
              "      <td>12011</td>\n",
              "      <td>MT</td>\n",
              "      <td>421989</td>\n",
              "      <td>421989</td>\n",
              "    </tr>\n",
              "    <tr>\n",
              "      <th>Maldives</th>\n",
              "      <td>434000</td>\n",
              "      <td>4520</td>\n",
              "      <td>MV</td>\n",
              "      <td>429480</td>\n",
              "      <td>429480</td>\n",
              "    </tr>\n",
              "    <tr>\n",
              "      <th>Brunei</th>\n",
              "      <td>434000</td>\n",
              "      <td>12128</td>\n",
              "      <td>BN</td>\n",
              "      <td>421872</td>\n",
              "      <td>421872</td>\n",
              "    </tr>\n",
              "    <tr>\n",
              "      <th>Iceland</th>\n",
              "      <td>337000</td>\n",
              "      <td>17036</td>\n",
              "      <td>IS</td>\n",
              "      <td>319964</td>\n",
              "      <td>319964</td>\n",
              "    </tr>\n",
              "    <tr>\n",
              "      <th>Nauru</th>\n",
              "      <td>11300</td>\n",
              "      <td>182</td>\n",
              "      <td>NR</td>\n",
              "      <td>11118</td>\n",
              "      <td>11118</td>\n",
              "    </tr>\n",
              "    <tr>\n",
              "      <th>Tuvalu</th>\n",
              "      <td>11300</td>\n",
              "      <td>38</td>\n",
              "      <td>TV</td>\n",
              "      <td>11262</td>\n",
              "      <td>11262</td>\n",
              "    </tr>\n",
              "    <tr>\n",
              "      <th>Anguilla</th>\n",
              "      <td>11300</td>\n",
              "      <td>311</td>\n",
              "      <td>AI</td>\n",
              "      <td>10989</td>\n",
              "      <td>10989</td>\n",
              "    </tr>\n",
              "  </tbody>\n",
              "</table>\n",
              "</div>"
            ],
            "text/plain": [
              "          population      GDP alpha-2   pop-GDP       aa2\n",
              "Italy       59000000  1937894      IT  57062106  57062106\n",
              "France      65000000  2583560      FR  62416440  62416440\n",
              "Malta         434000    12011      MT    421989    421989\n",
              "Maldives      434000     4520      MV    429480    429480\n",
              "Brunei        434000    12128      BN    421872    421872\n",
              "Iceland       337000    17036      IS    319964    319964\n",
              "Nauru          11300      182      NR     11118     11118\n",
              "Tuvalu         11300       38      TV     11262     11262\n",
              "Anguilla       11300      311      AI     10989     10989"
            ]
          },
          "execution_count": 96,
          "metadata": {},
          "output_type": "execute_result"
        }
      ],
      "source": [
        "df7 = df5\n",
        "df7"
      ]
    },
    {
      "cell_type": "code",
      "execution_count": null,
      "metadata": {
        "id": "qb4lAaR2g3jP",
        "outputId": "034d3b92-2b8a-4b28-ab0c-d5b3bc4acfee"
      },
      "outputs": [
        {
          "data": {
            "text/html": [
              "<div>\n",
              "<style scoped>\n",
              "    .dataframe tbody tr th:only-of-type {\n",
              "        vertical-align: middle;\n",
              "    }\n",
              "\n",
              "    .dataframe tbody tr th {\n",
              "        vertical-align: top;\n",
              "    }\n",
              "\n",
              "    .dataframe thead th {\n",
              "        text-align: right;\n",
              "    }\n",
              "</style>\n",
              "<table border=\"1\" class=\"dataframe\">\n",
              "  <thead>\n",
              "    <tr style=\"text-align: right;\">\n",
              "      <th></th>\n",
              "      <th>population</th>\n",
              "      <th>GDP</th>\n",
              "      <th>alpha-2</th>\n",
              "      <th>aa2</th>\n",
              "    </tr>\n",
              "  </thead>\n",
              "  <tbody>\n",
              "    <tr>\n",
              "      <th>Italy</th>\n",
              "      <td>59000000</td>\n",
              "      <td>1937894</td>\n",
              "      <td>IT</td>\n",
              "      <td>57062106</td>\n",
              "    </tr>\n",
              "    <tr>\n",
              "      <th>France</th>\n",
              "      <td>65000000</td>\n",
              "      <td>2583560</td>\n",
              "      <td>FR</td>\n",
              "      <td>62416440</td>\n",
              "    </tr>\n",
              "    <tr>\n",
              "      <th>Malta</th>\n",
              "      <td>434000</td>\n",
              "      <td>12011</td>\n",
              "      <td>MT</td>\n",
              "      <td>421989</td>\n",
              "    </tr>\n",
              "    <tr>\n",
              "      <th>Maldives</th>\n",
              "      <td>434000</td>\n",
              "      <td>4520</td>\n",
              "      <td>MV</td>\n",
              "      <td>429480</td>\n",
              "    </tr>\n",
              "    <tr>\n",
              "      <th>Brunei</th>\n",
              "      <td>434000</td>\n",
              "      <td>12128</td>\n",
              "      <td>BN</td>\n",
              "      <td>421872</td>\n",
              "    </tr>\n",
              "    <tr>\n",
              "      <th>Iceland</th>\n",
              "      <td>337000</td>\n",
              "      <td>17036</td>\n",
              "      <td>IS</td>\n",
              "      <td>319964</td>\n",
              "    </tr>\n",
              "    <tr>\n",
              "      <th>Nauru</th>\n",
              "      <td>11300</td>\n",
              "      <td>182</td>\n",
              "      <td>NR</td>\n",
              "      <td>11118</td>\n",
              "    </tr>\n",
              "    <tr>\n",
              "      <th>Tuvalu</th>\n",
              "      <td>11300</td>\n",
              "      <td>38</td>\n",
              "      <td>TV</td>\n",
              "      <td>11262</td>\n",
              "    </tr>\n",
              "    <tr>\n",
              "      <th>Anguilla</th>\n",
              "      <td>11300</td>\n",
              "      <td>311</td>\n",
              "      <td>AI</td>\n",
              "      <td>10989</td>\n",
              "    </tr>\n",
              "  </tbody>\n",
              "</table>\n",
              "</div>"
            ],
            "text/plain": [
              "          population      GDP alpha-2       aa2\n",
              "Italy       59000000  1937894      IT  57062106\n",
              "France      65000000  2583560      FR  62416440\n",
              "Malta         434000    12011      MT    421989\n",
              "Maldives      434000     4520      MV    429480\n",
              "Brunei        434000    12128      BN    421872\n",
              "Iceland       337000    17036      IS    319964\n",
              "Nauru          11300      182      NR     11118\n",
              "Tuvalu         11300       38      TV     11262\n",
              "Anguilla       11300      311      AI     10989"
            ]
          },
          "execution_count": 98,
          "metadata": {},
          "output_type": "execute_result"
        }
      ],
      "source": [
        "df7.drop(columns = ['pop-GDP'])"
      ]
    },
    {
      "cell_type": "code",
      "execution_count": null,
      "metadata": {
        "id": "gh820Itig3jP",
        "outputId": "7de0c2b1-629b-4d4a-8406-ae2f570e0112"
      },
      "outputs": [
        {
          "data": {
            "text/html": [
              "<div>\n",
              "<style scoped>\n",
              "    .dataframe tbody tr th:only-of-type {\n",
              "        vertical-align: middle;\n",
              "    }\n",
              "\n",
              "    .dataframe tbody tr th {\n",
              "        vertical-align: top;\n",
              "    }\n",
              "\n",
              "    .dataframe thead th {\n",
              "        text-align: right;\n",
              "    }\n",
              "</style>\n",
              "<table border=\"1\" class=\"dataframe\">\n",
              "  <thead>\n",
              "    <tr style=\"text-align: right;\">\n",
              "      <th></th>\n",
              "      <th>population</th>\n",
              "      <th>GDP</th>\n",
              "      <th>alpha-2</th>\n",
              "      <th>aa2</th>\n",
              "    </tr>\n",
              "  </thead>\n",
              "  <tbody>\n",
              "    <tr>\n",
              "      <th>Italy</th>\n",
              "      <td>59000000</td>\n",
              "      <td>1937894</td>\n",
              "      <td>IT</td>\n",
              "      <td>57062106</td>\n",
              "    </tr>\n",
              "    <tr>\n",
              "      <th>France</th>\n",
              "      <td>65000000</td>\n",
              "      <td>2583560</td>\n",
              "      <td>FR</td>\n",
              "      <td>62416440</td>\n",
              "    </tr>\n",
              "    <tr>\n",
              "      <th>Malta</th>\n",
              "      <td>434000</td>\n",
              "      <td>12011</td>\n",
              "      <td>MT</td>\n",
              "      <td>421989</td>\n",
              "    </tr>\n",
              "    <tr>\n",
              "      <th>Maldives</th>\n",
              "      <td>434000</td>\n",
              "      <td>4520</td>\n",
              "      <td>MV</td>\n",
              "      <td>429480</td>\n",
              "    </tr>\n",
              "    <tr>\n",
              "      <th>Brunei</th>\n",
              "      <td>434000</td>\n",
              "      <td>12128</td>\n",
              "      <td>BN</td>\n",
              "      <td>421872</td>\n",
              "    </tr>\n",
              "    <tr>\n",
              "      <th>Iceland</th>\n",
              "      <td>337000</td>\n",
              "      <td>17036</td>\n",
              "      <td>IS</td>\n",
              "      <td>319964</td>\n",
              "    </tr>\n",
              "    <tr>\n",
              "      <th>Nauru</th>\n",
              "      <td>11300</td>\n",
              "      <td>182</td>\n",
              "      <td>NR</td>\n",
              "      <td>11118</td>\n",
              "    </tr>\n",
              "    <tr>\n",
              "      <th>Tuvalu</th>\n",
              "      <td>11300</td>\n",
              "      <td>38</td>\n",
              "      <td>TV</td>\n",
              "      <td>11262</td>\n",
              "    </tr>\n",
              "    <tr>\n",
              "      <th>Anguilla</th>\n",
              "      <td>11300</td>\n",
              "      <td>311</td>\n",
              "      <td>AI</td>\n",
              "      <td>10989</td>\n",
              "    </tr>\n",
              "  </tbody>\n",
              "</table>\n",
              "</div>"
            ],
            "text/plain": [
              "          population      GDP alpha-2       aa2\n",
              "Italy       59000000  1937894      IT  57062106\n",
              "France      65000000  2583560      FR  62416440\n",
              "Malta         434000    12011      MT    421989\n",
              "Maldives      434000     4520      MV    429480\n",
              "Brunei        434000    12128      BN    421872\n",
              "Iceland       337000    17036      IS    319964\n",
              "Nauru          11300      182      NR     11118\n",
              "Tuvalu         11300       38      TV     11262\n",
              "Anguilla       11300      311      AI     10989"
            ]
          },
          "execution_count": 68,
          "metadata": {},
          "output_type": "execute_result"
        }
      ],
      "source": [
        "df5=df7.drop(['pop-GDP'], axis=1)\n",
        "df5"
      ]
    },
    {
      "cell_type": "markdown",
      "metadata": {
        "id": "MsIPlYb4g3jP"
      },
      "source": [
        "* df7.drop(['pop-GDP'])는 에러 남(인덱스에 'pop-GDP'가 없어서)"
      ]
    },
    {
      "cell_type": "code",
      "execution_count": null,
      "metadata": {
        "id": "ybrfbnm3g3jP",
        "outputId": "38c5185c-f84f-46ac-fc0a-fd3dd6701799"
      },
      "outputs": [
        {
          "data": {
            "text/html": [
              "<div>\n",
              "<style scoped>\n",
              "    .dataframe tbody tr th:only-of-type {\n",
              "        vertical-align: middle;\n",
              "    }\n",
              "\n",
              "    .dataframe tbody tr th {\n",
              "        vertical-align: top;\n",
              "    }\n",
              "\n",
              "    .dataframe thead th {\n",
              "        text-align: right;\n",
              "    }\n",
              "</style>\n",
              "<table border=\"1\" class=\"dataframe\">\n",
              "  <thead>\n",
              "    <tr style=\"text-align: right;\">\n",
              "      <th></th>\n",
              "      <th>population</th>\n",
              "      <th>GDP</th>\n",
              "      <th>alpha-2</th>\n",
              "      <th>pop-GDP</th>\n",
              "    </tr>\n",
              "  </thead>\n",
              "  <tbody>\n",
              "    <tr>\n",
              "      <th>Italy</th>\n",
              "      <td>59000000</td>\n",
              "      <td>1937894</td>\n",
              "      <td>IT</td>\n",
              "      <td>57062106</td>\n",
              "    </tr>\n",
              "    <tr>\n",
              "      <th>France</th>\n",
              "      <td>65000000</td>\n",
              "      <td>2583560</td>\n",
              "      <td>FR</td>\n",
              "      <td>62416440</td>\n",
              "    </tr>\n",
              "    <tr>\n",
              "      <th>Malta</th>\n",
              "      <td>434000</td>\n",
              "      <td>12011</td>\n",
              "      <td>MT</td>\n",
              "      <td>421989</td>\n",
              "    </tr>\n",
              "    <tr>\n",
              "      <th>Maldives</th>\n",
              "      <td>434000</td>\n",
              "      <td>4520</td>\n",
              "      <td>MV</td>\n",
              "      <td>429480</td>\n",
              "    </tr>\n",
              "    <tr>\n",
              "      <th>Brunei</th>\n",
              "      <td>434000</td>\n",
              "      <td>12128</td>\n",
              "      <td>BN</td>\n",
              "      <td>421872</td>\n",
              "    </tr>\n",
              "    <tr>\n",
              "      <th>Iceland</th>\n",
              "      <td>337000</td>\n",
              "      <td>17036</td>\n",
              "      <td>IS</td>\n",
              "      <td>319964</td>\n",
              "    </tr>\n",
              "    <tr>\n",
              "      <th>Nauru</th>\n",
              "      <td>11300</td>\n",
              "      <td>182</td>\n",
              "      <td>NR</td>\n",
              "      <td>11118</td>\n",
              "    </tr>\n",
              "    <tr>\n",
              "      <th>Tuvalu</th>\n",
              "      <td>11300</td>\n",
              "      <td>38</td>\n",
              "      <td>TV</td>\n",
              "      <td>11262</td>\n",
              "    </tr>\n",
              "    <tr>\n",
              "      <th>Anguilla</th>\n",
              "      <td>11300</td>\n",
              "      <td>311</td>\n",
              "      <td>AI</td>\n",
              "      <td>10989</td>\n",
              "    </tr>\n",
              "  </tbody>\n",
              "</table>\n",
              "</div>"
            ],
            "text/plain": [
              "          population      GDP alpha-2   pop-GDP\n",
              "Italy       59000000  1937894      IT  57062106\n",
              "France      65000000  2583560      FR  62416440\n",
              "Malta         434000    12011      MT    421989\n",
              "Maldives      434000     4520      MV    429480\n",
              "Brunei        434000    12128      BN    421872\n",
              "Iceland       337000    17036      IS    319964\n",
              "Nauru          11300      182      NR     11118\n",
              "Tuvalu         11300       38      TV     11262\n",
              "Anguilla       11300      311      AI     10989"
            ]
          },
          "execution_count": 101,
          "metadata": {},
          "output_type": "execute_result"
        }
      ],
      "source": [
        "df5 = df7.drop(['aa2'], axis = 1)\n",
        "df5"
      ]
    },
    {
      "cell_type": "code",
      "execution_count": null,
      "metadata": {
        "id": "UvG-rwWUg3jQ",
        "outputId": "59495964-269d-4d1f-a033-901d103b8d95"
      },
      "outputs": [
        {
          "data": {
            "text/html": [
              "<div>\n",
              "<style scoped>\n",
              "    .dataframe tbody tr th:only-of-type {\n",
              "        vertical-align: middle;\n",
              "    }\n",
              "\n",
              "    .dataframe tbody tr th {\n",
              "        vertical-align: top;\n",
              "    }\n",
              "\n",
              "    .dataframe thead th {\n",
              "        text-align: right;\n",
              "    }\n",
              "</style>\n",
              "<table border=\"1\" class=\"dataframe\">\n",
              "  <thead>\n",
              "    <tr style=\"text-align: right;\">\n",
              "      <th></th>\n",
              "      <th>population</th>\n",
              "      <th>GDP</th>\n",
              "      <th>alpha-2</th>\n",
              "      <th>pop-GDP</th>\n",
              "      <th>aa2</th>\n",
              "    </tr>\n",
              "  </thead>\n",
              "  <tbody>\n",
              "    <tr>\n",
              "      <th>Italy</th>\n",
              "      <td>59000000</td>\n",
              "      <td>1937894</td>\n",
              "      <td>IT</td>\n",
              "      <td>57062106</td>\n",
              "      <td>57062106</td>\n",
              "    </tr>\n",
              "    <tr>\n",
              "      <th>France</th>\n",
              "      <td>65000000</td>\n",
              "      <td>2583560</td>\n",
              "      <td>FR</td>\n",
              "      <td>62416440</td>\n",
              "      <td>62416440</td>\n",
              "    </tr>\n",
              "    <tr>\n",
              "      <th>Malta</th>\n",
              "      <td>434000</td>\n",
              "      <td>12011</td>\n",
              "      <td>MT</td>\n",
              "      <td>421989</td>\n",
              "      <td>421989</td>\n",
              "    </tr>\n",
              "    <tr>\n",
              "      <th>Maldives</th>\n",
              "      <td>434000</td>\n",
              "      <td>4520</td>\n",
              "      <td>MV</td>\n",
              "      <td>429480</td>\n",
              "      <td>429480</td>\n",
              "    </tr>\n",
              "    <tr>\n",
              "      <th>Brunei</th>\n",
              "      <td>434000</td>\n",
              "      <td>12128</td>\n",
              "      <td>BN</td>\n",
              "      <td>421872</td>\n",
              "      <td>421872</td>\n",
              "    </tr>\n",
              "    <tr>\n",
              "      <th>Iceland</th>\n",
              "      <td>337000</td>\n",
              "      <td>17036</td>\n",
              "      <td>IS</td>\n",
              "      <td>319964</td>\n",
              "      <td>319964</td>\n",
              "    </tr>\n",
              "    <tr>\n",
              "      <th>Nauru</th>\n",
              "      <td>11300</td>\n",
              "      <td>182</td>\n",
              "      <td>NR</td>\n",
              "      <td>11118</td>\n",
              "      <td>11118</td>\n",
              "    </tr>\n",
              "    <tr>\n",
              "      <th>Tuvalu</th>\n",
              "      <td>11300</td>\n",
              "      <td>38</td>\n",
              "      <td>TV</td>\n",
              "      <td>11262</td>\n",
              "      <td>11262</td>\n",
              "    </tr>\n",
              "    <tr>\n",
              "      <th>Anguilla</th>\n",
              "      <td>11300</td>\n",
              "      <td>311</td>\n",
              "      <td>AI</td>\n",
              "      <td>10989</td>\n",
              "      <td>10989</td>\n",
              "    </tr>\n",
              "  </tbody>\n",
              "</table>\n",
              "</div>"
            ],
            "text/plain": [
              "          population      GDP alpha-2   pop-GDP       aa2\n",
              "Italy       59000000  1937894      IT  57062106  57062106\n",
              "France      65000000  2583560      FR  62416440  62416440\n",
              "Malta         434000    12011      MT    421989    421989\n",
              "Maldives      434000     4520      MV    429480    429480\n",
              "Brunei        434000    12128      BN    421872    421872\n",
              "Iceland       337000    17036      IS    319964    319964\n",
              "Nauru          11300      182      NR     11118     11118\n",
              "Tuvalu         11300       38      TV     11262     11262\n",
              "Anguilla       11300      311      AI     10989     10989"
            ]
          },
          "execution_count": 71,
          "metadata": {},
          "output_type": "execute_result"
        }
      ],
      "source": [
        "df7"
      ]
    },
    {
      "cell_type": "markdown",
      "metadata": {
        "id": "oKrtptjyg3jQ"
      },
      "source": [
        "#### \"Iceland\"를 삭제하려면\n",
        "* df7.drop([\"Iceland\"])\n",
        "* df7.drop(index = \"Iceland\")\n",
        "* df7.drop([\"Iceland\"], axis = 0)\n",
        "* df7.drop(\"Iceland\", axis = 0)\n",
        "* 모두 가능\n",
        "* * 행방향 이니까 index = 또는 axis = 0 또는 생략가능\n",
        "* * 단일행이라서 [대괄호]로 감싸도 되고 안해도 되고)"
      ]
    },
    {
      "cell_type": "code",
      "execution_count": null,
      "metadata": {
        "id": "9VRQ4W81g3jQ",
        "outputId": "2fd8fb8e-a8a6-4967-9d17-2d431a6d2628"
      },
      "outputs": [
        {
          "data": {
            "text/html": [
              "<div>\n",
              "<style scoped>\n",
              "    .dataframe tbody tr th:only-of-type {\n",
              "        vertical-align: middle;\n",
              "    }\n",
              "\n",
              "    .dataframe tbody tr th {\n",
              "        vertical-align: top;\n",
              "    }\n",
              "\n",
              "    .dataframe thead th {\n",
              "        text-align: right;\n",
              "    }\n",
              "</style>\n",
              "<table border=\"1\" class=\"dataframe\">\n",
              "  <thead>\n",
              "    <tr style=\"text-align: right;\">\n",
              "      <th></th>\n",
              "      <th>population</th>\n",
              "      <th>GDP</th>\n",
              "      <th>alpha-2</th>\n",
              "      <th>pop-GDP</th>\n",
              "      <th>aa2</th>\n",
              "    </tr>\n",
              "  </thead>\n",
              "  <tbody>\n",
              "    <tr>\n",
              "      <th>Italy</th>\n",
              "      <td>59000000</td>\n",
              "      <td>1937894</td>\n",
              "      <td>IT</td>\n",
              "      <td>57062106</td>\n",
              "      <td>57062106</td>\n",
              "    </tr>\n",
              "    <tr>\n",
              "      <th>France</th>\n",
              "      <td>65000000</td>\n",
              "      <td>2583560</td>\n",
              "      <td>FR</td>\n",
              "      <td>62416440</td>\n",
              "      <td>62416440</td>\n",
              "    </tr>\n",
              "    <tr>\n",
              "      <th>Malta</th>\n",
              "      <td>434000</td>\n",
              "      <td>12011</td>\n",
              "      <td>MT</td>\n",
              "      <td>421989</td>\n",
              "      <td>421989</td>\n",
              "    </tr>\n",
              "    <tr>\n",
              "      <th>Maldives</th>\n",
              "      <td>434000</td>\n",
              "      <td>4520</td>\n",
              "      <td>MV</td>\n",
              "      <td>429480</td>\n",
              "      <td>429480</td>\n",
              "    </tr>\n",
              "    <tr>\n",
              "      <th>Brunei</th>\n",
              "      <td>434000</td>\n",
              "      <td>12128</td>\n",
              "      <td>BN</td>\n",
              "      <td>421872</td>\n",
              "      <td>421872</td>\n",
              "    </tr>\n",
              "    <tr>\n",
              "      <th>Nauru</th>\n",
              "      <td>11300</td>\n",
              "      <td>182</td>\n",
              "      <td>NR</td>\n",
              "      <td>11118</td>\n",
              "      <td>11118</td>\n",
              "    </tr>\n",
              "    <tr>\n",
              "      <th>Tuvalu</th>\n",
              "      <td>11300</td>\n",
              "      <td>38</td>\n",
              "      <td>TV</td>\n",
              "      <td>11262</td>\n",
              "      <td>11262</td>\n",
              "    </tr>\n",
              "    <tr>\n",
              "      <th>Anguilla</th>\n",
              "      <td>11300</td>\n",
              "      <td>311</td>\n",
              "      <td>AI</td>\n",
              "      <td>10989</td>\n",
              "      <td>10989</td>\n",
              "    </tr>\n",
              "  </tbody>\n",
              "</table>\n",
              "</div>"
            ],
            "text/plain": [
              "          population      GDP alpha-2   pop-GDP       aa2\n",
              "Italy       59000000  1937894      IT  57062106  57062106\n",
              "France      65000000  2583560      FR  62416440  62416440\n",
              "Malta         434000    12011      MT    421989    421989\n",
              "Maldives      434000     4520      MV    429480    429480\n",
              "Brunei        434000    12128      BN    421872    421872\n",
              "Nauru          11300      182      NR     11118     11118\n",
              "Tuvalu         11300       38      TV     11262     11262\n",
              "Anguilla       11300      311      AI     10989     10989"
            ]
          },
          "execution_count": 102,
          "metadata": {},
          "output_type": "execute_result"
        }
      ],
      "source": [
        "df7.drop([\"Iceland\"])"
      ]
    },
    {
      "cell_type": "code",
      "execution_count": null,
      "metadata": {
        "id": "NIrXo7HEg3jQ",
        "outputId": "3d284160-0297-4953-d25b-faa4956323ff"
      },
      "outputs": [
        {
          "data": {
            "text/html": [
              "<div>\n",
              "<style scoped>\n",
              "    .dataframe tbody tr th:only-of-type {\n",
              "        vertical-align: middle;\n",
              "    }\n",
              "\n",
              "    .dataframe tbody tr th {\n",
              "        vertical-align: top;\n",
              "    }\n",
              "\n",
              "    .dataframe thead th {\n",
              "        text-align: right;\n",
              "    }\n",
              "</style>\n",
              "<table border=\"1\" class=\"dataframe\">\n",
              "  <thead>\n",
              "    <tr style=\"text-align: right;\">\n",
              "      <th></th>\n",
              "      <th>population</th>\n",
              "      <th>GDP</th>\n",
              "      <th>alpha-2</th>\n",
              "      <th>pop-GDP</th>\n",
              "      <th>aa2</th>\n",
              "    </tr>\n",
              "  </thead>\n",
              "  <tbody>\n",
              "    <tr>\n",
              "      <th>Italy</th>\n",
              "      <td>59000000</td>\n",
              "      <td>1937894</td>\n",
              "      <td>IT</td>\n",
              "      <td>57062106</td>\n",
              "      <td>57062106</td>\n",
              "    </tr>\n",
              "    <tr>\n",
              "      <th>France</th>\n",
              "      <td>65000000</td>\n",
              "      <td>2583560</td>\n",
              "      <td>FR</td>\n",
              "      <td>62416440</td>\n",
              "      <td>62416440</td>\n",
              "    </tr>\n",
              "    <tr>\n",
              "      <th>Malta</th>\n",
              "      <td>434000</td>\n",
              "      <td>12011</td>\n",
              "      <td>MT</td>\n",
              "      <td>421989</td>\n",
              "      <td>421989</td>\n",
              "    </tr>\n",
              "    <tr>\n",
              "      <th>Maldives</th>\n",
              "      <td>434000</td>\n",
              "      <td>4520</td>\n",
              "      <td>MV</td>\n",
              "      <td>429480</td>\n",
              "      <td>429480</td>\n",
              "    </tr>\n",
              "    <tr>\n",
              "      <th>Brunei</th>\n",
              "      <td>434000</td>\n",
              "      <td>12128</td>\n",
              "      <td>BN</td>\n",
              "      <td>421872</td>\n",
              "      <td>421872</td>\n",
              "    </tr>\n",
              "    <tr>\n",
              "      <th>Nauru</th>\n",
              "      <td>11300</td>\n",
              "      <td>182</td>\n",
              "      <td>NR</td>\n",
              "      <td>11118</td>\n",
              "      <td>11118</td>\n",
              "    </tr>\n",
              "    <tr>\n",
              "      <th>Tuvalu</th>\n",
              "      <td>11300</td>\n",
              "      <td>38</td>\n",
              "      <td>TV</td>\n",
              "      <td>11262</td>\n",
              "      <td>11262</td>\n",
              "    </tr>\n",
              "    <tr>\n",
              "      <th>Anguilla</th>\n",
              "      <td>11300</td>\n",
              "      <td>311</td>\n",
              "      <td>AI</td>\n",
              "      <td>10989</td>\n",
              "      <td>10989</td>\n",
              "    </tr>\n",
              "  </tbody>\n",
              "</table>\n",
              "</div>"
            ],
            "text/plain": [
              "          population      GDP alpha-2   pop-GDP       aa2\n",
              "Italy       59000000  1937894      IT  57062106  57062106\n",
              "France      65000000  2583560      FR  62416440  62416440\n",
              "Malta         434000    12011      MT    421989    421989\n",
              "Maldives      434000     4520      MV    429480    429480\n",
              "Brunei        434000    12128      BN    421872    421872\n",
              "Nauru          11300      182      NR     11118     11118\n",
              "Tuvalu         11300       38      TV     11262     11262\n",
              "Anguilla       11300      311      AI     10989     10989"
            ]
          },
          "execution_count": 103,
          "metadata": {},
          "output_type": "execute_result"
        }
      ],
      "source": [
        "df7.drop(index = \"Iceland\")"
      ]
    },
    {
      "cell_type": "code",
      "execution_count": null,
      "metadata": {
        "id": "3jMYuxU1g3jQ",
        "outputId": "421f27f2-1e79-4fa1-e53e-5a4beadf3a9f"
      },
      "outputs": [
        {
          "data": {
            "text/html": [
              "<div>\n",
              "<style scoped>\n",
              "    .dataframe tbody tr th:only-of-type {\n",
              "        vertical-align: middle;\n",
              "    }\n",
              "\n",
              "    .dataframe tbody tr th {\n",
              "        vertical-align: top;\n",
              "    }\n",
              "\n",
              "    .dataframe thead th {\n",
              "        text-align: right;\n",
              "    }\n",
              "</style>\n",
              "<table border=\"1\" class=\"dataframe\">\n",
              "  <thead>\n",
              "    <tr style=\"text-align: right;\">\n",
              "      <th></th>\n",
              "      <th>population</th>\n",
              "      <th>GDP</th>\n",
              "      <th>alpha-2</th>\n",
              "      <th>pop-GDP</th>\n",
              "      <th>aa2</th>\n",
              "    </tr>\n",
              "  </thead>\n",
              "  <tbody>\n",
              "    <tr>\n",
              "      <th>Italy</th>\n",
              "      <td>59000000</td>\n",
              "      <td>1937894</td>\n",
              "      <td>IT</td>\n",
              "      <td>57062106</td>\n",
              "      <td>57062106</td>\n",
              "    </tr>\n",
              "    <tr>\n",
              "      <th>France</th>\n",
              "      <td>65000000</td>\n",
              "      <td>2583560</td>\n",
              "      <td>FR</td>\n",
              "      <td>62416440</td>\n",
              "      <td>62416440</td>\n",
              "    </tr>\n",
              "    <tr>\n",
              "      <th>Malta</th>\n",
              "      <td>434000</td>\n",
              "      <td>12011</td>\n",
              "      <td>MT</td>\n",
              "      <td>421989</td>\n",
              "      <td>421989</td>\n",
              "    </tr>\n",
              "    <tr>\n",
              "      <th>Maldives</th>\n",
              "      <td>434000</td>\n",
              "      <td>4520</td>\n",
              "      <td>MV</td>\n",
              "      <td>429480</td>\n",
              "      <td>429480</td>\n",
              "    </tr>\n",
              "    <tr>\n",
              "      <th>Brunei</th>\n",
              "      <td>434000</td>\n",
              "      <td>12128</td>\n",
              "      <td>BN</td>\n",
              "      <td>421872</td>\n",
              "      <td>421872</td>\n",
              "    </tr>\n",
              "    <tr>\n",
              "      <th>Nauru</th>\n",
              "      <td>11300</td>\n",
              "      <td>182</td>\n",
              "      <td>NR</td>\n",
              "      <td>11118</td>\n",
              "      <td>11118</td>\n",
              "    </tr>\n",
              "    <tr>\n",
              "      <th>Tuvalu</th>\n",
              "      <td>11300</td>\n",
              "      <td>38</td>\n",
              "      <td>TV</td>\n",
              "      <td>11262</td>\n",
              "      <td>11262</td>\n",
              "    </tr>\n",
              "    <tr>\n",
              "      <th>Anguilla</th>\n",
              "      <td>11300</td>\n",
              "      <td>311</td>\n",
              "      <td>AI</td>\n",
              "      <td>10989</td>\n",
              "      <td>10989</td>\n",
              "    </tr>\n",
              "  </tbody>\n",
              "</table>\n",
              "</div>"
            ],
            "text/plain": [
              "          population      GDP alpha-2   pop-GDP       aa2\n",
              "Italy       59000000  1937894      IT  57062106  57062106\n",
              "France      65000000  2583560      FR  62416440  62416440\n",
              "Malta         434000    12011      MT    421989    421989\n",
              "Maldives      434000     4520      MV    429480    429480\n",
              "Brunei        434000    12128      BN    421872    421872\n",
              "Nauru          11300      182      NR     11118     11118\n",
              "Tuvalu         11300       38      TV     11262     11262\n",
              "Anguilla       11300      311      AI     10989     10989"
            ]
          },
          "execution_count": 104,
          "metadata": {},
          "output_type": "execute_result"
        }
      ],
      "source": [
        "df7.drop([\"Iceland\"], axis = 0)"
      ]
    },
    {
      "cell_type": "code",
      "execution_count": null,
      "metadata": {
        "id": "3L7qIaC1g3jQ",
        "outputId": "232b2de8-365a-467d-d751-5c38dbe75f99"
      },
      "outputs": [
        {
          "data": {
            "text/html": [
              "<div>\n",
              "<style scoped>\n",
              "    .dataframe tbody tr th:only-of-type {\n",
              "        vertical-align: middle;\n",
              "    }\n",
              "\n",
              "    .dataframe tbody tr th {\n",
              "        vertical-align: top;\n",
              "    }\n",
              "\n",
              "    .dataframe thead th {\n",
              "        text-align: right;\n",
              "    }\n",
              "</style>\n",
              "<table border=\"1\" class=\"dataframe\">\n",
              "  <thead>\n",
              "    <tr style=\"text-align: right;\">\n",
              "      <th></th>\n",
              "      <th>population</th>\n",
              "      <th>GDP</th>\n",
              "      <th>alpha-2</th>\n",
              "      <th>pop-GDP</th>\n",
              "      <th>aa2</th>\n",
              "    </tr>\n",
              "  </thead>\n",
              "  <tbody>\n",
              "    <tr>\n",
              "      <th>Italy</th>\n",
              "      <td>59000000</td>\n",
              "      <td>1937894</td>\n",
              "      <td>IT</td>\n",
              "      <td>57062106</td>\n",
              "      <td>57062106</td>\n",
              "    </tr>\n",
              "    <tr>\n",
              "      <th>France</th>\n",
              "      <td>65000000</td>\n",
              "      <td>2583560</td>\n",
              "      <td>FR</td>\n",
              "      <td>62416440</td>\n",
              "      <td>62416440</td>\n",
              "    </tr>\n",
              "    <tr>\n",
              "      <th>Malta</th>\n",
              "      <td>434000</td>\n",
              "      <td>12011</td>\n",
              "      <td>MT</td>\n",
              "      <td>421989</td>\n",
              "      <td>421989</td>\n",
              "    </tr>\n",
              "    <tr>\n",
              "      <th>Maldives</th>\n",
              "      <td>434000</td>\n",
              "      <td>4520</td>\n",
              "      <td>MV</td>\n",
              "      <td>429480</td>\n",
              "      <td>429480</td>\n",
              "    </tr>\n",
              "    <tr>\n",
              "      <th>Brunei</th>\n",
              "      <td>434000</td>\n",
              "      <td>12128</td>\n",
              "      <td>BN</td>\n",
              "      <td>421872</td>\n",
              "      <td>421872</td>\n",
              "    </tr>\n",
              "    <tr>\n",
              "      <th>Nauru</th>\n",
              "      <td>11300</td>\n",
              "      <td>182</td>\n",
              "      <td>NR</td>\n",
              "      <td>11118</td>\n",
              "      <td>11118</td>\n",
              "    </tr>\n",
              "    <tr>\n",
              "      <th>Tuvalu</th>\n",
              "      <td>11300</td>\n",
              "      <td>38</td>\n",
              "      <td>TV</td>\n",
              "      <td>11262</td>\n",
              "      <td>11262</td>\n",
              "    </tr>\n",
              "    <tr>\n",
              "      <th>Anguilla</th>\n",
              "      <td>11300</td>\n",
              "      <td>311</td>\n",
              "      <td>AI</td>\n",
              "      <td>10989</td>\n",
              "      <td>10989</td>\n",
              "    </tr>\n",
              "  </tbody>\n",
              "</table>\n",
              "</div>"
            ],
            "text/plain": [
              "          population      GDP alpha-2   pop-GDP       aa2\n",
              "Italy       59000000  1937894      IT  57062106  57062106\n",
              "France      65000000  2583560      FR  62416440  62416440\n",
              "Malta         434000    12011      MT    421989    421989\n",
              "Maldives      434000     4520      MV    429480    429480\n",
              "Brunei        434000    12128      BN    421872    421872\n",
              "Nauru          11300      182      NR     11118     11118\n",
              "Tuvalu         11300       38      TV     11262     11262\n",
              "Anguilla       11300      311      AI     10989     10989"
            ]
          },
          "execution_count": 105,
          "metadata": {},
          "output_type": "execute_result"
        }
      ],
      "source": [
        "df7.drop(\"Iceland\", axis = 0)"
      ]
    },
    {
      "cell_type": "code",
      "execution_count": null,
      "metadata": {
        "id": "Lg5sl3Png3jQ",
        "outputId": "bd4bc760-23ae-403e-c1a6-1322eff4fc10"
      },
      "outputs": [
        {
          "data": {
            "text/html": [
              "<div>\n",
              "<style scoped>\n",
              "    .dataframe tbody tr th:only-of-type {\n",
              "        vertical-align: middle;\n",
              "    }\n",
              "\n",
              "    .dataframe tbody tr th {\n",
              "        vertical-align: top;\n",
              "    }\n",
              "\n",
              "    .dataframe thead th {\n",
              "        text-align: right;\n",
              "    }\n",
              "</style>\n",
              "<table border=\"1\" class=\"dataframe\">\n",
              "  <thead>\n",
              "    <tr style=\"text-align: right;\">\n",
              "      <th></th>\n",
              "      <th>population</th>\n",
              "      <th>GDP</th>\n",
              "      <th>alpha-2</th>\n",
              "    </tr>\n",
              "  </thead>\n",
              "  <tbody>\n",
              "    <tr>\n",
              "      <th>France</th>\n",
              "      <td>65000000</td>\n",
              "      <td>2583560</td>\n",
              "      <td>FR</td>\n",
              "    </tr>\n",
              "    <tr>\n",
              "      <th>Maldives</th>\n",
              "      <td>434000</td>\n",
              "      <td>4520</td>\n",
              "      <td>MV</td>\n",
              "    </tr>\n",
              "    <tr>\n",
              "      <th>Brunei</th>\n",
              "      <td>434000</td>\n",
              "      <td>12128</td>\n",
              "      <td>BN</td>\n",
              "    </tr>\n",
              "    <tr>\n",
              "      <th>Iceland</th>\n",
              "      <td>337000</td>\n",
              "      <td>17036</td>\n",
              "      <td>IS</td>\n",
              "    </tr>\n",
              "    <tr>\n",
              "      <th>Nauru</th>\n",
              "      <td>11300</td>\n",
              "      <td>182</td>\n",
              "      <td>NR</td>\n",
              "    </tr>\n",
              "    <tr>\n",
              "      <th>Tuvalu</th>\n",
              "      <td>11300</td>\n",
              "      <td>38</td>\n",
              "      <td>TV</td>\n",
              "    </tr>\n",
              "    <tr>\n",
              "      <th>Anguilla</th>\n",
              "      <td>11300</td>\n",
              "      <td>311</td>\n",
              "      <td>AI</td>\n",
              "    </tr>\n",
              "  </tbody>\n",
              "</table>\n",
              "</div>"
            ],
            "text/plain": [
              "          population      GDP alpha-2\n",
              "France      65000000  2583560      FR\n",
              "Maldives      434000     4520      MV\n",
              "Brunei        434000    12128      BN\n",
              "Iceland       337000    17036      IS\n",
              "Nauru          11300      182      NR\n",
              "Tuvalu         11300       38      TV\n",
              "Anguilla       11300      311      AI"
            ]
          },
          "execution_count": 17,
          "metadata": {},
          "output_type": "execute_result"
        }
      ],
      "source": [
        "df7.drop(['Italy', 'Malta'])"
      ]
    },
    {
      "cell_type": "markdown",
      "metadata": {
        "id": "GkFwe0U1g3jR"
      },
      "source": [
        "### 시리즈의 연산"
      ]
    },
    {
      "cell_type": "code",
      "execution_count": null,
      "metadata": {
        "id": "fjtgcXjOg3jR",
        "outputId": "3a37e33a-1a7e-448f-91c1-06551cc3dc38"
      },
      "outputs": [
        {
          "data": {
            "text/plain": [
              "0    37\n",
              "1    61\n",
              "2    90\n",
              "3    66\n",
              "4    56\n",
              "5    45\n",
              "6    41\n",
              "7    77\n",
              "dtype: int64"
            ]
          },
          "execution_count": 19,
          "metadata": {},
          "output_type": "execute_result"
        }
      ],
      "source": [
        "age = pd.Series([37, 61, 90, 66, 56, 45, 41, 77])\n",
        "age"
      ]
    },
    {
      "cell_type": "code",
      "execution_count": null,
      "metadata": {
        "id": "ZYcqoOsKg3jR",
        "outputId": "e7d76899-8247-4cef-8e28-e6d6c3bd8c4c"
      },
      "outputs": [
        {
          "data": {
            "text/plain": [
              "0     74\n",
              "1    122\n",
              "2    180\n",
              "3    132\n",
              "4    112\n",
              "5     90\n",
              "6     82\n",
              "7    154\n",
              "dtype: int64"
            ]
          },
          "execution_count": 20,
          "metadata": {},
          "output_type": "execute_result"
        }
      ],
      "source": [
        "age + age"
      ]
    },
    {
      "cell_type": "code",
      "execution_count": null,
      "metadata": {
        "id": "3FWRy1HLg3jR",
        "outputId": "027afa44-5a8a-48a9-f9cd-e3d4ece32a16"
      },
      "outputs": [
        {
          "data": {
            "text/plain": [
              "90"
            ]
          },
          "execution_count": 21,
          "metadata": {},
          "output_type": "execute_result"
        }
      ],
      "source": [
        "age.max()"
      ]
    },
    {
      "cell_type": "code",
      "execution_count": null,
      "metadata": {
        "id": "yLdDnV31g3jR",
        "outputId": "a80fbd6d-57e3-47f0-f333-b50e2b621d9f"
      },
      "outputs": [
        {
          "data": {
            "text/plain": [
              "59.125"
            ]
          },
          "execution_count": 22,
          "metadata": {},
          "output_type": "execute_result"
        }
      ],
      "source": [
        "age.mean()"
      ]
    },
    {
      "cell_type": "code",
      "execution_count": null,
      "metadata": {
        "id": "r7crMnbFg3jR",
        "outputId": "7e7cff44-81ed-4c59-a593-3b6506d3c934"
      },
      "outputs": [
        {
          "data": {
            "text/plain": [
              "0    False\n",
              "1     True\n",
              "2     True\n",
              "3     True\n",
              "4    False\n",
              "5    False\n",
              "6    False\n",
              "7     True\n",
              "dtype: bool"
            ]
          },
          "execution_count": 23,
          "metadata": {},
          "output_type": "execute_result"
        }
      ],
      "source": [
        "age > age.mean()"
      ]
    },
    {
      "cell_type": "code",
      "execution_count": null,
      "metadata": {
        "id": "Hu0ulmNtg3jR",
        "outputId": "d522bf53-bf07-48e5-c602-5a715d00dd17"
      },
      "outputs": [
        {
          "data": {
            "text/plain": [
              "1    61\n",
              "2    90\n",
              "3    66\n",
              "7    77\n",
              "dtype: int64"
            ]
          },
          "execution_count": 24,
          "metadata": {},
          "output_type": "execute_result"
        }
      ],
      "source": [
        "age[age > age.mean()]"
      ]
    },
    {
      "cell_type": "code",
      "execution_count": null,
      "metadata": {
        "id": "2tyPaRJFg3jR",
        "outputId": "9b8f0f74-404a-42b3-b74c-0cb82e872748"
      },
      "outputs": [
        {
          "data": {
            "text/plain": [
              "0      1\n",
              "1    100\n",
              "dtype: int64"
            ]
          },
          "execution_count": 25,
          "metadata": {},
          "output_type": "execute_result"
        }
      ],
      "source": [
        "ex = pd.Series([1, 100])\n",
        "ex"
      ]
    },
    {
      "cell_type": "code",
      "execution_count": null,
      "metadata": {
        "id": "h-hc93Mkg3jS",
        "outputId": "27d292d1-dcb5-41e1-e4f2-a411b1e60574"
      },
      "outputs": [
        {
          "data": {
            "text/plain": [
              "0    37\n",
              "1    61\n",
              "2    90\n",
              "3    66\n",
              "4    56\n",
              "5    45\n",
              "6    41\n",
              "7    77\n",
              "dtype: int64"
            ]
          },
          "execution_count": 76,
          "metadata": {},
          "output_type": "execute_result"
        }
      ],
      "source": [
        "age"
      ]
    },
    {
      "cell_type": "code",
      "execution_count": null,
      "metadata": {
        "id": "1XCsMFE5g3jS",
        "outputId": "7bb3531e-5cbf-448d-a6d5-55a3d5812b7c"
      },
      "outputs": [
        {
          "data": {
            "text/plain": [
              "0     38.0\n",
              "1    161.0\n",
              "2      NaN\n",
              "3      NaN\n",
              "4      NaN\n",
              "5      NaN\n",
              "6      NaN\n",
              "7      NaN\n",
              "dtype: float64"
            ]
          },
          "execution_count": 26,
          "metadata": {},
          "output_type": "execute_result"
        }
      ],
      "source": [
        "age + ex"
      ]
    },
    {
      "cell_type": "markdown",
      "metadata": {
        "id": "R1tkW-sPg3jS"
      },
      "source": [
        "* 나머지 인덱스인 2~7은 계산할 수 없어서 NaN으로 처리 함 "
      ]
    },
    {
      "cell_type": "code",
      "execution_count": null,
      "metadata": {
        "id": "rIxKrolug3jS"
      },
      "outputs": [],
      "source": [
        "rev_age = age.sort_index(ascending = False)"
      ]
    },
    {
      "cell_type": "code",
      "execution_count": null,
      "metadata": {
        "id": "-ve3v8CTg3jS"
      },
      "outputs": [],
      "source": [
        "age + rev_age"
      ]
    },
    {
      "cell_type": "code",
      "execution_count": null,
      "metadata": {
        "id": "f4vUGSjJg3jS"
      },
      "outputs": [],
      "source": [
        "age * 2"
      ]
    },
    {
      "cell_type": "code",
      "execution_count": null,
      "metadata": {
        "id": "ttua8YUng3jS"
      },
      "outputs": [],
      "source": [
        "age.drop(0)"
      ]
    },
    {
      "cell_type": "code",
      "execution_count": null,
      "metadata": {
        "id": "sHArmh7-g3jS"
      },
      "outputs": [],
      "source": [
        "age.drop([1, 3, 5])"
      ]
    }
  ],
  "metadata": {
    "kernelspec": {
      "display_name": "Python 3",
      "language": "python",
      "name": "python3"
    },
    "language_info": {
      "codemirror_mode": {
        "name": "ipython",
        "version": 3
      },
      "file_extension": ".py",
      "mimetype": "text/x-python",
      "name": "python",
      "nbconvert_exporter": "python",
      "pygments_lexer": "ipython3",
      "version": "3.7.4"
    },
    "colab": {
      "name": "데이터프레임다루기-기초.ipynb",
      "provenance": [],
      "include_colab_link": true
    }
  },
  "nbformat": 4,
  "nbformat_minor": 0
}