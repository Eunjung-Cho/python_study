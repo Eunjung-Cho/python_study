{
  "cells": [
    {
      "cell_type": "markdown",
      "metadata": {
        "id": "view-in-github",
        "colab_type": "text"
      },
      "source": [
        "<a href=\"https://colab.research.google.com/github/Eunjung-Cho/python_study/blob/master/Preprocessing/%EB%8D%B0%EC%9D%B4%ED%84%B0%EC%B2%98%EB%A6%AC%ED%94%84%EB%A1%9C%EA%B7%B8%EB%9E%98%EB%B0%8D/%EB%8D%B0%EC%B2%98%ED%94%84_4%EC%A3%BC%EC%B0%A8.ipynb\" target=\"_parent\"><img src=\"https://colab.research.google.com/assets/colab-badge.svg\" alt=\"Open In Colab\"/></a>"
      ]
    },
    {
      "cell_type": "markdown",
      "metadata": {
        "id": "MwxK4BOQhpLb"
      },
      "source": [
        "# 4주차-1 : Series 만들기"
      ]
    },
    {
      "cell_type": "markdown",
      "metadata": {
        "id": "r3CdDvHWhpLf"
      },
      "source": [
        "#### 3주차-2 복습: \n",
        "\n",
        "1) pd.Series \n",
        "변수이름=pd.Series(데이터,index=인덱스)\n",
        "데이터 <- 스칼라(정수,실수),리스트,딕셔너리,ndarray(numpy배열)\n",
        "index <- 원소 엑세스에 사용할 인덱스 지정, dictionary의 키와 같은 역할\n",
        "\n",
        "* 들어가기 전에 알아 둘 사항 \n",
        "\n",
        "-Series는 1차원 구조의 자료 표현\n",
        "-다른 표현: index가 포함된 numpy의 ndarray\n",
        "-다른 표현: column vector를 표현하는object\n",
        "판다스: 파이썬 계의 엑셀! / numpy를 기반으로 강력한 스프레드 시트 처리 기능을 제공\n",
        "\n",
        "* Numpy (Numerical Python) 공학용 계산기\n",
        "\n",
        "-array 단위로 데이터를 관리 -> ndarray\n",
        "-일반 list에 비해 처리 속도 빠르고 메모리도 효율적\n",
        "-선형대수와 관련된 다양한 기능 제공\n",
        "-반복문(for,while)없이 데이터 배열에 대한 처리를 지원\n",
        "-C, C++, 포트란으로 작성된 함수를 파이썬으로 연동해 쓸 수 있게 함"
      ]
    },
    {
      "cell_type": "markdown",
      "metadata": {
        "id": "lTwXwMx6hpLh"
      },
      "source": [
        "### pd.Series(data,index=인덱스)\n",
        "\n",
        "#### data \n",
        "* 스칼라(정수,실수), 리스트, 딕셔너리, ndarray"
      ]
    },
    {
      "cell_type": "code",
      "execution_count": null,
      "metadata": {
        "id": "U0qmJls8hpLh"
      },
      "outputs": [],
      "source": [
        "# 넘파이 호출 법 \n",
        "import numpy as np"
      ]
    },
    {
      "cell_type": "markdown",
      "metadata": {
        "id": "46WFEA5FhpLi"
      },
      "source": [
        "**문자열/스칼라**"
      ]
    },
    {
      "cell_type": "code",
      "execution_count": null,
      "metadata": {
        "scrolled": true,
        "id": "gwKixzT2hpLj",
        "outputId": "6aa336e1-dbf2-448e-ef73-8c3b832ba1a9"
      },
      "outputs": [
        {
          "data": {
            "text/plain": [
              "0    banana\n",
              "dtype: object"
            ]
          },
          "execution_count": 35,
          "metadata": {},
          "output_type": "execute_result"
        }
      ],
      "source": [
        "import pandas as pd\n",
        "pd.Series('banana')"
      ]
    },
    {
      "cell_type": "code",
      "execution_count": null,
      "metadata": {
        "id": "sUcQx_cShpLk",
        "outputId": "4277b8f5-2845-4657-8dd0-a67013e2b5c2"
      },
      "outputs": [
        {
          "ename": "TypeError",
          "evalue": "Index(...) must be called with a collection of some kind, 42 was passed",
          "output_type": "error",
          "traceback": [
            "\u001b[1;31m---------------------------------------------------------------------------\u001b[0m",
            "\u001b[1;31mTypeError\u001b[0m                                 Traceback (most recent call last)",
            "\u001b[1;32m<ipython-input-91-adb80e388ed3>\u001b[0m in \u001b[0;36m<module>\u001b[1;34m\u001b[0m\n\u001b[1;32m----> 1\u001b[1;33m \u001b[0mpd\u001b[0m\u001b[1;33m.\u001b[0m\u001b[0mSeries\u001b[0m\u001b[1;33m(\u001b[0m\u001b[1;33m[\u001b[0m\u001b[1;34m'banana'\u001b[0m\u001b[1;33m]\u001b[0m\u001b[1;33m,\u001b[0m \u001b[1;36m42\u001b[0m\u001b[1;33m)\u001b[0m\u001b[1;33m\u001b[0m\u001b[1;33m\u001b[0m\u001b[0m\n\u001b[0m",
            "\u001b[1;32m~\\Anaconda3\\lib\\site-packages\\pandas\\core\\series.py\u001b[0m in \u001b[0;36m__init__\u001b[1;34m(self, data, index, dtype, name, copy, fastpath)\u001b[0m\n\u001b[0;32m    210\u001b[0m \u001b[1;33m\u001b[0m\u001b[0m\n\u001b[0;32m    211\u001b[0m             \u001b[1;32mif\u001b[0m \u001b[0mindex\u001b[0m \u001b[1;32mis\u001b[0m \u001b[1;32mnot\u001b[0m \u001b[1;32mNone\u001b[0m\u001b[1;33m:\u001b[0m\u001b[1;33m\u001b[0m\u001b[1;33m\u001b[0m\u001b[0m\n\u001b[1;32m--> 212\u001b[1;33m                 \u001b[0mindex\u001b[0m \u001b[1;33m=\u001b[0m \u001b[0mensure_index\u001b[0m\u001b[1;33m(\u001b[0m\u001b[0mindex\u001b[0m\u001b[1;33m)\u001b[0m\u001b[1;33m\u001b[0m\u001b[1;33m\u001b[0m\u001b[0m\n\u001b[0m\u001b[0;32m    213\u001b[0m \u001b[1;33m\u001b[0m\u001b[0m\n\u001b[0;32m    214\u001b[0m             \u001b[1;32mif\u001b[0m \u001b[0mdata\u001b[0m \u001b[1;32mis\u001b[0m \u001b[1;32mNone\u001b[0m\u001b[1;33m:\u001b[0m\u001b[1;33m\u001b[0m\u001b[1;33m\u001b[0m\u001b[0m\n",
            "\u001b[1;32m~\\Anaconda3\\lib\\site-packages\\pandas\\core\\indexes\\base.py\u001b[0m in \u001b[0;36mensure_index\u001b[1;34m(index_like, copy)\u001b[0m\n\u001b[0;32m   5769\u001b[0m             \u001b[0mindex_like\u001b[0m \u001b[1;33m=\u001b[0m \u001b[0mcopy\u001b[0m\u001b[1;33m(\u001b[0m\u001b[0mindex_like\u001b[0m\u001b[1;33m)\u001b[0m\u001b[1;33m\u001b[0m\u001b[1;33m\u001b[0m\u001b[0m\n\u001b[0;32m   5770\u001b[0m \u001b[1;33m\u001b[0m\u001b[0m\n\u001b[1;32m-> 5771\u001b[1;33m     \u001b[1;32mreturn\u001b[0m \u001b[0mIndex\u001b[0m\u001b[1;33m(\u001b[0m\u001b[0mindex_like\u001b[0m\u001b[1;33m)\u001b[0m\u001b[1;33m\u001b[0m\u001b[1;33m\u001b[0m\u001b[0m\n\u001b[0m\u001b[0;32m   5772\u001b[0m \u001b[1;33m\u001b[0m\u001b[0m\n\u001b[0;32m   5773\u001b[0m \u001b[1;33m\u001b[0m\u001b[0m\n",
            "\u001b[1;32m~\\Anaconda3\\lib\\site-packages\\pandas\\core\\indexes\\base.py\u001b[0m in \u001b[0;36m__new__\u001b[1;34m(cls, data, dtype, copy, name, fastpath, tupleize_cols, **kwargs)\u001b[0m\n\u001b[0;32m    517\u001b[0m             \u001b[1;32mreturn\u001b[0m \u001b[0mIndex\u001b[0m\u001b[1;33m(\u001b[0m\u001b[0mnp\u001b[0m\u001b[1;33m.\u001b[0m\u001b[0masarray\u001b[0m\u001b[1;33m(\u001b[0m\u001b[0mdata\u001b[0m\u001b[1;33m)\u001b[0m\u001b[1;33m,\u001b[0m \u001b[0mdtype\u001b[0m\u001b[1;33m=\u001b[0m\u001b[0mdtype\u001b[0m\u001b[1;33m,\u001b[0m \u001b[0mcopy\u001b[0m\u001b[1;33m=\u001b[0m\u001b[0mcopy\u001b[0m\u001b[1;33m,\u001b[0m \u001b[0mname\u001b[0m\u001b[1;33m=\u001b[0m\u001b[0mname\u001b[0m\u001b[1;33m,\u001b[0m \u001b[1;33m**\u001b[0m\u001b[0mkwargs\u001b[0m\u001b[1;33m)\u001b[0m\u001b[1;33m\u001b[0m\u001b[1;33m\u001b[0m\u001b[0m\n\u001b[0;32m    518\u001b[0m         \u001b[1;32melif\u001b[0m \u001b[0mdata\u001b[0m \u001b[1;32mis\u001b[0m \u001b[1;32mNone\u001b[0m \u001b[1;32mor\u001b[0m \u001b[0mis_scalar\u001b[0m\u001b[1;33m(\u001b[0m\u001b[0mdata\u001b[0m\u001b[1;33m)\u001b[0m\u001b[1;33m:\u001b[0m\u001b[1;33m\u001b[0m\u001b[1;33m\u001b[0m\u001b[0m\n\u001b[1;32m--> 519\u001b[1;33m             \u001b[0mcls\u001b[0m\u001b[1;33m.\u001b[0m\u001b[0m_scalar_data_error\u001b[0m\u001b[1;33m(\u001b[0m\u001b[0mdata\u001b[0m\u001b[1;33m)\u001b[0m\u001b[1;33m\u001b[0m\u001b[1;33m\u001b[0m\u001b[0m\n\u001b[0m\u001b[0;32m    520\u001b[0m         \u001b[1;32melse\u001b[0m\u001b[1;33m:\u001b[0m\u001b[1;33m\u001b[0m\u001b[1;33m\u001b[0m\u001b[0m\n\u001b[0;32m    521\u001b[0m             \u001b[1;32mif\u001b[0m \u001b[0mtupleize_cols\u001b[0m \u001b[1;32mand\u001b[0m \u001b[0mis_list_like\u001b[0m\u001b[1;33m(\u001b[0m\u001b[0mdata\u001b[0m\u001b[1;33m)\u001b[0m\u001b[1;33m:\u001b[0m\u001b[1;33m\u001b[0m\u001b[1;33m\u001b[0m\u001b[0m\n",
            "\u001b[1;32m~\\Anaconda3\\lib\\site-packages\\pandas\\core\\indexes\\base.py\u001b[0m in \u001b[0;36m_scalar_data_error\u001b[1;34m(cls, data)\u001b[0m\n\u001b[0;32m   4106\u001b[0m         raise TypeError(\n\u001b[0;32m   4107\u001b[0m             \u001b[1;34m\"{0}(...) must be called with a collection of some \"\u001b[0m\u001b[1;33m\u001b[0m\u001b[1;33m\u001b[0m\u001b[0m\n\u001b[1;32m-> 4108\u001b[1;33m             \u001b[1;34m\"kind, {1} was passed\"\u001b[0m\u001b[1;33m.\u001b[0m\u001b[0mformat\u001b[0m\u001b[1;33m(\u001b[0m\u001b[0mcls\u001b[0m\u001b[1;33m.\u001b[0m\u001b[0m__name__\u001b[0m\u001b[1;33m,\u001b[0m \u001b[0mrepr\u001b[0m\u001b[1;33m(\u001b[0m\u001b[0mdata\u001b[0m\u001b[1;33m)\u001b[0m\u001b[1;33m)\u001b[0m\u001b[1;33m\u001b[0m\u001b[1;33m\u001b[0m\u001b[0m\n\u001b[0m\u001b[0;32m   4109\u001b[0m         )\n\u001b[0;32m   4110\u001b[0m \u001b[1;33m\u001b[0m\u001b[0m\n",
            "\u001b[1;31mTypeError\u001b[0m: Index(...) must be called with a collection of some kind, 42 was passed"
          ]
        }
      ],
      "source": [
        "pd.Series(['banana'], 42)"
      ]
    },
    {
      "cell_type": "code",
      "execution_count": null,
      "metadata": {
        "id": "RJUAJOdZhpLk",
        "outputId": "f8164929-97c5-4914-8601-0d5ffe95f6ce"
      },
      "outputs": [
        {
          "data": {
            "text/plain": [
              "0    41\n",
              "dtype: int64"
            ]
          },
          "execution_count": 36,
          "metadata": {},
          "output_type": "execute_result"
        }
      ],
      "source": [
        "pd.Series(41)"
      ]
    },
    {
      "cell_type": "code",
      "execution_count": null,
      "metadata": {
        "id": "8kbQnanEhpLl",
        "outputId": "7d879950-f950-4801-a01f-22ce32dad7c9"
      },
      "outputs": [
        {
          "data": {
            "text/plain": [
              "42    banana\n",
              "dtype: object"
            ]
          },
          "execution_count": 90,
          "metadata": {},
          "output_type": "execute_result"
        }
      ],
      "source": [
        "pd.Series(['banana'], index=[42])"
      ]
    },
    {
      "cell_type": "markdown",
      "metadata": {
        "id": "qKqOGaFkhpLm"
      },
      "source": [
        "**리스트**\n",
        "\n",
        "* [] 대괄호 형태"
      ]
    },
    {
      "cell_type": "code",
      "execution_count": null,
      "metadata": {
        "id": "AztelV1vhpLm",
        "outputId": "622911fc-7af3-49aa-b95a-3b90c4d0468e"
      },
      "outputs": [
        {
          "data": {
            "text/plain": [
              "[1, 2, 3, 4, 5]"
            ]
          },
          "execution_count": 38,
          "metadata": {},
          "output_type": "execute_result"
        }
      ],
      "source": [
        "list_data=[1,2,3,4,5]\n",
        "list_data "
      ]
    },
    {
      "cell_type": "code",
      "execution_count": null,
      "metadata": {
        "id": "05RWbyz5hpLm",
        "outputId": "03ba560a-d657-47b9-bf34-b8af40152ad8"
      },
      "outputs": [
        {
          "data": {
            "text/plain": [
              "0    1\n",
              "1    2\n",
              "2    3\n",
              "3    4\n",
              "4    5\n",
              "dtype: int64"
            ]
          },
          "execution_count": 39,
          "metadata": {},
          "output_type": "execute_result"
        }
      ],
      "source": [
        "ex1=pd.Series(data=list_data)\n",
        "ex1"
      ]
    },
    {
      "cell_type": "code",
      "execution_count": null,
      "metadata": {
        "id": "Np2m-r31hpLn",
        "outputId": "963433af-f534-4d1a-c07d-90a3c880d041"
      },
      "outputs": [
        {
          "data": {
            "text/plain": [
              "pandas.core.series.Series"
            ]
          },
          "execution_count": 40,
          "metadata": {},
          "output_type": "execute_result"
        }
      ],
      "source": [
        "#변수 유형 정보\n",
        "type(ex1) #결과: pandas.core.series.Series -> 시리즈"
      ]
    },
    {
      "cell_type": "code",
      "execution_count": null,
      "metadata": {
        "id": "oOyejJFShpLn",
        "outputId": "e65a6baf-113c-458a-f3b3-83a6a3686352"
      },
      "outputs": [
        {
          "data": {
            "text/plain": [
              "dtype('int64')"
            ]
          },
          "execution_count": 41,
          "metadata": {},
          "output_type": "execute_result"
        }
      ],
      "source": [
        "#타입 정보 - ex1에 들어가 있는 값들의 타입\n",
        "ex1.dtype "
      ]
    },
    {
      "cell_type": "code",
      "execution_count": null,
      "metadata": {
        "id": "ubL446PWhpLn",
        "outputId": "b3621e13-8597-4621-a71d-b1eefee5fbe8"
      },
      "outputs": [
        {
          "data": {
            "text/plain": [
              "(5,)"
            ]
          },
          "execution_count": 42,
          "metadata": {},
          "output_type": "execute_result"
        }
      ],
      "source": [
        "#몇행 몇열로 이루어져 있는지 -> shape\n",
        "ex1.shape"
      ]
    },
    {
      "cell_type": "code",
      "execution_count": null,
      "metadata": {
        "id": "7yCjFmwHhpLo",
        "outputId": "ad837bb2-99da-4ee0-9b6b-aee366221beb"
      },
      "outputs": [
        {
          "data": {
            "text/plain": [
              "5"
            ]
          },
          "execution_count": 43,
          "metadata": {},
          "output_type": "execute_result"
        }
      ],
      "source": [
        "#원소의 개수 ->siza (shape 이 먹히지 않을 때)\n",
        "ex1.size"
      ]
    },
    {
      "cell_type": "code",
      "execution_count": null,
      "metadata": {
        "id": "wRqmIhlahpLo",
        "outputId": "c6df12f5-98c0-480a-db46-c3c82a70d79f"
      },
      "outputs": [
        {
          "data": {
            "text/plain": [
              "array([1, 2, 3, 4, 5], dtype=int64)"
            ]
          },
          "execution_count": 44,
          "metadata": {},
          "output_type": "execute_result"
        }
      ],
      "source": [
        "#데이터 값만 -> values (dtype 도 같이 나옴)\n",
        "ex1.values"
      ]
    },
    {
      "cell_type": "code",
      "execution_count": null,
      "metadata": {
        "id": "xietdFKEhpLq",
        "outputId": "48dab82f-9905-4890-f156-1280da52d749"
      },
      "outputs": [
        {
          "data": {
            "text/plain": [
              "numpy.ndarray"
            ]
          },
          "execution_count": 45,
          "metadata": {},
          "output_type": "execute_result"
        }
      ],
      "source": [
        "#index를 제외한 값들의 타입만\n",
        "type(ex1.values)"
      ]
    },
    {
      "cell_type": "code",
      "execution_count": null,
      "metadata": {
        "id": "GXEKH-iXhpLq",
        "outputId": "e7dfbb7f-f76d-4103-de17-031f2aaac573"
      },
      "outputs": [
        {
          "data": {
            "text/plain": [
              "RangeIndex(start=0, stop=5, step=1)"
            ]
          },
          "execution_count": 46,
          "metadata": {},
          "output_type": "execute_result"
        }
      ],
      "source": [
        "#index만 따로\n",
        "ex1.index"
      ]
    },
    {
      "cell_type": "code",
      "execution_count": null,
      "metadata": {
        "id": "il6tVCdahpLq",
        "outputId": "4c8f23c0-1333-483e-a05b-987ca840b634"
      },
      "outputs": [
        {
          "data": {
            "text/plain": [
              "RangeIndex(start=0, stop=5, step=1)"
            ]
          },
          "execution_count": 47,
          "metadata": {},
          "output_type": "execute_result"
        }
      ],
      "source": [
        "#key(딕셔너리 구조에서의 index역할)만 따로\n",
        "ex1.keys()"
      ]
    },
    {
      "cell_type": "code",
      "execution_count": null,
      "metadata": {
        "id": "_5oE9XXrhpLr",
        "outputId": "d5bc2955-603f-4e28-d464-4e3fb8d0ee9e"
      },
      "outputs": [
        {
          "data": {
            "text/plain": [
              "pandas.core.indexes.range.RangeIndex"
            ]
          },
          "execution_count": 48,
          "metadata": {},
          "output_type": "execute_result"
        }
      ],
      "source": [
        "#index의 타입\n",
        "type(ex1.index)"
      ]
    },
    {
      "cell_type": "code",
      "execution_count": null,
      "metadata": {
        "id": "oZQ1xfY1hpLr",
        "outputId": "0857c215-d443-4a84-c5e0-077de80d2d5d"
      },
      "outputs": [
        {
          "ename": "AttributeError",
          "evalue": "'Series' object has no attribute 'info'",
          "output_type": "error",
          "traceback": [
            "\u001b[1;31m---------------------------------------------------------------------------\u001b[0m",
            "\u001b[1;31mAttributeError\u001b[0m                            Traceback (most recent call last)",
            "\u001b[1;32m<ipython-input-49-f887e7bf8159>\u001b[0m in \u001b[0;36m<module>\u001b[1;34m\u001b[0m\n\u001b[0;32m      1\u001b[0m \u001b[1;31m#시리즈에서는 info 사용불가 -> 데이터 프레임에서만\u001b[0m\u001b[1;33m\u001b[0m\u001b[1;33m\u001b[0m\u001b[1;33m\u001b[0m\u001b[0m\n\u001b[1;32m----> 2\u001b[1;33m \u001b[0mex1\u001b[0m\u001b[1;33m.\u001b[0m\u001b[0minfo\u001b[0m\u001b[1;33m(\u001b[0m\u001b[1;33m)\u001b[0m\u001b[1;33m\u001b[0m\u001b[1;33m\u001b[0m\u001b[0m\n\u001b[0m",
            "\u001b[1;32m~\\Anaconda3\\lib\\site-packages\\pandas\\core\\generic.py\u001b[0m in \u001b[0;36m__getattr__\u001b[1;34m(self, name)\u001b[0m\n\u001b[0;32m   5177\u001b[0m             \u001b[1;32mif\u001b[0m \u001b[0mself\u001b[0m\u001b[1;33m.\u001b[0m\u001b[0m_info_axis\u001b[0m\u001b[1;33m.\u001b[0m\u001b[0m_can_hold_identifiers_and_holds_name\u001b[0m\u001b[1;33m(\u001b[0m\u001b[0mname\u001b[0m\u001b[1;33m)\u001b[0m\u001b[1;33m:\u001b[0m\u001b[1;33m\u001b[0m\u001b[1;33m\u001b[0m\u001b[0m\n\u001b[0;32m   5178\u001b[0m                 \u001b[1;32mreturn\u001b[0m \u001b[0mself\u001b[0m\u001b[1;33m[\u001b[0m\u001b[0mname\u001b[0m\u001b[1;33m]\u001b[0m\u001b[1;33m\u001b[0m\u001b[1;33m\u001b[0m\u001b[0m\n\u001b[1;32m-> 5179\u001b[1;33m             \u001b[1;32mreturn\u001b[0m \u001b[0mobject\u001b[0m\u001b[1;33m.\u001b[0m\u001b[0m__getattribute__\u001b[0m\u001b[1;33m(\u001b[0m\u001b[0mself\u001b[0m\u001b[1;33m,\u001b[0m \u001b[0mname\u001b[0m\u001b[1;33m)\u001b[0m\u001b[1;33m\u001b[0m\u001b[1;33m\u001b[0m\u001b[0m\n\u001b[0m\u001b[0;32m   5180\u001b[0m \u001b[1;33m\u001b[0m\u001b[0m\n\u001b[0;32m   5181\u001b[0m     \u001b[1;32mdef\u001b[0m \u001b[0m__setattr__\u001b[0m\u001b[1;33m(\u001b[0m\u001b[0mself\u001b[0m\u001b[1;33m,\u001b[0m \u001b[0mname\u001b[0m\u001b[1;33m,\u001b[0m \u001b[0mvalue\u001b[0m\u001b[1;33m)\u001b[0m\u001b[1;33m:\u001b[0m\u001b[1;33m\u001b[0m\u001b[1;33m\u001b[0m\u001b[0m\n",
            "\u001b[1;31mAttributeError\u001b[0m: 'Series' object has no attribute 'info'"
          ]
        }
      ],
      "source": [
        "#시리즈에서는 info 사용불가 -> 데이터 프레임에서만\n",
        "ex1.info() "
      ]
    },
    {
      "cell_type": "markdown",
      "metadata": {
        "id": "_U8kO-KnhpLs"
      },
      "source": [
        "**Quiz**: 3번째 인덱스가 궁금하다면?"
      ]
    },
    {
      "cell_type": "code",
      "execution_count": null,
      "metadata": {
        "id": "4Eo_5qtNhpLs"
      },
      "outputs": [],
      "source": [
        "#답 1:\n",
        "ex1.index[2]"
      ]
    },
    {
      "cell_type": "code",
      "execution_count": null,
      "metadata": {
        "id": "1zyFYXzthpLs"
      },
      "outputs": [],
      "source": [
        "#답 2:\n",
        "ex1.keys()[2]"
      ]
    },
    {
      "cell_type": "markdown",
      "metadata": {
        "id": "7q3PIEkChpLs"
      },
      "source": [
        "**Quiz**: 3번째 데이터가 궁금하다면?"
      ]
    },
    {
      "cell_type": "code",
      "execution_count": null,
      "metadata": {
        "id": "fc5t6UeXhpLt"
      },
      "outputs": [],
      "source": [
        "#답 1:\n",
        "ex1[2]"
      ]
    },
    {
      "cell_type": "code",
      "execution_count": null,
      "metadata": {
        "id": "BBHQEziEhpLt"
      },
      "outputs": [],
      "source": [
        "#답 2:\n",
        "ex1.iloc[2]"
      ]
    },
    {
      "cell_type": "code",
      "execution_count": null,
      "metadata": {
        "id": "5KJMD8a1hpLt"
      },
      "outputs": [],
      "source": [
        "#답 3:\n",
        "ex1.values[2]"
      ]
    },
    {
      "cell_type": "markdown",
      "metadata": {
        "id": "LYH8cJ5hhpLt"
      },
      "source": [
        "**Quiz**: 인덱스 2에 해당하는 데이터가 궁금하다면?"
      ]
    },
    {
      "cell_type": "code",
      "execution_count": null,
      "metadata": {
        "id": "9vkTjobrhpLt"
      },
      "outputs": [],
      "source": [
        "#답 1:\n",
        "ex1.loc[2]"
      ]
    },
    {
      "cell_type": "code",
      "execution_count": null,
      "metadata": {
        "id": "In80h3YQhpLt"
      },
      "outputs": [],
      "source": [
        "# ex1=Series(data=list_data) 가능?\n",
        "\n",
        "# from pandas import Series, DataFrame -> 판다스의 시리즈와 데이터프레임만 부름"
      ]
    },
    {
      "cell_type": "markdown",
      "metadata": {
        "id": "WhpfOuSMhpLt"
      },
      "source": [
        "#### ndarray 로 Series 만들기\n"
      ]
    },
    {
      "cell_type": "code",
      "execution_count": null,
      "metadata": {
        "id": "dm8eUO8ohpLt"
      },
      "outputs": [],
      "source": [
        "np.array([4,3,5,8]) #import numpy 셀을 잊지말고 실행 후 하기!"
      ]
    },
    {
      "cell_type": "code",
      "execution_count": null,
      "metadata": {
        "id": "DbolJYfChpLt"
      },
      "outputs": [],
      "source": [
        "pd.Series(data=np.array([4,3,5,8]))"
      ]
    },
    {
      "cell_type": "code",
      "execution_count": null,
      "metadata": {
        "id": "hTqg4noYhpLu"
      },
      "outputs": [],
      "source": [
        "x= pd.Series(np.arange(10,60,10), index=['a','b','c','d','e'])\n",
        "x"
      ]
    },
    {
      "cell_type": "code",
      "execution_count": null,
      "metadata": {
        "id": "9UuG06kJhpLu"
      },
      "outputs": [],
      "source": [
        "x.values[2]"
      ]
    },
    {
      "cell_type": "code",
      "execution_count": null,
      "metadata": {
        "id": "xR-N2UKlhpLu"
      },
      "outputs": [],
      "source": [
        "#a부터 c까지의 값만\n",
        "x.values[0:3]"
      ]
    },
    {
      "cell_type": "code",
      "execution_count": null,
      "metadata": {
        "id": "GzXVHVxQhpLu"
      },
      "outputs": [],
      "source": [
        "#a부터 c까지불러오기 방법1\n",
        "x.loc['a':'c']"
      ]
    },
    {
      "cell_type": "code",
      "execution_count": null,
      "metadata": {
        "id": "6WSXMeV8hpLu"
      },
      "outputs": [],
      "source": [
        "#a부터 c까지불러오기 방법2\n",
        "#처음부터 c인덱스까지\n",
        "x.loc[:'c']"
      ]
    },
    {
      "cell_type": "code",
      "execution_count": null,
      "metadata": {
        "scrolled": true,
        "id": "N243sOqxhpLu"
      },
      "outputs": [],
      "source": [
        "#a부터 c까지불러오기 방법3\n",
        "#처음부터 3번째 까지 (3의 직전이니까 0,1,2에 해당되는 순번이 불러와짐)\n",
        "x.iloc[:3]"
      ]
    },
    {
      "cell_type": "code",
      "execution_count": null,
      "metadata": {
        "id": "m0jZfZ4AhpLu"
      },
      "outputs": [],
      "source": [
        "#a부터 c까지불러오기 방법4\n",
        "x[0:3]"
      ]
    },
    {
      "cell_type": "code",
      "execution_count": null,
      "metadata": {
        "id": "6z-AxyIdhpLv"
      },
      "outputs": [],
      "source": [
        "##a부터 c까지불러오기 방법 에러\n",
        "x.loc[0:'c'] # 순번과 인덱스를 섞어서 x"
      ]
    },
    {
      "cell_type": "markdown",
      "metadata": {
        "id": "LPpYTE8MhpLv"
      },
      "source": [
        "**딕셔너리**\n",
        "\n",
        "* {} 중괄호 형태"
      ]
    },
    {
      "cell_type": "code",
      "execution_count": null,
      "metadata": {
        "id": "HrcwqrithpLv"
      },
      "outputs": [],
      "source": [
        "b={'a':4, 'b':2, 'c':3}"
      ]
    },
    {
      "cell_type": "code",
      "execution_count": null,
      "metadata": {
        "id": "W32Ka-mUhpLv",
        "outputId": "da059659-9fe3-403d-b621-ed6c58915d51"
      },
      "outputs": [
        {
          "data": {
            "text/plain": [
              "a    4\n",
              "b    2\n",
              "c    3\n",
              "dtype: int64"
            ]
          },
          "execution_count": 51,
          "metadata": {},
          "output_type": "execute_result"
        }
      ],
      "source": [
        "pd.Series(data=b) #이미 딕셔너리 구조(ket가 index역할)이기 때문에 index= <-이것을 넣지 않는다. "
      ]
    },
    {
      "cell_type": "code",
      "execution_count": null,
      "metadata": {
        "id": "nPlWDJ_yhpLv",
        "outputId": "9994c663-f52a-4e57-e6ab-ba087e708628"
      },
      "outputs": [
        {
          "data": {
            "text/plain": [
              "b    2\n",
              "c    3\n",
              "a    4\n",
              "dtype: int64"
            ]
          },
          "execution_count": 52,
          "metadata": {},
          "output_type": "execute_result"
        }
      ],
      "source": [
        "pd.Series(data=b, index=['b','c', 'a']) #인덱스를 별도로 주면 바뀌게 됨"
      ]
    },
    {
      "cell_type": "markdown",
      "metadata": {
        "id": "hubDVjzAhpLw"
      },
      "source": [
        "**딕셔너리 Quiz**"
      ]
    },
    {
      "cell_type": "code",
      "execution_count": null,
      "metadata": {
        "id": "uOycZyQShpLw",
        "outputId": "9d877f1a-e762-443f-b6b9-d2c7cf3f37ee"
      },
      "outputs": [
        {
          "data": {
            "text/plain": [
              "b    2\n",
              "c    3\n",
              "a    4\n",
              "dtype: int64"
            ]
          },
          "execution_count": 53,
          "metadata": {},
          "output_type": "execute_result"
        }
      ],
      "source": [
        "b={'a':4, 'b':2, 'c':3}\n",
        "y=pd.Series(data=b, index=['b','c', 'a'])\n",
        "y\n",
        "\n",
        "#변수 b의 형태 : type(b) : 딕셔너리\n",
        "#변수 y의 형태: type(y) : 시리즈\n",
        "#변수 y가 가진 인덱스는? : y.index : Index(['b', 'c', 'a'], dtype='object')\n",
        "#변수y의 인덱스 형태 : type(y.index) : pandas.core.indexes.base.Index\n",
        "#변수y의 원소 수 : y.size : 3\n",
        "#변수y의 데이터 타입: y.dtypes : dtype('int64')\n",
        "#변수y의 3번째 인덱스: y.index[2] : 'a'\n",
        "#변수y의 2번째 인덱스: y.keys()[1] : 'c'\n",
        "#변수y가 가진 데이터 조회: y.values : array([2, 3, 4], dtype=int64)\n",
        "#변수y가 가진 데이터 덩어리 형태: type(y.values) : numpy.ndarray\n",
        "#변수y의 데이터 덩어리 2번째 값 :y.values[1] : 3\n",
        "#변수y의 데이터 덩어리 2번째 값 :y[1] : 3\n",
        "#변수y의 첫번째 값: y[0] : 2\n",
        "#변수y의 'b'인덱스가 가진 값: y.iloc[0]: 2\n",
        "#변수y의 'b'인덱스가 가진 값: y['b']: 2\n",
        "#변수y의 'b'인덱스가 가진 값: y.loc['b']: 2\n",
        "\n",
        "#y.iloc['b'] => error\n"
      ]
    },
    {
      "cell_type": "markdown",
      "metadata": {
        "id": "nqH9gIj7hpLw"
      },
      "source": [
        "# 4주차-2 : 시리즈 옵션 마무리, 데이터프레임만들기(리스트,딕셔너리로)\n",
        "\n",
        "-인덱스 따로 이름 주는 것은 가능\n",
        "\n",
        "-시리즈에 values나 columns 이름 따로는 불가능"
      ]
    },
    {
      "cell_type": "code",
      "execution_count": null,
      "metadata": {
        "id": "14tGUjjzhpLx"
      },
      "outputs": [],
      "source": [
        "b={'a':4, 'b':2, 'c':3}"
      ]
    },
    {
      "cell_type": "code",
      "execution_count": null,
      "metadata": {
        "scrolled": true,
        "id": "MMm1vApShpLx",
        "outputId": "571a3364-4620-41c3-bd2c-58b40cc29ab9"
      },
      "outputs": [
        {
          "data": {
            "text/plain": [
              "a    4\n",
              "b    2\n",
              "c    3\n",
              "dtype: int64"
            ]
          },
          "execution_count": 86,
          "metadata": {},
          "output_type": "execute_result"
        }
      ],
      "source": [
        "pd.Series(b)"
      ]
    },
    {
      "cell_type": "code",
      "execution_count": null,
      "metadata": {
        "id": "nALFqlmMhpLz",
        "outputId": "7fe740f4-80e0-4a5d-b25d-a82117a6f389"
      },
      "outputs": [
        {
          "data": {
            "text/plain": [
              "b    2\n",
              "c    3\n",
              "a    4\n",
              "dtype: int64"
            ]
          },
          "execution_count": 89,
          "metadata": {},
          "output_type": "execute_result"
        }
      ],
      "source": [
        "pd.Series(data=b, index=['b','c','a'])"
      ]
    },
    {
      "cell_type": "code",
      "execution_count": null,
      "metadata": {
        "id": "kPNhl0dqhpLz",
        "outputId": "ec282fd0-fc85-4b7f-9725-ea39f6d80ffe"
      },
      "outputs": [
        {
          "data": {
            "text/plain": [
              "b    2.0\n",
              "c    3.0\n",
              "a    4.0\n",
              "e    NaN\n",
              "dtype: float64"
            ]
          },
          "execution_count": 56,
          "metadata": {},
          "output_type": "execute_result"
        }
      ],
      "source": [
        "pd.Series(data=b, index=['b','c', 'a','e'], dtype = float) #dtype이 int가 아니고 float가 나오게 된다."
      ]
    },
    {
      "cell_type": "markdown",
      "metadata": {
        "id": "QW-5RL9rhpLz"
      },
      "source": [
        "NaN : Not a Number -> Missing Data를 의미한다. "
      ]
    },
    {
      "cell_type": "code",
      "execution_count": null,
      "metadata": {
        "id": "BZO3ZelfhpLz",
        "outputId": "a764dd44-9ea3-4731-fcfb-3529ed0d6317"
      },
      "outputs": [
        {
          "data": {
            "text/plain": [
              "b    2.0\n",
              "c    3.0\n",
              "a    4.0\n",
              "e    NaN\n",
              "dtype: float64"
            ]
          },
          "execution_count": 57,
          "metadata": {},
          "output_type": "execute_result"
        }
      ],
      "source": [
        "pd.Series(data=b, index=['b','c', 'a','e'], dtype = int) #정수로 바꾸는 것은 안됨_dtype이 float가 나온다 "
      ]
    },
    {
      "cell_type": "code",
      "execution_count": null,
      "metadata": {
        "id": "lWaq6c7lhpL0",
        "outputId": "ae798959-eb83-4fc5-cb75-17dc8bd7cd61"
      },
      "outputs": [
        {
          "data": {
            "text/plain": [
              "b      2\n",
              "c      3\n",
              "a      4\n",
              "e    NaN\n",
              "dtype: object"
            ]
          },
          "execution_count": 84,
          "metadata": {},
          "output_type": "execute_result"
        }
      ],
      "source": [
        "pd.Series(data=b, index=['b','c', 'a','e'], dtype = str)"
      ]
    },
    {
      "cell_type": "code",
      "execution_count": null,
      "metadata": {
        "id": "kpwgVgjHhpL0",
        "outputId": "686f6a8b-f277-40c4-b4ff-a894fc4f4aa2"
      },
      "outputs": [
        {
          "data": {
            "text/plain": [
              "a      4\n",
              "b      2\n",
              "c      3\n",
              "e    NaN\n",
              "dtype: object"
            ]
          },
          "execution_count": 85,
          "metadata": {},
          "output_type": "execute_result"
        }
      ],
      "source": [
        "pd.Series(data=b, index=['a','b', 'c','e'], dtype = str)"
      ]
    },
    {
      "cell_type": "code",
      "execution_count": null,
      "metadata": {
        "id": "4pu2YOcohpL0"
      },
      "outputs": [],
      "source": [
        "y=pd.Series(data=b, index=['b','c', 'a','e'],name = \"OMG\")"
      ]
    },
    {
      "cell_type": "code",
      "execution_count": null,
      "metadata": {
        "id": "kDNCuSN9hpL0",
        "outputId": "0240879c-e50a-4db7-c0b8-d7b568773161"
      },
      "outputs": [
        {
          "ename": "SyntaxError",
          "evalue": "keyword can't be an expression (<ipython-input-60-f92f639c0a01>, line 1)",
          "output_type": "error",
          "traceback": [
            "\u001b[1;36m  File \u001b[1;32m\"<ipython-input-60-f92f639c0a01>\"\u001b[1;36m, line \u001b[1;32m1\u001b[0m\n\u001b[1;33m    pd.Series(data=b, index=['b','c', 'a','e'], index.name=\"OK\") # 이건 error남\u001b[0m\n\u001b[1;37m                                               ^\u001b[0m\n\u001b[1;31mSyntaxError\u001b[0m\u001b[1;31m:\u001b[0m keyword can't be an expression\n"
          ]
        }
      ],
      "source": [
        "pd.Series(data=b, index=['b','c', 'a','e'], index.name=\"OK\") # 이건 error남"
      ]
    },
    {
      "cell_type": "code",
      "execution_count": null,
      "metadata": {
        "id": "eDVKb562hpL0",
        "outputId": "962a8e02-2d53-4a1f-f3ed-55da7639021d"
      },
      "outputs": [
        {
          "data": {
            "text/plain": [
              "OK\n",
              "b    2.0\n",
              "c    3.0\n",
              "a    4.0\n",
              "e    NaN\n",
              "Name: OMG, dtype: float64"
            ]
          },
          "execution_count": 61,
          "metadata": {},
          "output_type": "execute_result"
        }
      ],
      "source": [
        "y.index.name=\"OK\"\n",
        "y\n",
        "\n",
        "#인덱스 따로 이름 주는 것은 가능 \n",
        "#시리즈에 values나 columns 이름 따로는 불가능"
      ]
    },
    {
      "cell_type": "code",
      "execution_count": null,
      "metadata": {
        "id": "Ej-V47_VhpL1",
        "outputId": "1ff031d6-ffe7-46f9-b90b-d5409cdfefe0"
      },
      "outputs": [
        {
          "ename": "AttributeError",
          "evalue": "'numpy.ndarray' object has no attribute 'name'",
          "output_type": "error",
          "traceback": [
            "\u001b[1;31m---------------------------------------------------------------------------\u001b[0m",
            "\u001b[1;31mAttributeError\u001b[0m                            Traceback (most recent call last)",
            "\u001b[1;32m<ipython-input-62-ed3daac4f9b4>\u001b[0m in \u001b[0;36m<module>\u001b[1;34m\u001b[0m\n\u001b[1;32m----> 1\u001b[1;33m \u001b[0my\u001b[0m\u001b[1;33m.\u001b[0m\u001b[0mvalues\u001b[0m\u001b[1;33m.\u001b[0m\u001b[0mname\u001b[0m\u001b[1;33m=\u001b[0m\u001b[1;34m\"NotOK\"\u001b[0m\u001b[1;33m\u001b[0m\u001b[1;33m\u001b[0m\u001b[0m\n\u001b[0m",
            "\u001b[1;31mAttributeError\u001b[0m: 'numpy.ndarray' object has no attribute 'name'"
          ]
        }
      ],
      "source": [
        "y.values.name=\"NotOK\" "
      ]
    },
    {
      "cell_type": "markdown",
      "metadata": {
        "id": "5XKgFWq2hpL1"
      },
      "source": [
        "### DataFrame 만들기\n",
        "\n",
        "변수이름 = pd.DataFrame(데이터,index=인덱스,columns=칼럼)\n",
        "\n",
        "* 데이터 -> 시리즈, 2차원 ndarray, 또 다른 데이터프레임\n",
        "* index : 행(x-axis)에 대해 사용할 인덱스 지정\n",
        "* columns : 열(y-axis)에 대해 사용할 인덱스 지정\n",
        "\n",
        "* axis : 축을 의미 (데이터프레임 옵션에 등장할 예정)"
      ]
    },
    {
      "cell_type": "markdown",
      "metadata": {
        "id": "yNAsWJsqhpL1"
      },
      "source": [
        "**list를 이용한 DataFrame 만들기**"
      ]
    },
    {
      "cell_type": "code",
      "execution_count": null,
      "metadata": {
        "id": "9udJI2LYhpL1"
      },
      "outputs": [],
      "source": [
        "#리스트 준비\n",
        "\n",
        "h=[1.0,2.0,3.0,4.0]\n",
        "i=[4.0,3.0,2.0,1.0]\n",
        "j=[5.0,6.0,7.0,8.0]\n",
        "k=[8.0,7.0,6.0,5.0]"
      ]
    },
    {
      "cell_type": "code",
      "execution_count": null,
      "metadata": {
        "id": "W-ULs1iOhpL1"
      },
      "outputs": [],
      "source": [
        ""
      ]
    },
    {
      "cell_type": "code",
      "execution_count": null,
      "metadata": {
        "id": "h8EmgORchpL1",
        "outputId": "f1b002d1-677c-4edc-d1ff-ef5d8129fc00"
      },
      "outputs": [
        {
          "data": {
            "text/html": [
              "<div>\n",
              "<style scoped>\n",
              "    .dataframe tbody tr th:only-of-type {\n",
              "        vertical-align: middle;\n",
              "    }\n",
              "\n",
              "    .dataframe tbody tr th {\n",
              "        vertical-align: top;\n",
              "    }\n",
              "\n",
              "    .dataframe thead th {\n",
              "        text-align: right;\n",
              "    }\n",
              "</style>\n",
              "<table border=\"1\" class=\"dataframe\">\n",
              "  <thead>\n",
              "    <tr style=\"text-align: right;\">\n",
              "      <th></th>\n",
              "      <th>0</th>\n",
              "      <th>1</th>\n",
              "      <th>2</th>\n",
              "      <th>3</th>\n",
              "    </tr>\n",
              "  </thead>\n",
              "  <tbody>\n",
              "    <tr>\n",
              "      <td>0</td>\n",
              "      <td>1.0</td>\n",
              "      <td>2.0</td>\n",
              "      <td>3.0</td>\n",
              "      <td>4.0</td>\n",
              "    </tr>\n",
              "    <tr>\n",
              "      <td>1</td>\n",
              "      <td>4.0</td>\n",
              "      <td>3.0</td>\n",
              "      <td>2.0</td>\n",
              "      <td>1.0</td>\n",
              "    </tr>\n",
              "    <tr>\n",
              "      <td>2</td>\n",
              "      <td>5.0</td>\n",
              "      <td>6.0</td>\n",
              "      <td>7.0</td>\n",
              "      <td>8.0</td>\n",
              "    </tr>\n",
              "    <tr>\n",
              "      <td>3</td>\n",
              "      <td>8.0</td>\n",
              "      <td>7.0</td>\n",
              "      <td>6.0</td>\n",
              "      <td>5.0</td>\n",
              "    </tr>\n",
              "  </tbody>\n",
              "</table>\n",
              "</div>"
            ],
            "text/plain": [
              "     0    1    2    3\n",
              "0  1.0  2.0  3.0  4.0\n",
              "1  4.0  3.0  2.0  1.0\n",
              "2  5.0  6.0  7.0  8.0\n",
              "3  8.0  7.0  6.0  5.0"
            ]
          },
          "execution_count": 68,
          "metadata": {},
          "output_type": "execute_result"
        }
      ],
      "source": [
        "pd.DataFrame(data=[h,i,j,k]) #h,i,j,k를 한 덩어리로 만들고 싶다. -> []로 감싸주기\n",
        "\n",
        "#pd.DataFrame([h,i,j,k]) 도 만들기 가능 \n",
        "#순서를 모르는 경우 헷갈리기 때문에, 옵션이름을 적어주는 것이 좋다."
      ]
    },
    {
      "cell_type": "code",
      "execution_count": null,
      "metadata": {
        "id": "XhLzC50PhpL1",
        "outputId": "85df391c-1c33-4a37-92a1-821411b6e3b2"
      },
      "outputs": [
        {
          "data": {
            "text/html": [
              "<div>\n",
              "<style scoped>\n",
              "    .dataframe tbody tr th:only-of-type {\n",
              "        vertical-align: middle;\n",
              "    }\n",
              "\n",
              "    .dataframe tbody tr th {\n",
              "        vertical-align: top;\n",
              "    }\n",
              "\n",
              "    .dataframe thead th {\n",
              "        text-align: right;\n",
              "    }\n",
              "</style>\n",
              "<table border=\"1\" class=\"dataframe\">\n",
              "  <thead>\n",
              "    <tr style=\"text-align: right;\">\n",
              "      <th></th>\n",
              "      <th>one</th>\n",
              "      <th>two</th>\n",
              "      <th>three</th>\n",
              "      <th>four</th>\n",
              "    </tr>\n",
              "  </thead>\n",
              "  <tbody>\n",
              "    <tr>\n",
              "      <td>1st</td>\n",
              "      <td>1.0</td>\n",
              "      <td>2.0</td>\n",
              "      <td>3.0</td>\n",
              "      <td>4.0</td>\n",
              "    </tr>\n",
              "    <tr>\n",
              "      <td>2nd</td>\n",
              "      <td>4.0</td>\n",
              "      <td>3.0</td>\n",
              "      <td>2.0</td>\n",
              "      <td>1.0</td>\n",
              "    </tr>\n",
              "    <tr>\n",
              "      <td>3rd</td>\n",
              "      <td>5.0</td>\n",
              "      <td>6.0</td>\n",
              "      <td>7.0</td>\n",
              "      <td>8.0</td>\n",
              "    </tr>\n",
              "    <tr>\n",
              "      <td>4th</td>\n",
              "      <td>8.0</td>\n",
              "      <td>7.0</td>\n",
              "      <td>6.0</td>\n",
              "      <td>5.0</td>\n",
              "    </tr>\n",
              "  </tbody>\n",
              "</table>\n",
              "</div>"
            ],
            "text/plain": [
              "     one  two  three  four\n",
              "1st  1.0  2.0    3.0   4.0\n",
              "2nd  4.0  3.0    2.0   1.0\n",
              "3rd  5.0  6.0    7.0   8.0\n",
              "4th  8.0  7.0    6.0   5.0"
            ]
          },
          "execution_count": 69,
          "metadata": {},
          "output_type": "execute_result"
        }
      ],
      "source": [
        "pd.DataFrame(data=[h,i,j,k],\n",
        "            index=['1st','2nd','3rd','4th'],\n",
        "            columns=['one','two','three','four']) #index->행이름, columns-> 열이름"
      ]
    },
    {
      "cell_type": "code",
      "execution_count": null,
      "metadata": {
        "id": "m3GuUlUphpL2",
        "outputId": "bb0e29ea-f13d-48b8-a099-88a23a3ee138"
      },
      "outputs": [
        {
          "data": {
            "text/plain": [
              "[[1.0, 2.0, 3.0, 4.0],\n",
              " [4.0, 3.0, 2.0, 1.0],\n",
              " [5.0, 6.0, 7.0, 8.0],\n",
              " [8.0, 7.0, 6.0, 5.0]]"
            ]
          },
          "execution_count": 70,
          "metadata": {},
          "output_type": "execute_result"
        }
      ],
      "source": [
        "e= [[1.0,2.0,3.0,4.0],\n",
        "    [4.0,3.0,2.0,1.0],\n",
        "    [5.0,6.0,7.0,8.0],\n",
        "    [8.0,7.0,6.0,5.0]]\n",
        "e"
      ]
    },
    {
      "cell_type": "code",
      "execution_count": null,
      "metadata": {
        "id": "TUd3k71ehpL2",
        "outputId": "1b5a2d1f-580e-49d7-f673-601186b19b22"
      },
      "outputs": [
        {
          "data": {
            "text/html": [
              "<div>\n",
              "<style scoped>\n",
              "    .dataframe tbody tr th:only-of-type {\n",
              "        vertical-align: middle;\n",
              "    }\n",
              "\n",
              "    .dataframe tbody tr th {\n",
              "        vertical-align: top;\n",
              "    }\n",
              "\n",
              "    .dataframe thead th {\n",
              "        text-align: right;\n",
              "    }\n",
              "</style>\n",
              "<table border=\"1\" class=\"dataframe\">\n",
              "  <thead>\n",
              "    <tr style=\"text-align: right;\">\n",
              "      <th></th>\n",
              "      <th>0</th>\n",
              "      <th>1</th>\n",
              "      <th>2</th>\n",
              "      <th>3</th>\n",
              "    </tr>\n",
              "  </thead>\n",
              "  <tbody>\n",
              "    <tr>\n",
              "      <td>0</td>\n",
              "      <td>1.0</td>\n",
              "      <td>2.0</td>\n",
              "      <td>3.0</td>\n",
              "      <td>4.0</td>\n",
              "    </tr>\n",
              "    <tr>\n",
              "      <td>1</td>\n",
              "      <td>4.0</td>\n",
              "      <td>3.0</td>\n",
              "      <td>2.0</td>\n",
              "      <td>1.0</td>\n",
              "    </tr>\n",
              "    <tr>\n",
              "      <td>2</td>\n",
              "      <td>5.0</td>\n",
              "      <td>6.0</td>\n",
              "      <td>7.0</td>\n",
              "      <td>8.0</td>\n",
              "    </tr>\n",
              "    <tr>\n",
              "      <td>3</td>\n",
              "      <td>8.0</td>\n",
              "      <td>7.0</td>\n",
              "      <td>6.0</td>\n",
              "      <td>5.0</td>\n",
              "    </tr>\n",
              "  </tbody>\n",
              "</table>\n",
              "</div>"
            ],
            "text/plain": [
              "     0    1    2    3\n",
              "0  1.0  2.0  3.0  4.0\n",
              "1  4.0  3.0  2.0  1.0\n",
              "2  5.0  6.0  7.0  8.0\n",
              "3  8.0  7.0  6.0  5.0"
            ]
          },
          "execution_count": 71,
          "metadata": {},
          "output_type": "execute_result"
        }
      ],
      "source": [
        "pd.DataFrame(data=e)"
      ]
    },
    {
      "cell_type": "markdown",
      "metadata": {
        "id": "jRfJd7ONhpL2"
      },
      "source": [
        "**딕셔너리 이용한 DataFrame 만들기**\n",
        "\n",
        "* 리스트와 차이점: 리스트는 가로로 그대로 진행되지만 딕셔너리는 키가 컬럼이름으로 간다!\n",
        "\n",
        "* 딕셔너리로 시리즈로 만들때: 키가 인덱스로!\n",
        "* 딕셔너리로 데이터프레임 만들때: 키가 columns로!"
      ]
    },
    {
      "cell_type": "code",
      "execution_count": null,
      "metadata": {
        "id": "JdMdGtJYhpL2",
        "outputId": "8c787071-b974-47b9-c8b6-5e9a27e916dc"
      },
      "outputs": [
        {
          "data": {
            "text/plain": [
              "{'one': [1.0, 2.0, 3.0, 4.0],\n",
              " 'two': [4.0, 3.0, 2.0, 1.0],\n",
              " 'three': [5.0, 6.0, 7.0, 8.0],\n",
              " 'four': [8.0, 7.0, 6.0, 5.0]}"
            ]
          },
          "execution_count": 72,
          "metadata": {},
          "output_type": "execute_result"
        }
      ],
      "source": [
        "a= {'one':[1.0,2.0,3.0,4.0],\n",
        "   'two':[4.0,3.0,2.0,1.0],\n",
        "   'three':[5.0,6.0,7.0,8.0],\n",
        "   'four':[8.0,7.0,6.0,5.0]}\n",
        "a"
      ]
    },
    {
      "cell_type": "code",
      "execution_count": null,
      "metadata": {
        "id": "wes2wIHehpL2",
        "outputId": "7c36c98f-21f2-4a7f-92a1-55954967ef71"
      },
      "outputs": [
        {
          "data": {
            "text/html": [
              "<div>\n",
              "<style scoped>\n",
              "    .dataframe tbody tr th:only-of-type {\n",
              "        vertical-align: middle;\n",
              "    }\n",
              "\n",
              "    .dataframe tbody tr th {\n",
              "        vertical-align: top;\n",
              "    }\n",
              "\n",
              "    .dataframe thead th {\n",
              "        text-align: right;\n",
              "    }\n",
              "</style>\n",
              "<table border=\"1\" class=\"dataframe\">\n",
              "  <thead>\n",
              "    <tr style=\"text-align: right;\">\n",
              "      <th></th>\n",
              "      <th>one</th>\n",
              "      <th>two</th>\n",
              "      <th>three</th>\n",
              "      <th>four</th>\n",
              "    </tr>\n",
              "  </thead>\n",
              "  <tbody>\n",
              "    <tr>\n",
              "      <td>0</td>\n",
              "      <td>1.0</td>\n",
              "      <td>4.0</td>\n",
              "      <td>5.0</td>\n",
              "      <td>8.0</td>\n",
              "    </tr>\n",
              "    <tr>\n",
              "      <td>1</td>\n",
              "      <td>2.0</td>\n",
              "      <td>3.0</td>\n",
              "      <td>6.0</td>\n",
              "      <td>7.0</td>\n",
              "    </tr>\n",
              "    <tr>\n",
              "      <td>2</td>\n",
              "      <td>3.0</td>\n",
              "      <td>2.0</td>\n",
              "      <td>7.0</td>\n",
              "      <td>6.0</td>\n",
              "    </tr>\n",
              "    <tr>\n",
              "      <td>3</td>\n",
              "      <td>4.0</td>\n",
              "      <td>1.0</td>\n",
              "      <td>8.0</td>\n",
              "      <td>5.0</td>\n",
              "    </tr>\n",
              "  </tbody>\n",
              "</table>\n",
              "</div>"
            ],
            "text/plain": [
              "   one  two  three  four\n",
              "0  1.0  4.0    5.0   8.0\n",
              "1  2.0  3.0    6.0   7.0\n",
              "2  3.0  2.0    7.0   6.0\n",
              "3  4.0  1.0    8.0   5.0"
            ]
          },
          "execution_count": 73,
          "metadata": {},
          "output_type": "execute_result"
        }
      ],
      "source": [
        "pd.DataFrame(a) #리스트는 가로로 그대로 진행되지만 딕셔너리는 키가 컬럼이름으로 간다!"
      ]
    },
    {
      "cell_type": "code",
      "execution_count": null,
      "metadata": {
        "id": "C9gxQzHVhpL3",
        "outputId": "7ab39c55-4159-4f38-89ce-c52e06a41f09"
      },
      "outputs": [
        {
          "data": {
            "text/html": [
              "<div>\n",
              "<style scoped>\n",
              "    .dataframe tbody tr th:only-of-type {\n",
              "        vertical-align: middle;\n",
              "    }\n",
              "\n",
              "    .dataframe tbody tr th {\n",
              "        vertical-align: top;\n",
              "    }\n",
              "\n",
              "    .dataframe thead th {\n",
              "        text-align: right;\n",
              "    }\n",
              "</style>\n",
              "<table border=\"1\" class=\"dataframe\">\n",
              "  <thead>\n",
              "    <tr style=\"text-align: right;\">\n",
              "      <th></th>\n",
              "      <th>one</th>\n",
              "      <th>two</th>\n",
              "      <th>three</th>\n",
              "      <th>four</th>\n",
              "    </tr>\n",
              "  </thead>\n",
              "  <tbody>\n",
              "    <tr>\n",
              "      <td>1st</td>\n",
              "      <td>1.0</td>\n",
              "      <td>4.0</td>\n",
              "      <td>5.0</td>\n",
              "      <td>8.0</td>\n",
              "    </tr>\n",
              "    <tr>\n",
              "      <td>2nd</td>\n",
              "      <td>2.0</td>\n",
              "      <td>3.0</td>\n",
              "      <td>6.0</td>\n",
              "      <td>7.0</td>\n",
              "    </tr>\n",
              "    <tr>\n",
              "      <td>3rd</td>\n",
              "      <td>3.0</td>\n",
              "      <td>2.0</td>\n",
              "      <td>7.0</td>\n",
              "      <td>6.0</td>\n",
              "    </tr>\n",
              "    <tr>\n",
              "      <td>4th</td>\n",
              "      <td>4.0</td>\n",
              "      <td>1.0</td>\n",
              "      <td>8.0</td>\n",
              "      <td>5.0</td>\n",
              "    </tr>\n",
              "  </tbody>\n",
              "</table>\n",
              "</div>"
            ],
            "text/plain": [
              "     one  two  three  four\n",
              "1st  1.0  4.0    5.0   8.0\n",
              "2nd  2.0  3.0    6.0   7.0\n",
              "3rd  3.0  2.0    7.0   6.0\n",
              "4th  4.0  1.0    8.0   5.0"
            ]
          },
          "execution_count": 74,
          "metadata": {},
          "output_type": "execute_result"
        }
      ],
      "source": [
        "pd.DataFrame(a, index=['1st','2nd','3rd','4th']) #그럼 딕셔너리로 만들면 columns 만들어도 되나?"
      ]
    },
    {
      "cell_type": "code",
      "execution_count": null,
      "metadata": {
        "id": "ljjRUJlxhpL3",
        "outputId": "46543fc0-0441-4bdc-ff1e-671f1ef7d8fd"
      },
      "outputs": [
        {
          "data": {
            "text/html": [
              "<div>\n",
              "<style scoped>\n",
              "    .dataframe tbody tr th:only-of-type {\n",
              "        vertical-align: middle;\n",
              "    }\n",
              "\n",
              "    .dataframe tbody tr th {\n",
              "        vertical-align: top;\n",
              "    }\n",
              "\n",
              "    .dataframe thead th {\n",
              "        text-align: right;\n",
              "    }\n",
              "</style>\n",
              "<table border=\"1\" class=\"dataframe\">\n",
              "  <thead>\n",
              "    <tr style=\"text-align: right;\">\n",
              "      <th></th>\n",
              "      <th>one</th>\n",
              "      <th>111</th>\n",
              "      <th>two</th>\n",
              "    </tr>\n",
              "  </thead>\n",
              "  <tbody>\n",
              "    <tr>\n",
              "      <td>1st</td>\n",
              "      <td>1.0</td>\n",
              "      <td>NaN</td>\n",
              "      <td>4.0</td>\n",
              "    </tr>\n",
              "    <tr>\n",
              "      <td>2nd</td>\n",
              "      <td>2.0</td>\n",
              "      <td>NaN</td>\n",
              "      <td>3.0</td>\n",
              "    </tr>\n",
              "    <tr>\n",
              "      <td>3rd</td>\n",
              "      <td>3.0</td>\n",
              "      <td>NaN</td>\n",
              "      <td>2.0</td>\n",
              "    </tr>\n",
              "    <tr>\n",
              "      <td>4th</td>\n",
              "      <td>4.0</td>\n",
              "      <td>NaN</td>\n",
              "      <td>1.0</td>\n",
              "    </tr>\n",
              "  </tbody>\n",
              "</table>\n",
              "</div>"
            ],
            "text/plain": [
              "     one  111  two\n",
              "1st  1.0  NaN  4.0\n",
              "2nd  2.0  NaN  3.0\n",
              "3rd  3.0  NaN  2.0\n",
              "4th  4.0  NaN  1.0"
            ]
          },
          "execution_count": 92,
          "metadata": {},
          "output_type": "execute_result"
        }
      ],
      "source": [
        "# 딕셔너리도 dataframe의 옵션으로 columns 역할이 있다! -> 순서지정용 \n",
        "\n",
        "pd.DataFrame(a, index=['1st','2nd','3rd','4th'],\n",
        "            columns=['one','111','two',]) "
      ]
    },
    {
      "cell_type": "code",
      "execution_count": null,
      "metadata": {
        "id": "M1SKw8OPhpL3",
        "outputId": "23379f7a-e98e-4ac3-c371-a46a4b4c45f8"
      },
      "outputs": [
        {
          "data": {
            "text/html": [
              "<div>\n",
              "<style scoped>\n",
              "    .dataframe tbody tr th:only-of-type {\n",
              "        vertical-align: middle;\n",
              "    }\n",
              "\n",
              "    .dataframe tbody tr th {\n",
              "        vertical-align: top;\n",
              "    }\n",
              "\n",
              "    .dataframe thead th {\n",
              "        text-align: right;\n",
              "    }\n",
              "</style>\n",
              "<table border=\"1\" class=\"dataframe\">\n",
              "  <thead>\n",
              "    <tr style=\"text-align: right;\">\n",
              "      <th></th>\n",
              "      <th>three</th>\n",
              "      <th>two</th>\n",
              "    </tr>\n",
              "  </thead>\n",
              "  <tbody>\n",
              "    <tr>\n",
              "      <td>1st</td>\n",
              "      <td>5.0</td>\n",
              "      <td>4.0</td>\n",
              "    </tr>\n",
              "    <tr>\n",
              "      <td>2nd</td>\n",
              "      <td>6.0</td>\n",
              "      <td>3.0</td>\n",
              "    </tr>\n",
              "    <tr>\n",
              "      <td>3rd</td>\n",
              "      <td>7.0</td>\n",
              "      <td>2.0</td>\n",
              "    </tr>\n",
              "    <tr>\n",
              "      <td>4th</td>\n",
              "      <td>8.0</td>\n",
              "      <td>1.0</td>\n",
              "    </tr>\n",
              "  </tbody>\n",
              "</table>\n",
              "</div>"
            ],
            "text/plain": [
              "     three  two\n",
              "1st    5.0  4.0\n",
              "2nd    6.0  3.0\n",
              "3rd    7.0  2.0\n",
              "4th    8.0  1.0"
            ]
          },
          "execution_count": 76,
          "metadata": {},
          "output_type": "execute_result"
        }
      ],
      "source": [
        "# 딕셔너리도 dataframe의 옵션으로 columns 역할이 있다! -> 특정열만 가져오기\n",
        "pd.DataFrame(a, index=['1st','2nd','3rd','4th'],\n",
        "            columns=['three','two']) "
      ]
    },
    {
      "cell_type": "code",
      "execution_count": null,
      "metadata": {
        "id": "7bLmOknMhpL3",
        "outputId": "c20fcced-7e6c-4282-e92d-cae5c218bcb9"
      },
      "outputs": [
        {
          "data": {
            "text/html": [
              "<div>\n",
              "<style scoped>\n",
              "    .dataframe tbody tr th:only-of-type {\n",
              "        vertical-align: middle;\n",
              "    }\n",
              "\n",
              "    .dataframe tbody tr th {\n",
              "        vertical-align: top;\n",
              "    }\n",
              "\n",
              "    .dataframe thead th {\n",
              "        text-align: right;\n",
              "    }\n",
              "</style>\n",
              "<table border=\"1\" class=\"dataframe\">\n",
              "  <thead>\n",
              "    <tr style=\"text-align: right;\">\n",
              "      <th></th>\n",
              "      <th>three</th>\n",
              "      <th>111</th>\n",
              "      <th>two</th>\n",
              "    </tr>\n",
              "  </thead>\n",
              "  <tbody>\n",
              "    <tr>\n",
              "      <td>1st</td>\n",
              "      <td>5.0</td>\n",
              "      <td>NaN</td>\n",
              "      <td>4.0</td>\n",
              "    </tr>\n",
              "    <tr>\n",
              "      <td>2nd</td>\n",
              "      <td>6.0</td>\n",
              "      <td>NaN</td>\n",
              "      <td>3.0</td>\n",
              "    </tr>\n",
              "    <tr>\n",
              "      <td>3rd</td>\n",
              "      <td>7.0</td>\n",
              "      <td>NaN</td>\n",
              "      <td>2.0</td>\n",
              "    </tr>\n",
              "    <tr>\n",
              "      <td>4th</td>\n",
              "      <td>8.0</td>\n",
              "      <td>NaN</td>\n",
              "      <td>1.0</td>\n",
              "    </tr>\n",
              "  </tbody>\n",
              "</table>\n",
              "</div>"
            ],
            "text/plain": [
              "     three  111  two\n",
              "1st    5.0  NaN  4.0\n",
              "2nd    6.0  NaN  3.0\n",
              "3rd    7.0  NaN  2.0\n",
              "4th    8.0  NaN  1.0"
            ]
          },
          "execution_count": 77,
          "metadata": {},
          "output_type": "execute_result"
        }
      ],
      "source": [
        "# 딕셔너리도 dataframe의 옵션으로 columns 역할이 있다! -> 새로운 열 만들기\n",
        "pd.DataFrame(a, index=['1st','2nd','3rd','4th'],\n",
        "            columns=['three','111','two']) "
      ]
    },
    {
      "cell_type": "code",
      "execution_count": null,
      "metadata": {
        "id": "Hl2TB5KShpL4",
        "outputId": "210b1513-6129-45e0-e086-292ef884b4e6"
      },
      "outputs": [
        {
          "ename": "ValueError",
          "evalue": "Shape of passed values is (4, 3), indices imply (3, 3)",
          "output_type": "error",
          "traceback": [
            "\u001b[1;31m---------------------------------------------------------------------------\u001b[0m",
            "\u001b[1;31mValueError\u001b[0m                                Traceback (most recent call last)",
            "\u001b[1;32m~\\Anaconda3\\lib\\site-packages\\pandas\\core\\internals\\managers.py\u001b[0m in \u001b[0;36mcreate_block_manager_from_arrays\u001b[1;34m(arrays, names, axes)\u001b[0m\n\u001b[0;32m   1694\u001b[0m         \u001b[0mblocks\u001b[0m \u001b[1;33m=\u001b[0m \u001b[0mform_blocks\u001b[0m\u001b[1;33m(\u001b[0m\u001b[0marrays\u001b[0m\u001b[1;33m,\u001b[0m \u001b[0mnames\u001b[0m\u001b[1;33m,\u001b[0m \u001b[0maxes\u001b[0m\u001b[1;33m)\u001b[0m\u001b[1;33m\u001b[0m\u001b[1;33m\u001b[0m\u001b[0m\n\u001b[1;32m-> 1695\u001b[1;33m         \u001b[0mmgr\u001b[0m \u001b[1;33m=\u001b[0m \u001b[0mBlockManager\u001b[0m\u001b[1;33m(\u001b[0m\u001b[0mblocks\u001b[0m\u001b[1;33m,\u001b[0m \u001b[0maxes\u001b[0m\u001b[1;33m)\u001b[0m\u001b[1;33m\u001b[0m\u001b[1;33m\u001b[0m\u001b[0m\n\u001b[0m\u001b[0;32m   1696\u001b[0m         \u001b[0mmgr\u001b[0m\u001b[1;33m.\u001b[0m\u001b[0m_consolidate_inplace\u001b[0m\u001b[1;33m(\u001b[0m\u001b[1;33m)\u001b[0m\u001b[1;33m\u001b[0m\u001b[1;33m\u001b[0m\u001b[0m\n",
            "\u001b[1;32m~\\Anaconda3\\lib\\site-packages\\pandas\\core\\internals\\managers.py\u001b[0m in \u001b[0;36m__init__\u001b[1;34m(self, blocks, axes, do_integrity_check)\u001b[0m\n\u001b[0;32m    142\u001b[0m         \u001b[1;32mif\u001b[0m \u001b[0mdo_integrity_check\u001b[0m\u001b[1;33m:\u001b[0m\u001b[1;33m\u001b[0m\u001b[1;33m\u001b[0m\u001b[0m\n\u001b[1;32m--> 143\u001b[1;33m             \u001b[0mself\u001b[0m\u001b[1;33m.\u001b[0m\u001b[0m_verify_integrity\u001b[0m\u001b[1;33m(\u001b[0m\u001b[1;33m)\u001b[0m\u001b[1;33m\u001b[0m\u001b[1;33m\u001b[0m\u001b[0m\n\u001b[0m\u001b[0;32m    144\u001b[0m \u001b[1;33m\u001b[0m\u001b[0m\n",
            "\u001b[1;32m~\\Anaconda3\\lib\\site-packages\\pandas\\core\\internals\\managers.py\u001b[0m in \u001b[0;36m_verify_integrity\u001b[1;34m(self)\u001b[0m\n\u001b[0;32m    344\u001b[0m             \u001b[1;32mif\u001b[0m \u001b[0mblock\u001b[0m\u001b[1;33m.\u001b[0m\u001b[0m_verify_integrity\u001b[0m \u001b[1;32mand\u001b[0m \u001b[0mblock\u001b[0m\u001b[1;33m.\u001b[0m\u001b[0mshape\u001b[0m\u001b[1;33m[\u001b[0m\u001b[1;36m1\u001b[0m\u001b[1;33m:\u001b[0m\u001b[1;33m]\u001b[0m \u001b[1;33m!=\u001b[0m \u001b[0mmgr_shape\u001b[0m\u001b[1;33m[\u001b[0m\u001b[1;36m1\u001b[0m\u001b[1;33m:\u001b[0m\u001b[1;33m]\u001b[0m\u001b[1;33m:\u001b[0m\u001b[1;33m\u001b[0m\u001b[1;33m\u001b[0m\u001b[0m\n\u001b[1;32m--> 345\u001b[1;33m                 \u001b[0mconstruction_error\u001b[0m\u001b[1;33m(\u001b[0m\u001b[0mtot_items\u001b[0m\u001b[1;33m,\u001b[0m \u001b[0mblock\u001b[0m\u001b[1;33m.\u001b[0m\u001b[0mshape\u001b[0m\u001b[1;33m[\u001b[0m\u001b[1;36m1\u001b[0m\u001b[1;33m:\u001b[0m\u001b[1;33m]\u001b[0m\u001b[1;33m,\u001b[0m \u001b[0mself\u001b[0m\u001b[1;33m.\u001b[0m\u001b[0maxes\u001b[0m\u001b[1;33m)\u001b[0m\u001b[1;33m\u001b[0m\u001b[1;33m\u001b[0m\u001b[0m\n\u001b[0m\u001b[0;32m    346\u001b[0m         \u001b[1;32mif\u001b[0m \u001b[0mlen\u001b[0m\u001b[1;33m(\u001b[0m\u001b[0mself\u001b[0m\u001b[1;33m.\u001b[0m\u001b[0mitems\u001b[0m\u001b[1;33m)\u001b[0m \u001b[1;33m!=\u001b[0m \u001b[0mtot_items\u001b[0m\u001b[1;33m:\u001b[0m\u001b[1;33m\u001b[0m\u001b[1;33m\u001b[0m\u001b[0m\n",
            "\u001b[1;32m~\\Anaconda3\\lib\\site-packages\\pandas\\core\\internals\\managers.py\u001b[0m in \u001b[0;36mconstruction_error\u001b[1;34m(tot_items, block_shape, axes, e)\u001b[0m\n\u001b[0;32m   1718\u001b[0m     raise ValueError(\n\u001b[1;32m-> 1719\u001b[1;33m         \u001b[1;34m\"Shape of passed values is {0}, indices imply {1}\"\u001b[0m\u001b[1;33m.\u001b[0m\u001b[0mformat\u001b[0m\u001b[1;33m(\u001b[0m\u001b[0mpassed\u001b[0m\u001b[1;33m,\u001b[0m \u001b[0mimplied\u001b[0m\u001b[1;33m)\u001b[0m\u001b[1;33m\u001b[0m\u001b[1;33m\u001b[0m\u001b[0m\n\u001b[0m\u001b[0;32m   1720\u001b[0m     )\n",
            "\u001b[1;31mValueError\u001b[0m: Shape of passed values is (4, 3), indices imply (3, 3)",
            "\nDuring handling of the above exception, another exception occurred:\n",
            "\u001b[1;31mValueError\u001b[0m                                Traceback (most recent call last)",
            "\u001b[1;32m<ipython-input-78-b35b7fcd5c7d>\u001b[0m in \u001b[0;36m<module>\u001b[1;34m\u001b[0m\n\u001b[0;32m      2\u001b[0m \u001b[1;33m\u001b[0m\u001b[0m\n\u001b[0;32m      3\u001b[0m pd.DataFrame(a, index=['1st','2nd','3rd'],\n\u001b[1;32m----> 4\u001b[1;33m             columns=['three','111','two']) \n\u001b[0m\u001b[0;32m      5\u001b[0m \u001b[1;33m\u001b[0m\u001b[0m\n\u001b[0;32m      6\u001b[0m \u001b[1;31m#인덱스를 안쓰거나 넣을려면 개수 맞추기!\u001b[0m\u001b[1;33m\u001b[0m\u001b[1;33m\u001b[0m\u001b[1;33m\u001b[0m\u001b[0m\n",
            "\u001b[1;32m~\\Anaconda3\\lib\\site-packages\\pandas\\core\\frame.py\u001b[0m in \u001b[0;36m__init__\u001b[1;34m(self, data, index, columns, dtype, copy)\u001b[0m\n\u001b[0;32m    409\u001b[0m             )\n\u001b[0;32m    410\u001b[0m         \u001b[1;32melif\u001b[0m \u001b[0misinstance\u001b[0m\u001b[1;33m(\u001b[0m\u001b[0mdata\u001b[0m\u001b[1;33m,\u001b[0m \u001b[0mdict\u001b[0m\u001b[1;33m)\u001b[0m\u001b[1;33m:\u001b[0m\u001b[1;33m\u001b[0m\u001b[1;33m\u001b[0m\u001b[0m\n\u001b[1;32m--> 411\u001b[1;33m             \u001b[0mmgr\u001b[0m \u001b[1;33m=\u001b[0m \u001b[0minit_dict\u001b[0m\u001b[1;33m(\u001b[0m\u001b[0mdata\u001b[0m\u001b[1;33m,\u001b[0m \u001b[0mindex\u001b[0m\u001b[1;33m,\u001b[0m \u001b[0mcolumns\u001b[0m\u001b[1;33m,\u001b[0m \u001b[0mdtype\u001b[0m\u001b[1;33m=\u001b[0m\u001b[0mdtype\u001b[0m\u001b[1;33m)\u001b[0m\u001b[1;33m\u001b[0m\u001b[1;33m\u001b[0m\u001b[0m\n\u001b[0m\u001b[0;32m    412\u001b[0m         \u001b[1;32melif\u001b[0m \u001b[0misinstance\u001b[0m\u001b[1;33m(\u001b[0m\u001b[0mdata\u001b[0m\u001b[1;33m,\u001b[0m \u001b[0mma\u001b[0m\u001b[1;33m.\u001b[0m\u001b[0mMaskedArray\u001b[0m\u001b[1;33m)\u001b[0m\u001b[1;33m:\u001b[0m\u001b[1;33m\u001b[0m\u001b[1;33m\u001b[0m\u001b[0m\n\u001b[0;32m    413\u001b[0m             \u001b[1;32mimport\u001b[0m \u001b[0mnumpy\u001b[0m\u001b[1;33m.\u001b[0m\u001b[0mma\u001b[0m\u001b[1;33m.\u001b[0m\u001b[0mmrecords\u001b[0m \u001b[1;32mas\u001b[0m \u001b[0mmrecords\u001b[0m\u001b[1;33m\u001b[0m\u001b[1;33m\u001b[0m\u001b[0m\n",
            "\u001b[1;32m~\\Anaconda3\\lib\\site-packages\\pandas\\core\\internals\\construction.py\u001b[0m in \u001b[0;36minit_dict\u001b[1;34m(data, index, columns, dtype)\u001b[0m\n\u001b[0;32m    255\u001b[0m             \u001b[0marr\u001b[0m \u001b[1;32mif\u001b[0m \u001b[1;32mnot\u001b[0m \u001b[0mis_datetime64tz_dtype\u001b[0m\u001b[1;33m(\u001b[0m\u001b[0marr\u001b[0m\u001b[1;33m)\u001b[0m \u001b[1;32melse\u001b[0m \u001b[0marr\u001b[0m\u001b[1;33m.\u001b[0m\u001b[0mcopy\u001b[0m\u001b[1;33m(\u001b[0m\u001b[1;33m)\u001b[0m \u001b[1;32mfor\u001b[0m \u001b[0marr\u001b[0m \u001b[1;32min\u001b[0m \u001b[0marrays\u001b[0m\u001b[1;33m\u001b[0m\u001b[1;33m\u001b[0m\u001b[0m\n\u001b[0;32m    256\u001b[0m         ]\n\u001b[1;32m--> 257\u001b[1;33m     \u001b[1;32mreturn\u001b[0m \u001b[0marrays_to_mgr\u001b[0m\u001b[1;33m(\u001b[0m\u001b[0marrays\u001b[0m\u001b[1;33m,\u001b[0m \u001b[0mdata_names\u001b[0m\u001b[1;33m,\u001b[0m \u001b[0mindex\u001b[0m\u001b[1;33m,\u001b[0m \u001b[0mcolumns\u001b[0m\u001b[1;33m,\u001b[0m \u001b[0mdtype\u001b[0m\u001b[1;33m=\u001b[0m\u001b[0mdtype\u001b[0m\u001b[1;33m)\u001b[0m\u001b[1;33m\u001b[0m\u001b[1;33m\u001b[0m\u001b[0m\n\u001b[0m\u001b[0;32m    258\u001b[0m \u001b[1;33m\u001b[0m\u001b[0m\n\u001b[0;32m    259\u001b[0m \u001b[1;33m\u001b[0m\u001b[0m\n",
            "\u001b[1;32m~\\Anaconda3\\lib\\site-packages\\pandas\\core\\internals\\construction.py\u001b[0m in \u001b[0;36marrays_to_mgr\u001b[1;34m(arrays, arr_names, index, columns, dtype)\u001b[0m\n\u001b[0;32m     85\u001b[0m     \u001b[0maxes\u001b[0m \u001b[1;33m=\u001b[0m \u001b[1;33m[\u001b[0m\u001b[0mensure_index\u001b[0m\u001b[1;33m(\u001b[0m\u001b[0mcolumns\u001b[0m\u001b[1;33m)\u001b[0m\u001b[1;33m,\u001b[0m \u001b[0mindex\u001b[0m\u001b[1;33m]\u001b[0m\u001b[1;33m\u001b[0m\u001b[1;33m\u001b[0m\u001b[0m\n\u001b[0;32m     86\u001b[0m \u001b[1;33m\u001b[0m\u001b[0m\n\u001b[1;32m---> 87\u001b[1;33m     \u001b[1;32mreturn\u001b[0m \u001b[0mcreate_block_manager_from_arrays\u001b[0m\u001b[1;33m(\u001b[0m\u001b[0marrays\u001b[0m\u001b[1;33m,\u001b[0m \u001b[0marr_names\u001b[0m\u001b[1;33m,\u001b[0m \u001b[0maxes\u001b[0m\u001b[1;33m)\u001b[0m\u001b[1;33m\u001b[0m\u001b[1;33m\u001b[0m\u001b[0m\n\u001b[0m\u001b[0;32m     88\u001b[0m \u001b[1;33m\u001b[0m\u001b[0m\n\u001b[0;32m     89\u001b[0m \u001b[1;33m\u001b[0m\u001b[0m\n",
            "\u001b[1;32m~\\Anaconda3\\lib\\site-packages\\pandas\\core\\internals\\managers.py\u001b[0m in \u001b[0;36mcreate_block_manager_from_arrays\u001b[1;34m(arrays, names, axes)\u001b[0m\n\u001b[0;32m   1697\u001b[0m         \u001b[1;32mreturn\u001b[0m \u001b[0mmgr\u001b[0m\u001b[1;33m\u001b[0m\u001b[1;33m\u001b[0m\u001b[0m\n\u001b[0;32m   1698\u001b[0m     \u001b[1;32mexcept\u001b[0m \u001b[0mValueError\u001b[0m \u001b[1;32mas\u001b[0m \u001b[0me\u001b[0m\u001b[1;33m:\u001b[0m\u001b[1;33m\u001b[0m\u001b[1;33m\u001b[0m\u001b[0m\n\u001b[1;32m-> 1699\u001b[1;33m         \u001b[0mconstruction_error\u001b[0m\u001b[1;33m(\u001b[0m\u001b[0mlen\u001b[0m\u001b[1;33m(\u001b[0m\u001b[0marrays\u001b[0m\u001b[1;33m)\u001b[0m\u001b[1;33m,\u001b[0m \u001b[0marrays\u001b[0m\u001b[1;33m[\u001b[0m\u001b[1;36m0\u001b[0m\u001b[1;33m]\u001b[0m\u001b[1;33m.\u001b[0m\u001b[0mshape\u001b[0m\u001b[1;33m,\u001b[0m \u001b[0maxes\u001b[0m\u001b[1;33m,\u001b[0m \u001b[0me\u001b[0m\u001b[1;33m)\u001b[0m\u001b[1;33m\u001b[0m\u001b[1;33m\u001b[0m\u001b[0m\n\u001b[0m\u001b[0;32m   1700\u001b[0m \u001b[1;33m\u001b[0m\u001b[0m\n\u001b[0;32m   1701\u001b[0m \u001b[1;33m\u001b[0m\u001b[0m\n",
            "\u001b[1;32m~\\Anaconda3\\lib\\site-packages\\pandas\\core\\internals\\managers.py\u001b[0m in \u001b[0;36mconstruction_error\u001b[1;34m(tot_items, block_shape, axes, e)\u001b[0m\n\u001b[0;32m   1717\u001b[0m         \u001b[1;32mraise\u001b[0m \u001b[0mValueError\u001b[0m\u001b[1;33m(\u001b[0m\u001b[1;34m\"Empty data passed with indices specified.\"\u001b[0m\u001b[1;33m)\u001b[0m\u001b[1;33m\u001b[0m\u001b[1;33m\u001b[0m\u001b[0m\n\u001b[0;32m   1718\u001b[0m     raise ValueError(\n\u001b[1;32m-> 1719\u001b[1;33m         \u001b[1;34m\"Shape of passed values is {0}, indices imply {1}\"\u001b[0m\u001b[1;33m.\u001b[0m\u001b[0mformat\u001b[0m\u001b[1;33m(\u001b[0m\u001b[0mpassed\u001b[0m\u001b[1;33m,\u001b[0m \u001b[0mimplied\u001b[0m\u001b[1;33m)\u001b[0m\u001b[1;33m\u001b[0m\u001b[1;33m\u001b[0m\u001b[0m\n\u001b[0m\u001b[0;32m   1720\u001b[0m     )\n\u001b[0;32m   1721\u001b[0m \u001b[1;33m\u001b[0m\u001b[0m\n",
            "\u001b[1;31mValueError\u001b[0m: Shape of passed values is (4, 3), indices imply (3, 3)"
          ]
        }
      ],
      "source": [
        "# 그럼 인덱스를 늘리거나 줄이는 것은? -> 에러\n",
        "\n",
        "pd.DataFrame(a, index=['1st','2nd','3rd'],\n",
        "            columns=['three','111','two']) \n",
        "\n",
        "#인덱스를 안쓰거나 넣을려면 개수 맞추기!"
      ]
    },
    {
      "cell_type": "code",
      "execution_count": null,
      "metadata": {
        "scrolled": true,
        "id": "V80f_3SahpL4",
        "outputId": "3a2ebac1-cd52-48f9-a708-6de063c3b07d"
      },
      "outputs": [
        {
          "data": {
            "text/plain": [
              "{'one': {'1st': 1.0, '2nd': 2.0, '3rd': 3.0, '4th': 4.0},\n",
              " 'two': {'1st': 4.0, '2nd': 3.0, '3rd': 2.0, '4th': 1.0},\n",
              " 'three': {'1st': 5.0, '2nd': 6.0, '3rd': 7.0, '4th': 8.0},\n",
              " 'four': {'1st': 8.0, '2nd': 7.0, '3rd': 6.0, '4th': 5.0}}"
            ]
          },
          "execution_count": 80,
          "metadata": {},
          "output_type": "execute_result"
        }
      ],
      "source": [
        "a2={'one':{'1st':1.0,'2nd':2.0,'3rd':3.0,'4th':4.0},\n",
        "   'two':{'1st':4.0,'2nd':3.0,'3rd':2.0,'4th':1.0},\n",
        "   'three':{'1st':5.0,'2nd':6.0,'3rd':7.0,'4th':8.0},\n",
        "   'four':{'1st':8.0,'2nd':7.0,'3rd':6.0,'4th':5.0}}\n",
        "a2"
      ]
    },
    {
      "cell_type": "code",
      "execution_count": null,
      "metadata": {
        "scrolled": true,
        "id": "9ReQn6hAhpL4",
        "outputId": "d7dc0394-f122-43c5-90c9-1c5c2690f93e"
      },
      "outputs": [
        {
          "data": {
            "text/html": [
              "<div>\n",
              "<style scoped>\n",
              "    .dataframe tbody tr th:only-of-type {\n",
              "        vertical-align: middle;\n",
              "    }\n",
              "\n",
              "    .dataframe tbody tr th {\n",
              "        vertical-align: top;\n",
              "    }\n",
              "\n",
              "    .dataframe thead th {\n",
              "        text-align: right;\n",
              "    }\n",
              "</style>\n",
              "<table border=\"1\" class=\"dataframe\">\n",
              "  <thead>\n",
              "    <tr style=\"text-align: right;\">\n",
              "      <th></th>\n",
              "      <th>one</th>\n",
              "      <th>two</th>\n",
              "      <th>three</th>\n",
              "      <th>four</th>\n",
              "    </tr>\n",
              "  </thead>\n",
              "  <tbody>\n",
              "    <tr>\n",
              "      <td>1st</td>\n",
              "      <td>1.0</td>\n",
              "      <td>4.0</td>\n",
              "      <td>5.0</td>\n",
              "      <td>8.0</td>\n",
              "    </tr>\n",
              "    <tr>\n",
              "      <td>2nd</td>\n",
              "      <td>2.0</td>\n",
              "      <td>3.0</td>\n",
              "      <td>6.0</td>\n",
              "      <td>7.0</td>\n",
              "    </tr>\n",
              "    <tr>\n",
              "      <td>3rd</td>\n",
              "      <td>3.0</td>\n",
              "      <td>2.0</td>\n",
              "      <td>7.0</td>\n",
              "      <td>6.0</td>\n",
              "    </tr>\n",
              "    <tr>\n",
              "      <td>4th</td>\n",
              "      <td>4.0</td>\n",
              "      <td>1.0</td>\n",
              "      <td>8.0</td>\n",
              "      <td>5.0</td>\n",
              "    </tr>\n",
              "  </tbody>\n",
              "</table>\n",
              "</div>"
            ],
            "text/plain": [
              "     one  two  three  four\n",
              "1st  1.0  4.0    5.0   8.0\n",
              "2nd  2.0  3.0    6.0   7.0\n",
              "3rd  3.0  2.0    7.0   6.0\n",
              "4th  4.0  1.0    8.0   5.0"
            ]
          },
          "execution_count": 81,
          "metadata": {},
          "output_type": "execute_result"
        }
      ],
      "source": [
        "pd.DataFrame(a2)"
      ]
    },
    {
      "cell_type": "code",
      "execution_count": null,
      "metadata": {
        "id": "54etVXWchpL4"
      },
      "outputs": [],
      "source": [
        "df2=pd.DataFrame(a2)"
      ]
    },
    {
      "cell_type": "code",
      "execution_count": null,
      "metadata": {
        "id": "Am_bcEnrhpL4",
        "outputId": "66acc143-6c08-470e-d5db-bc4bda5d32d5"
      },
      "outputs": [
        {
          "data": {
            "text/html": [
              "<div>\n",
              "<style scoped>\n",
              "    .dataframe tbody tr th:only-of-type {\n",
              "        vertical-align: middle;\n",
              "    }\n",
              "\n",
              "    .dataframe tbody tr th {\n",
              "        vertical-align: top;\n",
              "    }\n",
              "\n",
              "    .dataframe thead th {\n",
              "        text-align: right;\n",
              "    }\n",
              "</style>\n",
              "<table border=\"1\" class=\"dataframe\">\n",
              "  <thead>\n",
              "    <tr style=\"text-align: right;\">\n",
              "      <th></th>\n",
              "      <th>1st</th>\n",
              "      <th>2nd</th>\n",
              "      <th>3rd</th>\n",
              "      <th>4th</th>\n",
              "    </tr>\n",
              "  </thead>\n",
              "  <tbody>\n",
              "    <tr>\n",
              "      <td>one</td>\n",
              "      <td>1.0</td>\n",
              "      <td>2.0</td>\n",
              "      <td>3.0</td>\n",
              "      <td>4.0</td>\n",
              "    </tr>\n",
              "    <tr>\n",
              "      <td>two</td>\n",
              "      <td>4.0</td>\n",
              "      <td>3.0</td>\n",
              "      <td>2.0</td>\n",
              "      <td>1.0</td>\n",
              "    </tr>\n",
              "    <tr>\n",
              "      <td>three</td>\n",
              "      <td>5.0</td>\n",
              "      <td>6.0</td>\n",
              "      <td>7.0</td>\n",
              "      <td>8.0</td>\n",
              "    </tr>\n",
              "    <tr>\n",
              "      <td>four</td>\n",
              "      <td>8.0</td>\n",
              "      <td>7.0</td>\n",
              "      <td>6.0</td>\n",
              "      <td>5.0</td>\n",
              "    </tr>\n",
              "  </tbody>\n",
              "</table>\n",
              "</div>"
            ],
            "text/plain": [
              "       1st  2nd  3rd  4th\n",
              "one    1.0  2.0  3.0  4.0\n",
              "two    4.0  3.0  2.0  1.0\n",
              "three  5.0  6.0  7.0  8.0\n",
              "four   8.0  7.0  6.0  5.0"
            ]
          },
          "execution_count": 83,
          "metadata": {},
          "output_type": "execute_result"
        }
      ],
      "source": [
        "df2.T #행과 열이 바뀜 (행렬전치)"
      ]
    },
    {
      "cell_type": "code",
      "execution_count": null,
      "metadata": {
        "id": "VkXQCh7KhpL5"
      },
      "outputs": [],
      "source": [
        ""
      ]
    },
    {
      "cell_type": "code",
      "execution_count": null,
      "metadata": {
        "id": "X6gqSHAKhpL6"
      },
      "outputs": [],
      "source": [
        ""
      ]
    },
    {
      "cell_type": "code",
      "execution_count": null,
      "metadata": {
        "id": "yIhlXeyvhpL6"
      },
      "outputs": [],
      "source": [
        ""
      ]
    }
  ],
  "metadata": {
    "kernelspec": {
      "display_name": "Python 3",
      "language": "python",
      "name": "python3"
    },
    "language_info": {
      "codemirror_mode": {
        "name": "ipython",
        "version": 3
      },
      "file_extension": ".py",
      "mimetype": "text/x-python",
      "name": "python",
      "nbconvert_exporter": "python",
      "pygments_lexer": "ipython3",
      "version": "3.7.4"
    },
    "colab": {
      "name": "데처프_4주차.ipynb",
      "provenance": [],
      "include_colab_link": true
    }
  },
  "nbformat": 4,
  "nbformat_minor": 0
}